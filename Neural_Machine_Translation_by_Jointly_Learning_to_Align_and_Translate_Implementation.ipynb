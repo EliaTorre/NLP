{
  "nbformat": 4,
  "nbformat_minor": 0,
  "metadata": {
    "colab": {
      "name": "Neural Machine Translation by Jointly Learning to Align and Translate - Implementation.ipynb",
      "provenance": [],
      "collapsed_sections": [],
      "authorship_tag": "ABX9TyP2j4oqvGjm/pHFnDHoPwyM",
      "include_colab_link": true
    },
    "kernelspec": {
      "name": "python3",
      "display_name": "Python 3"
    },
    "language_info": {
      "name": "python"
    },
    "accelerator": "GPU"
  },
  "cells": [
    {
      "cell_type": "markdown",
      "metadata": {
        "id": "view-in-github",
        "colab_type": "text"
      },
      "source": [
        "<a href=\"https://colab.research.google.com/github/EliaTorre/NLP/blob/main/Neural_Machine_Translation_by_Jointly_Learning_to_Align_and_Translate_Implementation.ipynb\" target=\"_parent\"><img src=\"https://colab.research.google.com/assets/colab-badge.svg\" alt=\"Open In Colab\"/></a>"
      ]
    },
    {
      "cell_type": "markdown",
      "source": [
        "# Neural Machine Translation by Jointly Learning to Align and Translate"
      ],
      "metadata": {
        "id": "KiZeCJZYm3n3"
      }
    },
    {
      "cell_type": "code",
      "execution_count": null,
      "metadata": {
        "id": "aBdgTeXdNLGS"
      },
      "outputs": [],
      "source": [
        "import random\n",
        "import math\n",
        "import time\n",
        "\n",
        "import spacy\n",
        "import numpy as np\n",
        "\n",
        "import torch\n",
        "import torch.nn as nn\n",
        "import torch.optim as optim\n",
        "import torch.nn.functional as F\n",
        "\n",
        "from torchtext.legacy.datasets import Multi30k\n",
        "from torchtext.legacy.data import Field, BucketIterator\n",
        "\n",
        "from torchtext.data.metrics import bleu_score"
      ]
    },
    {
      "cell_type": "markdown",
      "source": [
        "Downloading Spacy packages"
      ],
      "metadata": {
        "id": "OFaP0n_t68HI"
      }
    },
    {
      "cell_type": "code",
      "source": [
        "#!python -m spacy download en\n",
        "#!python -m spacy download de"
      ],
      "metadata": {
        "id": "quD06u0MnQyM"
      },
      "execution_count": null,
      "outputs": []
    },
    {
      "cell_type": "markdown",
      "source": [
        "Initializing the seed to enforce reproducibility of results"
      ],
      "metadata": {
        "id": "LaUzyCne7Blk"
      }
    },
    {
      "cell_type": "code",
      "source": [
        "seed = 42\n",
        "random.seed(seed)\n",
        "np.random.seed(seed)\n",
        "torch.manual_seed(seed)\n",
        "torch.cuda.manual_seed(seed)\n",
        "torch.backends.cudnn.deterministic = True"
      ],
      "metadata": {
        "id": "gRlSoBoc6_5R"
      },
      "execution_count": null,
      "outputs": []
    },
    {
      "cell_type": "markdown",
      "source": [
        "Loading the spacy modules for German and English"
      ],
      "metadata": {
        "id": "C4Vzk5SJ7Hzm"
      }
    },
    {
      "cell_type": "code",
      "source": [
        "spacy_de = spacy.load('de_core_news_sm')\n",
        "spacy_en = spacy.load('en_core_web_sm')"
      ],
      "metadata": {
        "id": "Wpy-nc-vns7Z"
      },
      "execution_count": null,
      "outputs": []
    },
    {
      "cell_type": "markdown",
      "source": [
        "Defining the tokenizer functions"
      ],
      "metadata": {
        "id": "ivqXLabh7I6p"
      }
    },
    {
      "cell_type": "code",
      "source": [
        "def deutsch_tokenizer(text):\n",
        "    return [token.text for token in spacy_de.tokenizer(text)]\n",
        "\n",
        "def english_tokenizer(text):\n",
        "    return [token.text for token in spacy_en.tokenizer(text)]"
      ],
      "metadata": {
        "id": "0QA95Y2cnwbg"
      },
      "execution_count": null,
      "outputs": []
    },
    {
      "cell_type": "markdown",
      "source": [
        "Through pytorch's Field function I appended \"sos\" and \"eos\" tokens at the beginning and end of the sentences and transformed all of the sentences' words to lowercase"
      ],
      "metadata": {
        "id": "up4NwnHW7abG"
      }
    },
    {
      "cell_type": "code",
      "source": [
        "DE = Field(tokenize = deutsch_tokenizer, init_token = '<sos>', eos_token = '<eos>', lower = True)\n",
        "EN = Field(tokenize = english_tokenizer, init_token = '<sos>', eos_token = '<eos>', lower = True)"
      ],
      "metadata": {
        "id": "zfVY0q0ZnycA"
      },
      "execution_count": null,
      "outputs": []
    },
    {
      "cell_type": "markdown",
      "source": [
        "I downloaded the Multi30K dataset which contains the parallel german-english-french tranlsation of approx. 30k sentences with approx. 12 words per sentence each. I used torchtext.datasets split attribute to divide the dataset in train/validation/test, where \"exts\" attribute specifies which language to use as source and which to use as target"
      ],
      "metadata": {
        "id": "vJvgkg8D7gh7"
      }
    },
    {
      "cell_type": "code",
      "source": [
        "train_data, validation_data, test_data = Multi30k.splits(exts = ('.de', '.en'), fields = (DE, EN))"
      ],
      "metadata": {
        "colab": {
          "base_uri": "https://localhost:8080/"
        },
        "id": "97X9OfjWn1kq",
        "outputId": "a24ec847-d6a5-4a16-d77a-540c9e88d319"
      },
      "execution_count": null,
      "outputs": [
        {
          "output_type": "stream",
          "name": "stdout",
          "text": [
            "downloading training.tar.gz\n"
          ]
        },
        {
          "output_type": "stream",
          "name": "stderr",
          "text": [
            "100%|██████████| 1.21M/1.21M [00:04<00:00, 302kB/s]\n"
          ]
        },
        {
          "output_type": "stream",
          "name": "stdout",
          "text": [
            "downloading validation.tar.gz\n"
          ]
        },
        {
          "output_type": "stream",
          "name": "stderr",
          "text": [
            "100%|██████████| 46.3k/46.3k [00:00<00:00, 92.4kB/s]\n"
          ]
        },
        {
          "output_type": "stream",
          "name": "stdout",
          "text": [
            "downloading mmt_task1_test2016.tar.gz\n"
          ]
        },
        {
          "output_type": "stream",
          "name": "stderr",
          "text": [
            "100%|██████████| 66.2k/66.2k [00:00<00:00, 88.1kB/s]\n"
          ]
        }
      ]
    },
    {
      "cell_type": "markdown",
      "source": [
        "I proceed in building the german (DE) and english (EN) vocabularies from the training data enforcing that only words which appear at least twice are included, otherwise an \"UNK\" token is put in their place"
      ],
      "metadata": {
        "id": "NY8jVWJN7pfG"
      }
    },
    {
      "cell_type": "code",
      "source": [
        "DE.build_vocab(train_data, min_freq = 2)\n",
        "EN.build_vocab(train_data, min_freq = 2)"
      ],
      "metadata": {
        "id": "rJQMSwwPn5MQ"
      },
      "execution_count": null,
      "outputs": []
    },
    {
      "cell_type": "markdown",
      "source": [
        "I defined the device such that GPU can be exploited to speed up the training"
      ],
      "metadata": {
        "id": "Jzs2TZJf7ql2"
      }
    },
    {
      "cell_type": "code",
      "source": [
        "device = torch.device('cuda' if torch.cuda.is_available() else 'cpu')"
      ],
      "metadata": {
        "id": "tvAT8wEfn9tG"
      },
      "execution_count": null,
      "outputs": []
    },
    {
      "cell_type": "markdown",
      "source": [
        "I define the iterators with a batch of 128, such that the data is transformed to an iterable object with a source and target attribute that maps tokenized words to their index in the vocabulary.\n",
        "I used \"BucketIterator\" instead of the standard \"Iterator\" because it creates batches that minimize the padding within sentences, such that it speeds up computation"
      ],
      "metadata": {
        "id": "W04kPtUU7t3G"
      }
    },
    {
      "cell_type": "code",
      "source": [
        "batch = 128\n",
        "train_iterator, validation_iterator, test_iterator = BucketIterator.splits((train_data, validation_data, test_data), batch_size = batch, device = device)"
      ],
      "metadata": {
        "id": "fPGgqlkMoASN"
      },
      "execution_count": null,
      "outputs": []
    },
    {
      "cell_type": "markdown",
      "source": [
        "Following the https://arxiv.org/abs/1409.0473 paper, I implemented an architecture that exploits \"attention\" to avoid the compression of the source sentence in the context vector performed in the previous model. Here, the decoder is able of looking at the whole source sentence through the hidden states at every decoding step. "
      ],
      "metadata": {
        "id": "aYSTpaReDxoM"
      }
    },
    {
      "cell_type": "markdown",
      "source": [
        "The implementation of the Encoder relies on a bidirectional single layer GRU, which is capable of performing the computation of the \"forward RNN\" (sentence from left to right) and \"backward RNN\" (sentence from right to left). \n",
        "\n",
        "In particular, as seen in the previous model, the encoder receives the \"embdedded\" sentence, it performs the computation of the \"outputs\", i.e., hidden states at each time step of both forward and backward RNN, and \"hidden\", i.e., the final hidden states of both forward and backward RNN. \n",
        "\n",
        "The shape of \"outputs\" can be though as a list of the hidden states, where each element is a tuple of both the forward and backward hidden state. H = [h_1, h_2, ..., h_t] where h_1 = [h_1(forward), h_1(backward)].\n",
        "\n",
        "On the other side, the final hidden states contained in \"hidden\" represent the top layer of the forward RNN hidden state after the final time-step, i.e., after it has seen the last word in the sentence, and the top layer of the backward RNN hidden state after the final time-step, i.e., after it has seen the first word in the sentence. \n",
        "\n",
        "Finally, since the decoder layer is not bidirectional, following several implementations that can be found online, I decided to apply a little deviation to approach stated in the paper. Indeed, while the paper feeds only the first backward RNN hidden state transformed through a linear layer. I concatenated the two final hidden layers, applied a linear layer and a tanh activation to obtain the final context vector to be fed to the decoder. \n"
      ],
      "metadata": {
        "id": "N04VKl8uGQ41"
      }
    },
    {
      "cell_type": "code",
      "source": [
        "class Encoder(nn.Module):\n",
        "    def __init__(self, input_dim, embedding_dim, encoder_hiddden_dim, decoder_hidden_dim, dropout):\n",
        "        super().__init__()\n",
        "        self.embedding = nn.Embedding(input_dim, embedding_dim)\n",
        "        self.rnn = nn.GRU(embedding_dim, encoder_hiddden_dim, bidirectional = True)\n",
        "        self.fc = nn.Linear(encoder_hiddden_dim * 2, decoder_hidden_dim)\n",
        "        self.dropout = nn.Dropout(dropout)\n",
        "\n",
        "    def forward(self, de):\n",
        "        embedded = self.dropout(self.embedding(de))\n",
        "        outputs, hidden = self.rnn(embedded)\n",
        "        hidden = torch.tanh(self.fc(torch.cat((hidden[-2,:,:], hidden[-1,:,:]), dim = 1)))\n",
        "\n",
        "        return outputs, hidden"
      ],
      "metadata": {
        "id": "JIxJaoqRoHge"
      },
      "execution_count": null,
      "outputs": []
    },
    {
      "cell_type": "markdown",
      "source": [
        "The novelty of this architecture is in the \"Attention\" class, indeed it allows us to determine which words in the source sentence should be paid more attention to predict the next word to decode. \n",
        "\n",
        "This layer calculates an attention vector based on the previous hidden state of the decoder and all of the forward and backward hidden states contained derived from the encoder.  \n",
        "\n",
        "Following the paper, we firstly calculate the energy by passing the \"encoder outputs\" and the \"(repeated) decoder hidden state\" through the attention layer and a tanh activation. Then, the attention is obtained by multiplying the energy vector by a tensor v, i.e., a vector that represents the weights of a weighted sum (it is randomly initialized and learned through backpropagation).\n",
        "\n",
        "Finally the attention over the source sentence is obtained by applying Softmax to the previously evaluated attention. "
      ],
      "metadata": {
        "id": "-uEJ6h_JKu53"
      }
    },
    {
      "cell_type": "code",
      "source": [
        "class Attention(nn.Module):\n",
        "    def __init__(self, encoder_hidden_dim, decoder_hidden_dim):\n",
        "        super().__init__()\n",
        "        self.attn = nn.Linear((encoder_hidden_dim * 2) + decoder_hidden_dim, decoder_hidden_dim)\n",
        "        self.v = nn.Linear(encoder_hidden_dim, 1, bias = False)\n",
        "        \n",
        "    def forward(self, hidden, encoder_outputs):\n",
        "        batch = encoder_outputs.shape[1]\n",
        "        de_len = encoder_outputs.shape[0]\n",
        "        hidden = hidden.unsqueeze(1).repeat(1, de_len, 1)\n",
        "        encoder_outputs = encoder_outputs.permute(1, 0, 2)\n",
        "        energy = torch.tanh(self.attn(torch.cat((hidden, encoder_outputs), dim = 2))) \n",
        "        attention = self.v(energy).squeeze(2)\n",
        "\n",
        "        return F.softmax(attention, dim=1)"
      ],
      "metadata": {
        "id": "f6lNFUqVon2s"
      },
      "execution_count": null,
      "outputs": []
    },
    {
      "cell_type": "markdown",
      "source": [
        "As previously mentioned, the Decoder is a one direction GRU Recurrent Neural Network which features an additional attention layer compared to the previous architecture. It evaluates \"attention\" of the \"embedded source sequence\", computes the \"weighted\" vector as a weighted sum of the attention vector and the list of hidden states derived from the encoder. It then concatenates the \"embedded\" and \"weighted\" vectors and feeds them, together with the previous decoder hidden state, to the RNN to evaluate the current decoder hidden state. \n",
        "\n",
        "Finally, the current \"hidden\" state, the \"weighted\" vector and \"embedded\" source sequence are concatenated and passed through a linear layer to obtain the prediction.  "
      ],
      "metadata": {
        "id": "fes8ekgdO0dJ"
      }
    },
    {
      "cell_type": "code",
      "source": [
        "class Decoder(nn.Module):\n",
        "    def __init__(self, output_dimension, embedding_dim, encoder_hidden_dim, decoder_hidden_dim, dropout, attention):\n",
        "        super().__init__()\n",
        "        self.output_dim = output_dim\n",
        "        self.attention = attention\n",
        "        self.embedding = nn.Embedding(output_dim, embedding_dim)\n",
        "        self.rnn = nn.GRU((encoder_hidden_dim * 2) + embedding_dim, decoder_hidden_dim)\n",
        "        self.fc_out = nn.Linear((encoder_hidden_dim * 2) + decoder_hidden_dim + embedding_dim, output_dim)\n",
        "        self.dropout = nn.Dropout(dropout)\n",
        "        \n",
        "    def forward(self, input, hidden, encoder_outputs):\n",
        "        input = input.unsqueeze(0)\n",
        "        embedded = self.dropout(self.embedding(input))\n",
        "        a = self.attention(hidden, encoder_outputs)\n",
        "        a = a.unsqueeze(1)\n",
        "        encoder_outputs = encoder_outputs.permute(1, 0, 2)\n",
        "        weighted = torch.bmm(a, encoder_outputs)\n",
        "        weighted = weighted.permute(1, 0, 2)\n",
        "        rnn_input = torch.cat((embedded, weighted), dim = 2)\n",
        "        output, hidden = self.rnn(rnn_input, hidden.unsqueeze(0))\n",
        "        embedded = embedded.squeeze(0)\n",
        "        output = output.squeeze(0)\n",
        "        weighted = weighted.squeeze(0)\n",
        "        prediction = self.fc_out(torch.cat((output, weighted, embedded), dim = 1))\n",
        "\n",
        "        return prediction, hidden.squeeze(0), a.squeeze(1)"
      ],
      "metadata": {
        "id": "ZScWKvumtKpm"
      },
      "execution_count": null,
      "outputs": []
    },
    {
      "cell_type": "markdown",
      "source": [
        "The Seq2Seq class aims at combining encoder and decoder. It receives the source sequence, feeds it to the encoder which will return \"encoder_outputs\" and \"hidden\". Then it performs a loop for (en_len) times where the decoder receives the \"input\" token, previous decoder \"hidden\" state and all of the \"encoder_outputs\". It then collects the prediction and continues the iteration.  "
      ],
      "metadata": {
        "id": "cm1u7JB0QfGF"
      }
    },
    {
      "cell_type": "code",
      "source": [
        "class Seq2Seq(nn.Module):\n",
        "    def __init__(self, encoder, decoder, device):\n",
        "        super().__init__()\n",
        "        self.encoder = encoder\n",
        "        self.decoder = decoder\n",
        "        self.device = device\n",
        "        \n",
        "    def forward(self, de, en, ratio = 0.5):\n",
        "        batch = de.shape[1]\n",
        "        en_len = en.shape[0]\n",
        "        en_vocab_size = self.decoder.output_dim\n",
        "        outputs = torch.zeros(en_len, batch, en_vocab_size).to(self.device)\n",
        "        encoder_outputs, hidden = self.encoder(de)\n",
        "        input = en[0,:]\n",
        "\n",
        "        for t in range(1, en_len):\n",
        "            output, hidden, _ = self.decoder(input, hidden, encoder_outputs)\n",
        "            outputs[t] = output\n",
        "            force = random.random() < ratio\n",
        "            best = output.argmax(1) \n",
        "            input = en[t] if force else best\n",
        "\n",
        "        return outputs"
      ],
      "metadata": {
        "id": "G3vuio_gtpXJ"
      },
      "execution_count": null,
      "outputs": []
    },
    {
      "cell_type": "markdown",
      "source": [
        "Here I initialize the parameters of the model"
      ],
      "metadata": {
        "id": "zmiWgF8k9ZlS"
      }
    },
    {
      "cell_type": "code",
      "source": [
        "input_dim, output_dim = len(DE.vocab), len(EN.vocab)\n",
        "encoder_embedding_dim, decoder_embedding_dim = 256, 256\n",
        "encoder_hidden_dim, decoder_hidden_dim = 512, 512\n",
        "encoder_dropout, decoder_dropout = 0.5, 0.5\n",
        "\n",
        "attention = Attention(encoder_hidden_dim, decoder_hidden_dim)\n",
        "encoder = Encoder(input_dim, encoder_embedding_dim, encoder_hidden_dim, decoder_hidden_dim, encoder_dropout)\n",
        "decoder = Decoder(output_dim, decoder_embedding_dim, encoder_hidden_dim, decoder_hidden_dim, decoder_dropout, attention)\n",
        "\n",
        "model = Seq2Seq(encoder, decoder, device).to(device)"
      ],
      "metadata": {
        "id": "6n-1xRPjt4EV"
      },
      "execution_count": null,
      "outputs": []
    },
    {
      "cell_type": "markdown",
      "source": [
        "Here I simplified a bit the initialization of the weights in the model as compared to the weight initialization followed in the paper. In particular, I am initializing all of the biases to zero and all of the weights according to a normal distribution centered around 0 with standard deviation of 0.01. "
      ],
      "metadata": {
        "id": "ZLVj8IES-ptB"
      }
    },
    {
      "cell_type": "markdown",
      "source": [
        "Instead, the paper uses the following weight initialization scheme: ![Schermata 2022-03-09 alle 20.05.18.png](data:image/png;base64,iVBORw0KGgoAAAANSUhEUgAABeQAAAE6CAYAAAB3Q1IkAAAMa2lDQ1BJQ0MgUHJvZmlsZQAASImVVwdYU8kWnluSkJDQAhGQEnoTRHqREkILICBVsBGSQEKJMSGo2FFRwbUioljRVRFF1wLIoiL2sij2vlhQUNZFXRRF5U1IQNd95Xvn++bOf8+c+U/JTO4MAJq9XIkkB9UCIFecJ40LC2KOS0llkp4DBBCBJjAAjlyeTMKKjY0CUAb7v8v7W9AaynVHBdc/x/+r6PAFMh4AyASI0/kyXi7ETQDgG3kSaR4ARIXeYlqeRIHnQawrhQFCXKrAmUq8W4HTlbhxwCYhjg3xVQDUqFyuNBMAjQdQz8znZUIejc8QO4v5IjEAmiMg9ucJuXyIFbGPyM2dosDlENtCewnEMB7glf4dZ+bf+NOH+LnczCGszGtA1IJFMkkOd8b/WZr/Lbk58kEf1rBRhdLwOEX+sIZ3sqdEKjAV4i5xenSMotYQ94r4yroDgFKE8vBEpT1qxJOxYf0AA2JnPjc4EmIjiEPFOdFRKn16hiiUAzFcLeh0UR4nAWJ9iJcIZCHxKput0ilxKl9obYaUzVLpz3OlA34Vvh7JsxNZKv63QgFHxY9pFAgTkiGmQGyZL0qKhlgDYidZdnykymZ0gZAdPWgjlccp4reEOE4gDgtS8mP5GdLQOJV9ca5sMF9sq1DEiVbhg3nChHBlfbDTPO5A/DAX7KpAzEoc5BHIxkUN5sIXBIcoc8c6BOLEeBVPryQvKE45F6dIcmJV9ri5ICdMoTeH2E2WH6+aiyflwcWp5MczJHmxCco48YIsbkSsMh58JYgCbBAMmEAOWzqYArKAqKWrrgu+KUdCARdIQSYQAEeVZnBG8sCIGD7jQQH4AyIBkA3NCxoYFYB8qP8ypFU+HUHGwGj+wIxs8BziXBAJcuC7fGCWeMhbEngGNaJ/eOfCxoPx5sCmGP/3+kHtNw0LaqJUGvmgR6bmoCUxhBhMDCeGEu1wQ9wf98Wj4DMQNhfcC/cezOObPeE5oZXwhHCT0Ea4O1lUKP0hyjGgDfKHqmqR/n0tcGvI6Y4H4X6QHTLjDNwQOOJu0A8LD4Ce3aGWrYpbURXmD9x/y+C7X0NlR3Ymo+Rh5ECy7Y8zNew13IdYFLX+vj7KWNOH6s0eGvnRP/u76vNhH/mjJbYEO4Sdw05iF7BGrA4wsRNYPXYZO6bAQ6vr2cDqGvQWNxBPNuQR/cMfV+VTUUmZc7Vzp/Nn5VieYHqeYuOxp0hmSEWZwjwmC34dBEyOmOc0guni7OICgOJbo/z7escY+IYgjIvfdIUPAfBL6e/vb/ymi4L793AH3P5d33Q21QDQjgNwfhFPLs1X6nDFgwD/JTThTjMAJsAC2MJ8XIAH8AWBIAREgBiQAFLAJFhlIVznUjANzALzQREoASvBWrABbAHbwW6wDxwEdaARnARnwSVwFdwE9+HqaQevQDd4D/oQBCEhNISOGCCmiBXigLggXog/EoJEIXFICpKGZCJiRI7MQhYgJchqZAOyDalCfkGOIieRC0grchd5jHQib5FPKIZSUV3UGLVGR6JeKAuNRBPQiWgmOhUtQBeiy9FytBLdi9aiJ9FL6E20DX2F9mAAU8cYmBnmiHlhbCwGS8UyMCk2ByvGyrBKrAZrgL/zdawN68I+4kScjjNxR7iCw/FEnIdPxefgy/AN+G68Fj+NX8cf4934VwKNYERwIPgQOIRxhEzCNEIRoYywk3CEcAbupXbCeyKRyCDaED3hXkwhZhFnEpcRNxH3E5uIrcSnxB4SiWRAciD5kWJIXFIeqYi0nrSXdIJ0jdRO6lVTVzNVc1ELVUtVE6sVqpWp7VE7rnZN7YVaH1mLbEX2IceQ+eQZ5BXkHeQG8hVyO7mPok2xofhREihZlPmUckoN5QzlAeWdurq6ubq3+lh1kfo89XL1A+rn1R+rf6TqUO2pbOoEqpy6nLqL2kS9S31Ho9GsaYG0VFoebTmtinaK9ojWq0HXcNLgaPA15mpUaNRqXNN4rUnWtNJkaU7SLNAs0zykeUWzS4usZa3F1uJqzdGq0DqqdVurR5uuPUo7RjtXe5n2Hu0L2h06JB1rnRAdvs5Cne06p3Se0jG6BZ1N59EX0HfQz9DbdYm6Nroc3SzdEt19ui263Xo6em56SXrT9Sr0jum1MTCGNYPDyGGsYBxk3GJ8GmY8jDVMMGzpsJph14Z90B+uH6gv0C/W369/U/+TAdMgxCDbYJVBncFDQ9zQ3nCs4TTDzYZnDLuG6w73Hc4bXjz84PB7RqiRvVGc0Uyj7UaXjXqMTYzDjCXG641PGXeZMEwCTbJMSk2Om3Sa0k39TUWmpaYnTF8y9ZgsZg6znHma2W1mZBZuJjfbZtZi1mduY55oXmi+3/yhBcXCyyLDotSi2aLb0tRyjOUsy2rLe1ZkKy8rodU6q3NWH6xtrJOtF1vXWXfY6NtwbApsqm0e2NJsA2yn2lba3rAj2nnZZdttsrtqj9q72wvtK+yvOKAOHg4ih00OrSMII7xHiEdUjrjtSHVkOeY7Vjs+dmI4RTkVOtU5vR5pOTJ15KqR50Z+dXZ3znHe4Xx/lM6oiFGFoxpGvXWxd+G5VLjccKW5hrrOda13fePm4CZw2+x2x53uPsZ9sXuz+xcPTw+pR41Hp6elZ5rnRs/bXrpesV7LvM57E7yDvOd6N3p/9PHwyfM56POnr6Nvtu8e347RNqMFo3eMfupn7sf12+bX5s/0T/Pf6t8WYBbADagMeBJoEcgP3Bn4gmXHymLtZb0Ocg6SBh0J+sD2Yc9mNwVjwWHBxcEtITohiSEbQh6FmodmhlaHdoe5h80MawonhEeGrwq/zTHm8DhVnO4Iz4jZEacjqZHxkRsin0TZR0mjGsagYyLGrBnzINoqWhxdFwNiODFrYh7G2sROjf11LHFs7NiKsc/jRsXNijsXT4+fHL8n/n1CUMKKhPuJtonyxOYkzaQJSVVJH5KDk1cnt40bOW72uEsphimilPpUUmpS6s7UnvEh49eOb5/gPqFowq2JNhOnT7wwyXBSzqRjkzUncycfSiOkJaftSfvMjeFWcnvSOekb07t5bN463it+IL+U3ynwE6wWvMjwy1id0ZHpl7kms1MYICwTdonYog2iN1nhWVuyPmTHZO/K7s9Jztmfq5ablntUrCPOFp+eYjJl+pRWiYOkSNI21Wfq2qnd0kjpThkimyirz9OFh/rLclv5IvnjfP/8ivzeaUnTDk3Xni6efnmG/YylM14UhBb8PBOfyZvZPMts1vxZj2ezZm+bg8xJn9M812Luwrnt88Lm7Z5PmZ89/7dC58LVhX8tSF7QsNB44byFTxeFLaou0iiSFt1e7Lt4yxJ8iWhJy1LXpeuXfi3mF18scS4pK/m8jLfs4k+jfir/qX95xvKWFR4rNq8krhSvvLUqYNXu1dqrC1Y/XTNmTW0ps7S49K+1k9deKHMr27KOsk6+rq08qrx+veX6les/bxBuuFkRVLF/o9HGpRs/bOJvurY5cHPNFuMtJVs+bRVtvbMtbFttpXVl2Xbi9vztz3ck7Tj3s9fPVTsNd5bs/LJLvKttd9zu01WeVVV7jPasqEar5dWdeyfsvboveF99jWPNtv2M/SUHwAH5gZe/pP1y62DkweZDXodqDlsd3niEfqS4FqmdUdtdJ6xrq0+pbz0acbS5wbfhyK9Ov+5qNGusOKZ3bMVxyvGFx/tPFJzoaZI0dZ3MPPm0eXLz/VPjTt04PfZ0y5nIM+fPhp49dY517sR5v/ONF3wuHL3odbHuksel2svul4/85v7bkRaPltornlfqr3pfbWgd3Xr8WsC1k9eDr5+9wblx6Wb0zdZbibfu3J5wu+0O/07H3Zy7b+7l3+u7P+8B4UHxQ62HZY+MHlX+bvf7/jaPtmOPgx9ffhL/5P5T3tNXz2TPPrcvfE57XvbC9EVVh0tHY2do59WX41+2v5K86usq+kP7j42vbV8f/jPwz8vd47rb30jf9L9d9s7g3a6/3P5q7ontefQ+933fh+Jeg97dH70+nvuU/OlF37TPpM/lX+y+NHyN/PqgP7e/X8KVcgeOAhhsaEYGAG93wXNCCgB0eG+jjFfeBQcEUd5fBxD4T1h5XxwQDwBqYKc4xrObADgAm/U8yA3fFUf4hECAuroONZXIMlxdlFxUeBMi9Pb3vzMGgNQAwBdpf3/fpv7+LztgsHcBaJqqvIMqhAjvDFuDFejumonzwA+ivJ9+l+OPPVBE4AZ+7P8FjjGQnRCuCO0AAACKZVhJZk1NACoAAAAIAAQBGgAFAAAAAQAAAD4BGwAFAAAAAQAAAEYBKAADAAAAAQACAACHaQAEAAAAAQAAAE4AAAAAAAAAkAAAAAEAAACQAAAAAQADkoYABwAAABIAAAB4oAIABAAAAAEAAAXkoAMABAAAAAEAAAE6AAAAAEFTQ0lJAAAAU2NyZWVuc2hvdP5kz04AAAAJcEhZcwAAFiUAABYlAUlSJPAAAAHXaVRYdFhNTDpjb20uYWRvYmUueG1wAAAAAAA8eDp4bXBtZXRhIHhtbG5zOng9ImFkb2JlOm5zOm1ldGEvIiB4OnhtcHRrPSJYTVAgQ29yZSA2LjAuMCI+CiAgIDxyZGY6UkRGIHhtbG5zOnJkZj0iaHR0cDovL3d3dy53My5vcmcvMTk5OS8wMi8yMi1yZGYtc3ludGF4LW5zIyI+CiAgICAgIDxyZGY6RGVzY3JpcHRpb24gcmRmOmFib3V0PSIiCiAgICAgICAgICAgIHhtbG5zOmV4aWY9Imh0dHA6Ly9ucy5hZG9iZS5jb20vZXhpZi8xLjAvIj4KICAgICAgICAgPGV4aWY6UGl4ZWxZRGltZW5zaW9uPjMxNDwvZXhpZjpQaXhlbFlEaW1lbnNpb24+CiAgICAgICAgIDxleGlmOlBpeGVsWERpbWVuc2lvbj4xNTA4PC9leGlmOlBpeGVsWERpbWVuc2lvbj4KICAgICAgICAgPGV4aWY6VXNlckNvbW1lbnQ+U2NyZWVuc2hvdDwvZXhpZjpVc2VyQ29tbWVudD4KICAgICAgPC9yZGY6RGVzY3JpcHRpb24+CiAgIDwvcmRmOlJERj4KPC94OnhtcG1ldGE+CtRgltsAAAAcaURPVAAAAAIAAAAAAAAAnQAAACgAAACdAAAAnQAAnRBPeuRpAABAAElEQVR4AeydB9jVRNbHR1GxI4K9y1qwK3axYF97Q+wFe8OyulYUbIvuWsCGYlcQFXtXFBDFCqhYsaBYsK0VFSw73/zjd+IkNz25Lfc/z/O+yU2mnd9MJpMzM2dm0MYpOhIgARIgARIgARIgARIgARIgARIgARIgARIgARIgARIggaoSmIEK+aryZeQkQAIkQAIkQAIkQAIkQAIkQAIkQAIkQAIkQAIkQAIk4BCgQp4VgQRIgARIgARIgARIgARIgARIgARIgARIgARIgARIgARqQIAK+RpAZhIkQAIkQAIkQAIkQAIkQAIkQAIkQAIkQAIkQAIkQAIkQIU86wAJkAAJkAAJkAAJkAAJkAAJkAAJkAAJkAAJkAAJkAAJ1IAAFfI1gMwkSIAESIAESIAESIAESIAESIAESIAESIAESIAESIAESIAKedYBEiABEiABEiABEiABEiABEiABEiABEiABEiABEiABEqgBASrkawCZSZAACZAACZAACZAACZAACZAACZAACZAACZAACZAACZAAFfKsAyRAAiRAAiRAAiRAAiRAAiRAAiRAAiRAAiRAAiRAAiRQAwJUyNcAMpMgARIgARIgARIgARIgARIgARIgARIgARIgARIgARIgASrkWQdIgARIgARIgARIgARIgARIgARIgARIgARIgARIgARIoAYEqJCvAWQmQQIkQAIkQAIkQAIkQAIkQAIkQAIkQAIkQAIkQAIkQAItrZD/4osv1HzzzadmnHFG1gQSIAESIAESIAESIAESIAESIAESIAESIAESIAESIAESqCqB3Ar5m2++WY0YMSJRJtu2bavmnXde1b59e7X44ourjTfeWC244IKJwhbp6Y033lB9+/ZVw4YNUxMnTlR/+9vfioy+JnFde+216tlnn41Nq02bNs6gw/zzz6+WWGIJ1a1bN4d/bEB6IIGSEBg6dKh67LHHEkmz4oorqhNPPDGRX3oiARIgARIgARIgARIgARIgARIgARIgARIggbQEcivk7733XnX//ferl156Sb3++utp01edO3dWxx13nOrZs6eaaaaZUodPE+Ctt95SZ599trrjjjvU//73Pyfou+++25QK+dtvv13hb/jw4erHH39MjAEK+nXWWUcdcsghat9991X4TUcCZSbw8MMPq7vuukuNHz/e+QuStVOnTqpr165qww03VAcddFCQF14jARIgARIgARIgARIgARIgARIgARIgARIggdwEcivk7RyccMIJ6pJLLrEvqcsvv1xtvvnmjtJ48uTJ6qOPPlK33Xabo8C3Pa611lrOLFbMni/aYRY8ZsQjXa21J/pmVciLEDC7s8IKK6hvvvlGLikoF6+55hpH1s8++0xNmjRJYSXD+++/7/rBSZcuXRQGVBZddFHPdf4ggbISOOecc9SZZ57pEW+vvfZSt9xyC01XeajwBwmQAAmQAAmQAAmQAAmQAAmQAAmQAAmQQDUIFKqQnzBhglpllVU8+fzqq69Ux44dPdfw4/HHH1fdu3dXP/zwg3sPJmxGjhzp/i7iBMrolVdeWW2//faOmZwhQ4aoTz75xI0ayvplllnG/d2MJ3vvvbeCXOIOPPBAdf3118tP54gVAffcc4/af//91U8//eTeQ3mNHTu26qsT3AR5QgJ1JIABqkUWWcSTA5jc2mSTTTzX+IMESIAESIAESIAESIAESIAESIAESIAESIAEqkGgUIV8kLLrv//9r2M3PijzUBDvsssunltPPfWUY+fcczHHj99++01NmzZNzTXXXE4sp5xyirrgggvcGJt9hjwEOeaYY5yVCCLUoYceqq6++mr56TnCnvaee+7puXbxxRer448/3nMt6AcU+XPMMUfQrYa89uuvv6oZZphBzTzzzA2ZP2aq9gSmT5+uZp11Vk/CMLUF2/F0+Qg0W/uQT9rsocvE6csvv3T2KEE7S0cCJEACJEACJEACJEACJEACJEACJJCMQKEK+a+//tr5OLeTjlLIwx9maGNmvbizzjpL9enTR34WfoQJHSiwxZVBIe83FRSlkIfcsJVtbwi7wQYbqGeeeUaQBB4xi3izzTZTsMO/3HLLBfoJutivXz81ZsyYoFvutXnmmcepN9hPYMstt3RWMrg3c5xgxQXM8QwePDhxLBiwefPNNyv877rrrs7qgoobIRdgGgkrFWxTQuL15JNPVmAO16tXL/Xhhx8651n+YYBl9tlnd4IizR133DFLNG6YhRdeWA0cOND5/dxzz6l//etf7r20JzvssIM6+OCD3WD1rAuSCTCaccYZ5adzDFsl8+KLL6pzzz3X4xc/evfurWBiK8zh+fv8888Db2PD2I022khNmTJFHXbYYYF+5CJWFslKF9Rh7BmRx2VNO0maWduHuPq/7rrrqtNOOy1JFhw/F110kRo1alSkf6QJM2pw77zzjjrppJMi/UfdxIojtA1JXVJORT/LaetbmDzYHBn7lowbN87Zj+Hbb791BrtXX311xwQa2rU4Hhj89ZtPw8bqKLswxT64+c3hSR6x4uWqq66SnzySAAmQAAmQAAmQAAmQAAmQAAmQQOMTMB/+hTljngYG2j1/RiEfGf8+++zj8W8UHJH+89687LLLPOkZhXzeKOse3ig4PDIZhWBkno466iiP/3bt2kX6x02zksEJc+SRR8b6tT2Y2cf6iiuu0IsvvnhFmmZzWW2U+3rOOef03Ntmm220UVLb0aQ+f/XVV504zex4bUwUJQ7/yiuvaGNvX6+55pqePBlFtTazqxPHYxRXnvB4LsyAhjYbCmujrHXjeeGFF7RZoaA7dOjg8b/YYotpM6Dg/hklrjY2//WSSy7p8WcGwdy4zMxbzz2j3NIo2yWWWELPO++8nnsoD6RhVo5o+JPnFtfF4dm9++67tVHyu/fhb5ZZZtEoOzt/66+/vl5ppZU8ZXn00UdLVM6xXnXBzoQx3eSRBfIYhbztxT1Hed96663abPTqCWMGebTZu8H15z8xAxn60ksv1WY/DDeclD3aSDizakc/8cQT+t///ndF2ZtBSn3jjTfq559/3o3aKI3duJDntm3b6gUXXFAvtdRSnvJDeeLa/PPPr1H3pVxxNMr9TGm7mYg4ydo+hNX/5ZdfXl933XXabMQbkWrlLaNg13feeac2Jso8sptBGA2GDz30kDazut2AqN82I3BddtllNZ43u37Lue0XcZoVXW5cSU6Scir6WU5b3/yyGMW7NqbRXFZrrLGGNgM82gzeaTOArvH8C5u///3vkc8H2maEMStV3DAIe9555/mTdX/juTEr6rQZ5HPDmNVa2gwYajPg6/rjCQmQAAmQAAmQAAmQAAmQAAmQAAk0AwFs/FmYy6KQN+ZT3A9sfJSbGbWF5ScoIirktaPEEOUJjlAsGdM+Qbica2YzXt2mTRunnKAEMbO+Q/2G3YAi2k7T7BXgev3999/1sGHDtJkh7/pBOlCOZ3UYlJD0Tj311NTRYKBGwsvxhhtuSBwPlFISDkcosb///vvQ8Gb2p8c/mIe5N954w1XMGzNRrjco55EWFOwXXnihJ72nn37aE7+tlMT5P//5T+f+fPPN58YnJ8b0jzaztd3wPXv2lFsVx59//lmbVS6O37CBoVrXBTuTaRTyEg6KeShk7fLE76hnBmH79+/vhAG7qLI3JrQ8cQfVewxuIP21115bQ+Fvu0033dQNbw+YQVYo/c0eGc59DIz5XZK0/WH8v4toH/z13y+jP82431BAm5U3LpeddtopMAgGTsB16aWX1hhEA7MwZ2Zhu/EhDJ6ZNC4Np2o9y8hv2jIfPXq0xiAUZMZ7AIrzIE4YvBLmCyywgH7kkUci8eA+4pQ/vIfiwqB9MTPinTBRCvzIhHmTBEiABEiABEiABEiABEiABEiABOpMoK4K+T/++EN36tTJ/SDHh7nM4qwWFyrktT7kkEM8zKHgiHJQaIvSBEcodNI6Y/7DE8d7771XEQUUVlAIS1rdunWr8JPkAgYMjBkXNx7MPociJ43DIIE9cxx5MnbGAxVR/njffvvtirBxjB944AE3v0jrxx9/9Efr+X3vvfc6/j/66CP3+scff+xcwwoIv4tSyItfrEzAaoUgh9n5Ui7/+Mc/grx4rq222mramOzxXJMftawLkqYcsyjkEdaYrnHlFw7G9IlEG3g0Zj2cMFtvvXXgfbmIGd0SJ45Tp06VW+7xoIMOcuq0Xd5yM0whL/eF93/+8x+55B6TpO16Djkpon3w13975UdIsrGX8bwKV8zmDnLG3JdT5+2BrSB/xoyVnm222dz4jImWVCtmEGcaTtV8ltOU+XfffeesxBCOxnRSEB73mtms3R28nWmmmTQGD6Mc/EjcOGJViTFnExXEnSVvryCJDMCbJEACJEACJEACJEACJEACJEACJNBgBOqqkJeZtPJBDrMaUaYgimDX6gp5DIKsvPLKHiXIXnvtFYoWM01tJTnKCmZN4mYH+yPErF8pZxzDlC62OR3MxkT6aZ2xRexJC+mZTW7TRqP9yiLEA5MXce6II45w0l9vvfXcfMCMSJTzm7iJU8hDabvqqqtqKO7EwfQK8ghFsN8lUcgbG+WOMs0fFr9tWZIo5FEGYSsTalkX/LIUqZAHa5g3CnNQ8sJP1IoChL3vvvvcegL/Qc8WnlGY6whycQp5hMHqk3POOacieJK0KwJZF4pqH9LWfysLoadQmoMn/k4//fRAf7vttpuOM5MGGfGsSVxQzJu9NALjC7uYllM1n+U0ZY4VFyL3FltsESae5zrqu4Qxtvo99/w/gtpYmGyCyZ4wJ6ufolYRhYXldRIgARIgARIgARIgARIgARIgARJoBAI1V8hDIfzaa6/pHj16eGYRw57s/fffX3Umra6Q95srwCzwKBu8sGUN5QqUebbNXyhv07ikSli/Mh02odM41C+Yn8CMdNu2/gorrJAmGscvlEWwn27bX99kk00i48HsfJjbQR7MJqauYqpohXxQJj799FNtmyyx/SRRyCPvxx13nB3MPU+rkHcDBpzUqi4EJO2scBBloRzDbMjb4WWGPMxywM64hIVyNmgABGFhpgb+zCbSdlQV50kUpFdeeaV+9NFHK8LiQhKFPJ7jIHvnSdIOTPT/LxbVPtRLIY9yhVmfKIdnQsobR5iuSevScqrms5y0zGHfH2ZkRHbY20/izCbtbhiEjQqHNhZm68xGsJ4we+yxR2hS0q7H7U8TGgFvkAAJkAAJkAAJkAAJkAAJkAAJkECdCVRdIY/ZbtgADn+wZQxb2vKBjyNmQWPmJ8x81MK1qkIem/L17t27YqPH0047LRI7Njede+65HRMqMEEiZQcFbRqXVAmLPQQkDRztDVCTpPfggw864c8++2z9wQcfeBRKUPqlcVAWYWbyGWec4ckTTICEORnwGDBggLNhp8hSpEIeqwiuvfbasCwEXk+ikA8M+P8XkyrkYXsfpkKiXK3qQlAe8s6Qh/IeewlIueK4xBJL6CATK0Uq5INkkWtJFPLi139Mqpz1h5PfRbUP9VLIixxhR9g0t01XYbPYLK4oTkg777OctMxhkknqORTzaVYr2RsaR82slzYWK4KwKbSkhyM2PA5yVMgHUeE1EiABEiABEiABEiABEiABEiCBZiJQdYW8/YEddI4ZprBpPn78+JpwawWFPAY/sKknFBpQqmCWt2y2J2UABQsU9JhRHuawsSL8ywzfsWPHehQmmEGZ1CVRwkL5Lhv2Id211lorafSuv6222soZdJgyZYpzDQo0kRkbraZxoixCvuzVAd27dw+MBqZGFltsMYc1FEzgL2kXpZBHGthg8eKLLw7MQ9jFvEq8pAr5gQMHOgM4YfnA9VrVhaA8FKGQR7x4JqRscdxss8009h2wXdkV8kW2D42okIf5NGxOKuWMc3szZLuso86L5IR08j7LSRXy9kAP2rU0Dm23cEN7FeakjcV97CtiK/IxWD98+PCKoFTIVyDhBRIgARIgARIgARIgARIgARIggSYjUHWFPDbDg51rzIB/9tlnHZvLhx9+uMcMCD7c8fF98sknp94oLy3vVlDIiyIk6Ah78DBr8vLLL8ei23vvvR2lim0v2VbMRpkV8Ecep4TFgIxt237mmWd2FE/+eKJ+w7wNZrPa+bIVfbhnyxIVF+7ZyiJ7I1zU1SAb+DDjA+aox3B5FPKQBTbI5Q/pjRo1yjXtUE+F/AEHHODmC/n75JNPHCX7oEGDdMeOHXMr5IuoC04BBPwrSiGPgZGNN97YVTqi3P0bh5ZdIV9k+2A/p2AZt4dCQNFWXEpiQ74ikHUBmxzbbejDDz9s3U1+WiQnpForhby9dwjqehoHMzQ2u7DytNtYxA+zTLaZHLQnH374oSdpKuQ9OPiDBEiABEiABEiABEiABEiABEigCQlUXSEfZucVJlRsJad8vJ9wwglVxdgKCvnVVlvNmUENG+ZQ3N5yyy0aphcwwz1ow8gg4JgVDvNCmPlru8GDB7uKFihT7E1FbX/+c79CHhv6wl48ytveMBH1APbeR44c6Y8i9vexxx7r5G306NGuXyhgl112WTfPGAxK6mxlEQaUbNMVMBvjdxiswEACFNRweRTy8jyEHeupkA/Lk1yHiaMoV4u6EJZ+UQp5xI/Z0tjgWOTGcejQoW7SZVbIF90+NJpCHian7HKVVUJu4SY8KZoTkq2FQh75tuWP25jYjwOrr+zwYQPAdhsrcYjZLwmPFV8///yz3Hb3BgnrW7geeUICJEACJEACJEACJEACJEACJEACDUqgbgp54bHPPvt4Ptyh9MyijJX44o6toJA/9NBD4zDE3ocNdihE/BvyTZ8+3WPG4ZRTTomNCx78SlhRtthH1IXHH3888aCBnTBmYEIRjD0L/K5///5uHZt99tl1UkWOX1kE0z+SX8Rj2w2H+R7cw2xYcXkU8lBKXXrppe4fTBCddNJJjkkcpFNPhTw2trXzdskll2jUl5133tmZ3ZpWIS9M7WOeuiD8g45FKuQRPwa5YHZL8o4NfbFpNVyZFfJFtw+NpJBH+dkmqrAnwi+//OKUadp/RXNC+rVQyGNFjtRpHI8++uhUoqN9sMMHmZ5BhP42VhLBpu92+H333VduUSHvkuAJCZAACZAACZAACZAACZAACZBAsxKou0J+xIgRng9vfITDpEq1HBXy8WQxi37hhRd2lL9+u9gIbc9+nHfeefVPP/0UG6lfIf/GG29obI7atm1bt/xhdzir4uvKK6904rn66qsr8gLF6Jxzzummg5UDSZxfWfTMM8+4caCe9u3b141GTDRAQSsuj0I+zMTD5MmTHQVwPRXy//jHP0TEiiNWDqRVyBddFyoyZV0oWiGPqG+99VZPvejUqZP+5ptvSquQr0b70CgKeczEhgJelMFon1599VWrBiU/rQYnpF4LhTz2FrEHJbbeeuvkghuf2CxcGOIoq4b8kfjbWLmPd4p/5RQGVuFoskYo8UgCJEACJEACJEACJEACJEACJNCsBOqukJ82bZrGbGP74z3LZp5JC4AK+XhSYgsdZbLMMstU/EHhapcXNvKMc36FvNhghwLdjgszo7M4mLlBPBhICMqznQY2GUxiuidIWWTb0IeNZQwgQNkEUzWYOW67aijkET/MCDWqQh7mgtIq5IuuC3YZ+M+roZBHGjC9ZNcxKDBhlgvX4sydJN1k0y+L/LY330w7mJkl7Wq0D42ikMeAkl2OaZ8zKRMcq8EJ8dZCIY90bBv8cZtSw7/tsM+EcMSgbZgLamPF7wcffKA7dOjgxgO/2EeDCnkhxCMJkAAJkAAJkAAJkAAJkAAJkECzEqi7Qh7g8LEvH+84LrbYYlXjSYV8PNoNN9zQUTDDBEnYn207u3PnzhqKzigXppBHmP33399T/lBkp3FPPvmkEx7masLyu9VWW3nSuO2222KTCFIWwYSPXVevuuoqfeqppzrX7r//fk+c1VLIT5w4MXTGqScD1o+8Sjx7ICJqhjxMGmElQZSrZl2IShf3qqWQx0oSDJTYdQNmPvC7bAr5arQPjaCQx/Nrl98WW2wR265F1bdqcEJ6eZ/lpIMwtjk5bLSKwfOkbvnll3dZbrTRRqHBgtpY2zNM3WATbSmX+eefX3fv3t35ndT0mB0fz0mABEiABEiABEiABEiABEiABEigEQjUXSEP0w72Zpn48N5yyy2rxoYK+Wi048aNc5Qdu+22W6RHe/Ynygybxka5KCUszERAmS5KFyh/Hn300ajoPPd22GEHJ+zrr7/uue7/IbPokc66667rv13xO0hZBFMOmIEveV1kkUX0PPPMo5dbbrkK5V21FPJ2RiGz2Cy3r/vP8yrxkirk7XShwEO9sDdkxP1q1gU7/aDzainkkRb2FPAPLqKelEkhX632IatC/rnnntMwexbk7Bnep59+epAX99pnn32mO3bs6D7XmJmNa1EOdQnmr/z1G2GqxQlx532WkyrksRm4tHM4hm3MijzZ7qOPPvKEO+OMM+zbnvOgNtbjwfzA5t92PuScCnk/Kf4mARIgARIgARIgARIgARIgARJoFgKFKuS/+OKLig/nuI/mwYMHV4TBhnBx7ocffojzEni/jAp5KPxESYHjIYccEih7kot77bWXExcUZFEOJl+gjJZ0MQM9ykUpYRHu3Xff1e3atXPjg5IbM8Hj3Ntvv+0M6EBhHOcwm13yiyOUeVEOAwPYXNDv/PEgLlzzu2or5L/77jsNszlRCi/JU14lXhaF/Pnnn69nmWWWij0GqlUXRNaoI2ay23UA56hDcQ77BcDvW2+9FekVsvlNcJVJIV+t9iGLQh5tEOz19+nTJ7BMkirkoVjHbHi7Xtxzzz2BcdoXYZ4JYaZOnWpfds6rxQmR532WkyrkwWWdddZxuSR9r5x33nluGKx2C9sPA7KEtbG4Zztslm2XD87j+hZ2eJ6TAAmQAAmQAAmQAAmQAAmQAAmQQCMRKFQhDwWq/6MZSvowN3LkyArl1UILLaSjwuAjfNttt3WUsJjxnGR2sJ0+lIR2HpMofe3wjXh+4IEHemSKm90eJsOHH36oMWNxySWX1JgJHufOPvtsN12scoiaof7SSy+5fsE/iDuUYPZqCZg9wIasUQ5KIsR33XXXRXlz7kFxNtdcc7n5gOmDMAe/iDdoM0PMiIUiXOoRZtMGzZK1FVNLLLFEWFLOdcwkl/hwjFJiSURi7xrPUZyD6Qc7/ilTpsQF8dy3FXNRJmskEOw/YyNdv1193K9WXZC0o46YxW5zwPmYMWOigjj3TjzxRCfc888/H+t36NChnjTiFPJ+M0hpTIMgM127dnXTO+yww2LzZ3tIk3Y124cs9R8DUVHlZ6+6OeWUU2yxPef/+c9/XH6I7+CDD/bcD/ux++676wUWWKDidjU5IbG8z3KaMsfG29ImY5PXqDYeeXvzzTc9m8E+8MADuBzootpYfwC0r2ussYannKiQ91PibxIgARIgARIgARIgARIgARIggWYhUKhCfsiQIZ4PZig3rrnmmgoWWM5/0kkn6TnmmMPjH8pgzP6Lcv7l61DOp3EycxF5i1LmpImz3n5XWmklD0eYzUiyaak/32IzuFevXv5bgb+hdBWOOEYpuB9++GGP3zAl6D//+U+PP5RvmCyYrYzNVJE2TB8lcfvtt58bPxRNEyZMCAwG8wyIF4p0zBT1O5kxDT9hM9SPPfZYNy0op6MGOW666SbXL+L89NNP/Um6v6GcEvvkmI0Nu+1xDjbzEa/8hckdFo9tiuXQQw8N8+Zcf+GFFzQG1pDWueeeW+G3GnWhIpGQC48//rjLQFigTYlz2223nRMuycAP4jr55JPddOIU8oMGDXL9Ik+TJ0+Oy47nPswliSy77rqr517cjzRpV7N98Nf/L7/8MjTreDZ22WUXR2aspMGqhyBnr+Dp2bNnkBc9duxYZxWH8IM5qqAZ73bgX3/9Vctg2/rrr2/fcs6ryQkJ5H2W05Q50jvzzDPd+gU+sgkz7tnu448/9mwEGzejPq6NtePGOUzh2AOhVMj7CfE3CZAACZAACZAACZAACZAACZBAsxDIrZDHbHYoV/v3768XXHBB98NdFBxQemKm88orr+yYOGnbtm2FH/iFUgkmAOLcQQcd5AkftWGcxAVFKPJ5xRVXOEvkJW84br755nr8+PEVZjUkbKMeoZR66KGH9J577unhIbJBgfjggw86CucghbJfrhtvvNGdCYnNKeMU3IgTJl8kPTmiHvgVWpiNjX0BxA+OO+64o/7888/92XCUa5hVbftFWL8SCAq7tdde2/UHFmGKOUnkp59+ctK14+7SpUvFKov33ntPd+vWzY0bJjEQ1nZfffWVs7oD9dk/2xxsMJMas2fttKCc/uWXX+xonHPItuaaa3r8brzxxrp3794aZm8GDBjgKAAxWAFFpD2QFTSD358ABk6gOLTzAlM8UUpPiQPKfr+Jnvbt2+sjjjjCyRPKGwptKO0wY9+204/0/DPKq1EXJK9hR5QV8nH11Vc7qz9sDjjHqgms9hg1alSFMhyDH1AWY7AQfpdddlmnvYh7ptDmyEbCUQr5SZMm6bXWWstTNljxEvf8QVYohq+//npP2Nlmm00/8cQTkYM/wilN2tVsH4LqP0wknXbaafqcc85x6hk2Tt5jjz2cZ942CRS0GggDeAMHDvRwmXvuuZ3BXrvc8EzbgxkoXzwXmDEf9Ic6DtMp9uDUvvvuKzidYzU5IYE8zzLCpylz+BeHPUMwqAhGmCkPFpg9/+233zqDGhdffLEGY9zHiiEMzke5JG1sUHisBpJnkQr5IEK8RgIkQAIkQAIkQAIkQAIkQAIk0AwEcivkxZQDPsST/sFWOJafY0Y1TAlAgWQrSqLAPfnkk7pNmzZOWjjeeeedUd6de/ZMyag8QtnfLO7II49MzDtICWzLiVm1QVyi7CjPP//8gWEQDxSM4mD+IShuuQbbzX4HRb3MsBZ/OIqddtjphu1h+x7OV111VX9U7m8MxojpBX84/IZCHw4DPEH3ERZKKduhDKA8tR2Uv1BYBcWBa8g3lKjioHgP85vketzsblGShcWFwbIwB9MY8qyFhY+67p+9XI26EJZ3+/oJJ5yQmPFOO+3kBoX8QfUMMq+44oquv7ATKNVh4zxIIY8NQ+2BlSCOaCPDHBTGYXlDXFBa3nrrrYHB06ZdzfYhb/33r8DC6p4oLlhRc9dddzlc/JuWBpVB3DXbfn01OSHDeZ7ltGUeVHEwGICBkaD3KdrHpZdeWh9wwAGBA612fGnaWDucnGOAEuVChbwQ4ZEESIAESIAESIAESIAESIAESKDZCMyADJuP26ZyZmm8GjFihNp0003Voosu2lR5Z2ZJgARah4CxJ67MPgjKDBa1jtCUtNQEzOC5MuZmlDEho8zm6sqsMnDqt1lpUjO5zZ4DyqxuU2aApWZpMiESIAESIAESIAESIAESIAESIAESKIpAUyrkixKe8ZAACZAACZAACZAACZAACZAACZAACZAACZAACZAACZBArQhQIV8r0kyHBEiABEiABEiABEiABEiABEiABEiABEiABEiABEigpQlQId/SxU/hSYAESIAESIAESIAESIAESIAESIAESIAESIAESIAEakWACvlakWY6JEACJEACJEACJEACJEACJEACJEACJEACJEACJEACLU2ACvmWLn4KTwIkQAIkQAIkQAIkQAIkQAIkQAIkQAIkQAIkQAIkUCsCVMjXijTTIQESIAESIAESIAESIAESIAESIAESIAESIAESIAESaGkCVMi3dPFTeBIgARIgARIgARIgARIgARIgARIgARIgARIgARIggVoRoEK+VqSZDgmQAAmQAAmQAAmQAAmQAAmQAAmQAAmQAAmQAAmQQEsToEK+pYufwpMACZAACZAACZAACZAACZAACZAACZAACZAACZAACdSKABXytSLNdEiABEiABEiABEiABEiABEiABEiABEiABEiABEiABFqaABXyLV38FJ4ESIAESIAESIAESIAESIAESIAESIAESIAESIAESKBWBKiQrxVppkMCJEACJEACJEACJEACJEACJEACJEACJEACJEACJNDSBKiQb+nip/AkQAIkQAIkQAIkQAIkQAIkQAIkQAIkQAIkQAIkQAK1IkCFfK1IMx0SIAESIAESIAESIAESIAESIAESIAESIAESIAESIIGWJkCFfEsXP4UnARIgARIgARIgARIgARIgARIgARIgARIgARIgARKoFQEq5GtFmumQAAmQAAmQAAmQAAmQAAmQAAmQAAmQAAmQAAmQAAm0NAEq5Fu6+Ck8CZAACZAACZAACZAACZAACZAACZAACZAACZAACZBArQhQIV8r0kyHBEiABEiABEiABEiABEiABEiABEiABEiABEiABEigpQlQId/SxU/hSYAESIAESIAESIAESIAESIAESIAESIAESIAESIAEakWACvlakWY6JEACJEACJEACJEACJEACJEACJEACJEACJEACJEACLU2ACvmWLn4KTwIkQAIkQAIkQAIkQAIkQAIkQAIkQAIkQAIkQAIkUCsCVMjXijTTIQESIAESIAESIAESIAESIAESIAESIAESIAESIAESaGkCVMi3dPFTeBIgARIgARIgARIgARIgARIgARIgARIgARIgARIggVoRoEK+VqSZDgmQAAmQAAmQAAmQAAmQAAmQAAmQAAmQAAmQAAmQQEsToEK+pYufwpMACZAACZAACZAACZAACZAACZAACZAACZAACZAACdSKABXytSLNdEiABEiABEiABEiABEiABEiABEiABEiABEiABEiABFqaABXyLV38FJ4ESIAESIAESIAESIAESIAESIAESIAESIAESIAESKBWBKiQrxVppkMCJEACJEACJEACJEACJEACJEACJEACJEACJEACJNDSBKiQb+nip/AkQAIkQAIkQAIkQAIkQAIkQAIkQAIkQAIkQAIkQAK1IkCFfK1IMx0SIAESIAESIAESIAESIAESIAESIAESIAESIAESIIGWJkCFfEsXP4UnARIgARIgARIgARIgARIAgS+//FJ16NBBtWnTpjRAyihTEYVDLkVQ/CuO77//3nlu5pxzzr8uNvFZ2eRp4qKoS9ZZ/nXBzkRJoOUIUCHfckVOgUmABEiABEiABEiABEiABGwCl156qTr++ONV//79Va9evexbTXteRpmKKAxyKYKiN44FF1xQ/fzzz2rKlClqjjnm8N5swl9lk6cJi6CuWWb51xU/EyeBliFAhXzLFDUFJQESIAESIAESIAESIAESCCKwzjrrqBdffFHdfffdaueddw7y0nTXyihTEYVALkVQ9Max1lprqZdfflndcMMN6oADDvDebMJfZZOnCYugrllm+dcVPxMngZYhQIV8yxQ1BSUBEiABEiABEiABEiABEvAT+OCDD1SnTp3UrLPOqj7//HPVrl07v5em+11GmYooBHIpgmJlHH369FF9+/ZVG220kRo1alSlhya7UjZ5mgx/3bPL8q97ETADJNASBKiQb4lippAkQAIkQAIkQAIkQAIkQAJBBI499lg1YMAAtddee6nBgwcHeWm6a2WUqYhCIJciKFbGgYGspZZaSk2bNk299957zgBXpa/muVI2eZqHfGPklOXfGOXAXJBA2QlQIV/2EqZ8JEACJEACJEACJEACJEACgQRgZmPdddd17k2YMEF17tw50F8zXSyjTEXwJ5ciKIbHccQRR6iBAweqbbfdVj3wwANqhhlmCPfcBHfKJk8TIG+oLLL8G6o4mBkSKCUBKuRLWawUigRIgARIgARIgARIgARIIIrA999/75jYeO2119Thhx+urrrqqijvTXGvjDIVAZ5ciqAYHQfMAa200krql19+Ueeee646/fTTowM0+N2yydPguBsueyz/hisSZogESkeACvnSFSkFIgESIAESIAESIAESIAESiCLw9ddfq6222kqNGzfOmRX/0ksvqTnmmCMqSMPfK6NMRUAnlyIoJovjlltuUfvtt5+accYZHfNPe+yxR7KADeqrbPI0KOaGzRbLv2GLhhkjgVIQoEK+FMVIIUiABEiABEiABEiABEiABJIQeP7559WBBx6o3n77bbX00kur4cOHO/avk4RtVD9llKkI1uRSBMV0cZx55pnqnHPOcQIdd9xx6sILL1QzzzxzukgayHfZ5GkgtE2RFZZ/UxQTM0kCTUmACvmmLDZmmgRIgARIgARIgARIgARIIA2BSZMmqVNPPVXdfvvtbrBBgwaphRZayP2NDSm//fZb93cRJzPNNJNaZZVV1AYbbKA6dOhQRJRuHGWUyRUuxwm5VMKDDf1nn322KvV7hRVWUG3btnUTveyyy9Rjjz3m/F5mmWVU79691Z577qnwLBTlyiZPUVxaJR6Wf6uUNOUkgfISoEK+vGVLyUiABEiABEiABEiABEiABAyBTz/9VC255JLq999/rxsPKCSHDBlSWPpllKkIOORSSfH9999XUIxrrStv1ugKTNncdNNNhaRWNnkKgdJCkbD8W6iwKSoJlJgAFfIlLlyKRgIkQAIkQAIkQAIkQAIk8CeBq6++WvXt21dNmTLFRXLIIYeoNm3auL9hU37q1Knu7yJOEP/KK6+sDjvsMGcT2SLilDjKKJPIludILl56UMTDjMxDDz1UlfrduXNnNe+887qJTpgwwZmNLxd23HFH1a9fP7X88svLpVzHssmTC0YLBmb5t2ChU2QSKCEBKuRLWKgUiQRIgARIgARIgARIgARIoJLATz/9pC666CJ1/vnnq+nTpysoCocOHapmnXXWSs9NcqWMMhWBnlyKoJg+Dtjt32abbRzTOGuuuaa6+OKL1YYbbpg+ogYJUTZ5GgRr02SD5d80RcWMkkDTEaBCvumKjBkmARIgARIgARIgARIgARLIQ+Cpp55SO+20k/rxxx9Vjx49HKV8nvgaIWwZZSqCK7kUQTFZHK+//rpad911FQZDdt55Z+e5mmWWWZIFbkBfZZOnARE3dJZY/g1dPMwcCTQ9ASrkm74IKQAJkAAJkAAJkAAJkAAJkEBaAmPHjlWbbrqp+uGHH9SAAQPUMccckzaKhvNfRpmKgEwuRVCMjmPatGlq9dVXV2+//bbaa6+91M033+wxBxUduvHulk2exiPc2Dli+Td2+TB3JFAGAlTIl6EUKQMJkAAJkAAJkAAJkAAJkEBqAtdcc41j2719+/Zq8uTJas4550wdR6MFKKNMRTAmlyIohsdx4YUXqpNPPll16tRJwYb8bLPNFu65Ce6UTZ4mQN5QWWT5N1RxMDMkUEoCVMiXslgpFAmQAAmQAAmQAAmQAAmQQBwBbA7YrVs3NWrUKMe2/AknnBAXpOHvl1GmIqCTSxEUg+OA6afFF19cfffdd+rxxx9XW2yxRbDHJrlaNnmaBHvDZJPl3zBFwYyQQKkJUCFf6uKlcCRAAiRAAiRAAiRAAiRAAlEERowY4ZiuWWSRRdSHH36oZppppijvTXGvjDIVAZ5ciqBYGcd1112nDj74YGfz1qeffrrSQ5NdKZs8TYa/7tll+de9CJgBEmgJAlTIt0QxU0gSIAESIAESIAESIAESIIEgAv/73/8UlPGff/65M1N+o402CvLWVNfKKFMRBUAuRVCsjOPvf/+7evTRR9UVV1yhjjzyyEoPTXalbPI0Gf66Z5flX/ciYAZIoCUIUCGfspixYzxmViy00EKqS5cuKUNn8150mkXHFyfVxIkTFXYo32WXXUK91jpPoRkp8Mb48ePV119/XdMlmx9//LEaM2aM6tGjR4GSMCoSIIGsBOrVtrEtyFpitQlXr3pRG+nSpfLbb7+pIUOGKCjJZpllFtW2bVvnr02bNur3339X2FRt+vTpCv5gl3jjjTeuSGDYsGFq6tSpTrhZZ53ViQf+Jezss8+uunfvXhEu6YVmyGNSWaL8tYqcNgNb5qFDhzqmNnr27Kl23XXXhql/dn6TnJdRpiRyR/mxmaCdGTx4sHrkkUecGd3bb7+921bAX73amaj8V+Oen0netvewww5TP//8s7r++uudNhjtdt62N63cRcqEDZ5/+eUXZ2NayFHU+yStTGX1X/R3cpFlj2ehEepzWcu+bHIVXZfLxofyRBPIrJDHR9IhhxwSGfsMM8ygevfurZZaail1/vnnq3fffTfSP26eeOKJasUVV/T4e+aZZxSWDQU5pHH66ac7naeg+0Vew4t46aWXVlOmTHGi7d+/v+rVq1eRSVTEVXSaRcdXkWFzATbXRo8erYYPH64eeughBYU8uL3//vtB3p0OTq25BmYk50WwhdyYHXLvvfeqDz74QG299dZOhz9n1JHBsWkSON93333qhRdeUHPMMYdTBpGBeJMESKDqBGrR3tpCsC2waTTuea3rReOS+DNnY8eOVWuuuWaibG6zzTbO+872/MMPP6h55plHwTZ0mGvXrp1j1zjsftz1ZshjnAxJ7reKnDaLMspcRpnsMstyTiaV1MrIpIwyVZZcc16p9ncyy74560Uz5rradbkZmTDPOQiYD5hMzijk9UEHHaQ7duyIL6CKv2WWWUab5Wr61VdfdeK/6qqr9O67765nnnnmCr8Iv/baa+tjjz1WG4ViRX5MA6v33XffirTMDAe944476rfffrsiTDUu3HPPPZ68d+3atRrJeOIsOs2i4/Nk1vy45JJLtJnV5uGE8jUKd79X93e18+QmVMWTl19+Wc8222wVcpvlblVMVesNNtigIs0555yzqmkychIggWQEatm2sS1IViaN4KuW9aIR5E2Sh3feeUePGzdOg43dhzADzPrqq6/Wzz//vH7zzTe1Ub4HRofwZrar3nbbbd13Ivqnffr00WbAWn/00UeB4dJcbIY8ppEnzG+ryGnLX0aZyyiTXWZZzsmkkloZmZRRpsqSa64rtfpOZtk3V71oxtzWqi43IxvmORsBzCjK5T777DNH2epXyr/xxhuB8eLDyMxqdz+YEK5z584aCv4499Zbb7nh5p57bm3MoMQFKfQ+BgZsOU866aRC4w+KrOg0i47Pn2d89L744ova2A/UZnmfyytKIV/tPPnzWK3fzz77rO7Xr5+eccYZXbmrrZA3S6T0Aw88oI3dUzdNKuSrVcKMlwTSEahl28a2IF3Z1NN3LetFPeXMkrax3+2+y9DfMqsQU0Uj4du3b6/Nxpypwib1LGlIf7AR85hUlih/rSKnzaCMMpdRJrvMspyTSSW1MjIpo0yVJdc8V2r5ncyyb5560Yw5rWVdbkY+zHM6ArkV8kgOs5Lkw0SOxmxHaE6MXUaP/8UXX1wb26Gh/uWGMYXiKjvPPPNMuVzTozGdo7fcckt92mmnaWMfvCZpp0kTjKAMj3Jp4ouKJ+6ePVMtSiGPeGqVp7g8F3HfmFxy63dRCvm4cj3iiCPcNKmQL6IUGUfRBOLqcNHpNUp8tW7bim4LWrXc7PpTDQa1rhe2PI18ftttt7nvMvQnMeCcxmHFJMIdf/zxaYKl8tsMeUwlUIjnVpHTFr+MMpdRJrvMspyTSSW1MjIpo0yVJdd8V6rxneynwLL3E+HvahCoRV2uRr4ZZ2MRKEQhD5FWX311z0fUoYceGiopZlCL4l6Oxt54qH+5MXLkSCccZiCbDevkMo8Wgf33318vv/zy1pX6ncLMkJRvnEK+frksPuV11lnHlbsohXxcuZq9F9w0qZAvvkwZY34CcXU4fwqMAQSKbgtYblqTQe2eLfQdpd+Avt53332XKvGBAwc64R9//PFU4dJ4boY8ppEnzG+ryGnLX0aZyyiTXWZZzsmkkloZmZRRpsqSa74r1fhO9lNg2fuJ8Hc1CNSiLlcj34yzsQgUppA3O6q7H1H4mIJJmZ9++ilUWtiMl48uHGFfPs717dvXCbP55pvHeW3J+7CzCpaNopDfb7/93DJuJYX8uuuu68pdhEI+SbkWrYRryQeIQleNQJI6XLXEWyziItsClpt27Jc30nu17NV52WWXdd+fXbp0SS1ujx49nL2KovqfqSP1BWiGPPqynOlnq8hpwymjzGWUyS6zLOdkUkmtjEzKKFNlyTXflaK/k4MIsOyDqPBa0QRqUZeLzjPjazwChSnkp06dqrH5lq1kv/nmm0MlxnJt2y82aI0zASON6y233BIab6vewGa4bdu2dZhSIV/fWlBk45y0XItUwtWXHlMvG4GkdbhsctdLnqLaApabdjaZb7T3ar3qVS3SxZ5Edr/whBNOSJ3sAgssoNdff/3U4ZIGaIY8JpUlyl+ryGkzKKPMZZTJLrMs52RSSa2MTMooU2XJNeeVIr+Tgwiw7IOo8Fo1CFS7Llcjz4yz8QgUppCHaHvvvbfnY2qTTTYJlRjLkO0PL5xfcsklof6ff/55xz/MccTNfPryyy81NlvATtvVcshD2Ma1kiY2qn3ppZf0b7/9JpecvL/yyisaOzT/8ssv7vUkJ2FpwmbqQgst5PJMqpAPiy8oL7Ch+9prrzlcJ06cGOSl4lqWGfJp8lSRYIYLeesKBqJQNydPnuymXlTjnKZco5Rw33zzjR43bpzGRoJp6xyEysvIBRNygv0jkLc//vjD8YEjZH/uueeq/qxPnz5dYzNM1O1p06aF5LB6l9PKnta/nfOs5ZinHUtTh+28NvJ5Vo5p27Zvv/3WeQbstiUJlyLagmqXG56377//3iMO5BwzZoz+6quvPNf9P/AuQpuLckjr0rzHsjDI8nymrReQOW+7lbUOo418/fXX9aRJkxLt+5O2fPw2X++///5UUbz55ptOP+j0009PFS6N52bIYxp5wvy2ipy2/GWUuYwy2WWW5ZxMKqmVkUkZZaosucorafo5/tB5+vv+uOR3Nb+TJQ3/kWX/rE6qqxF21e7fZekfI29Z63Oj12XoOt566y1Xh4T8pnH1+o5Kk8c8MmatL2ny10h+C1XI+zd3nWGGGfT7778fKC8+tPwK+ZVXXjnQLy7KRnUHHHBAoB98YB588MEexTTiX2SRRZyw/o//wEhiLkKx/vDDDzsDD1gNsNFGG1WEwAM1atQofcwxx2jM1EIeMFKLhu6UU05xTPmI3DPNNJNjm/bnn3+uiEcuxKV57733euJE3DPPPLNecskl3b/LLrtMonMGB+JkEM9gdtFFF2mYm5E8yxHXYEJIlKgSxj4mVcjHyYg4oRyxZUpyvtlmm9nZcc/z1hXk99xzz9VQvIO1MOnYsaO+6qqrtG2OKavJmrTlGqSEw4AR0ocdXsljmzZtNDZVjrPLm5eRCzvi5JNPPtHnn3++7tSpk5M/KCChUFlttdXc/C611FLO82NHkzdvaOSvvfZavcYaa2iszLHZYHOWwYMHVyibMOPSX+c22GADO1t6zz33rPCDMChLv0sre1r/kl5WVkW0Y2nrsOQ57Igy85eB/IZpFTjMqJVrQUcMhop78MEHK/yeccYZcttzzMoxSdtmJ4T2tH///hr1XuoljvPOO69Ge4ZBaww241nB4FrQAFvetqDochP5wP6ss87SyyyzjCMb+gtwTz75pF5rrbVcedFebbjhhp7nBvJiI3W0rXhvChu0FR988IEkEXjM8h5LyyDt85m2XkCwLO2WDSRrHUYcWC3RtWtXjfeHsMfkiPXWW09vscUWTtnYaWU9l34e0kA9QLmncVdeeaWTvyeeeCJNsFR+myGPqQQK8dwqctril1HmMspkl1mWczKppFZGJmWUqbLk/rySpZ8jcRXR35e45FiL72RJK+jIsldOXyiJrqba/bu0/WOUZ9b63Oh1Gc8F9B7QKfitirRv397RY7777rtBVdq5Vq/vqNAMBdzIK2OW+hKQjaa7VKhCHg+CKKHloy1MwbHzzju7H3biF0c0DH6H2WBQSOD+iBEj/Lf1kCFDnPsYANhqq630UUcdpbfbbjuN3xL3csst5yh1KwInuICZ9kcffbSeb7753PgQr18hD0VKhw4dPH5EplVWWaXiuuRt++23r8hF0jTBFzLbsuIhxzX5g3mgpPFJRjCIgJn2yGO7du10v379HEUQFEJgKXnHxq1hLk4hnyZPWFEgaa6wwgoa9Wevvfby/Ml9Oe6yyy4VWctbV/773//qTTfd1MnL7LPP7gy8YCR+wIABFUo05COrQj5puYqAfiUclI3+xl644AgFWJjLyygsXrmOQQso3Ow6izyhjP3tB64PGjRIguZ+1qHwhyId8eJ57tWrl77xxht17969PcomKD/R7oj76KOP9OWXX+4Z3Fh88cXltnPESPewYcMcJRXil78LL7zQ9ZdW9n322afmrIpqx9LWYRdSyMnnn3/uPO/CVY4XXHCBO2jz3nvvOZua+uvWTjvtpEePHu0p0x9++EGjbZRBGSjBMfvX77I8D2naNkkPs0Cg9IRcc801l7744os1zLPtsMMObl0Sme3j3XffLVE4x7xtQdHlhvZx0UUXrZABz8qBBx5YcV1kw2AnVpih3BZeeOFQf7gHdkEu63ssKYO0zzMGcpP0JfyyZG23JJ4sdVjCYnNUKMfxTGGTtKeeespZHYh6Js9Z2EQJiSPpsXPnzm45Y8A0revevXvV7cc3Qx7Tcgvy3ypy2rKXUeYyymSXWZZzMqmkVkYmZZSpsuS00//N+r1eVH/fzletvpPtNP3nLPtkuppq9u/S9o/lWz9rv73R6zL68WuuuabTx8WEFkzSHTp0qMaKTluvBt0SJpfYrp7fUXY+4s7zyJi1vsTlqVnuF6qQh9DHHnus+0GFD2t8iPtnUWOmlj2zWD7AccQHn9/hwx33oADDLDHbQYGPGXOzzjqrM9POvvfAAw948oIPPH9423/Y+a233qqh0IEi2M6rXyEPxQFmlPtnN84222yOvBixveOOOxwF4/zzz++JC4oH2yVNU8LssccebnxBJmvSxtetWzc3PjRytoNZAZuDP+/iN04hnyZPkmaYTdnbb7/dkycMjECBZ7u8dQV7HMhsbijMnn76aTt6RymEUU+bTVaFvEQcV67iz1bCIX006Mjj8ccf78w0hWLPNmsEPzJDVeLAMS8jO66wc8wkhzkrmxPO8dxg4M2ue7iOsoXLmzeU32KLLeaku+qqq2oo2W3Xs2dPT57OO+88+7Zzjg2lJd9+hbx4xgtJ/OBoK+TTyo7Bg1qzKrIdA5OkdVj4RR0xI9yvnLUHTiTsQQcd5CkD1J0wJ3uToGPkd1nrXJq2TdI85JBD3Dzfd999ctl5Z9kMUaegIMUgL/7uuusu1y9OimoL7DSD3imeRCN+wCQUOloyEGY/GzjHMwH2MFvVp08flwHuoU3A+xOrj7AiC7PpMXDnL1/pyPuzYbclWd5jcQzSPs9YOZekL2HLkbfdylqHkQfMdFlwwQWdMkH76Hf4kEA5gVNe98UXX3jKPuxdH5YO+nboV/lXLoX5z3K9GfKYRS5/mFaR05a7jDKXUSa7zLKck0kltTIyKaNMlSX355U8/Zyi+/v1+E72c2HZ/0lE9CbS5/braqrdv0vbP5Zv/az1uZHrMma9Qy+DskCf2l6tjdKC6Ur/N5L9XVPP7yj/8xX2O6+MWetLWH6a7XrhCnk88PLwy/HRRx/1cMEsa9xbaaWV9KWXXurxP/fcc1fYjZYZgliybjvMivvb3/7mhD/zzDPtW+75tttu64kfo0xZHQYWkD+Ry6+Ql3jxEIkfHKEI9TeEI0eO9PiBsiHIJU0zTnEgcSeJDzbH7aXpmP1tO3z42srdMPZxCnmJM0mesDICLIPsC+Oaf/UCZgTaroi6Yg82QcEU5NAg2WVfL4U8BsJeffVVTxZffPFFT94wQGS7IhjZ8cWd23UWzDCjHzOL4TDDHys8oMCC/cG8eUOdxaoZpIPBu08//bQie1BcH1u50wAAQABJREFU2WUHUwx+h5mg4idMIY+8ih8cbYW8xJdGdoRJ4z8vK8ljUe2Ynfc8il3JF5b72Xwx8Op3MNdk+wkaXEGYjz/+2Jnli/YMnVPbFcExSduGNO33JpTPfocPDNtUC1bphDm/Qj5LW4C4iy43rD6wywTM0YH2O3lOxS86r0ErF+TdD39B5smKeI8lZWD7Q36i2jLIm7Re5G238tZhfDRIOZx99tn+otIwt4dVTVixltdhsoKkhWNa+/FSv6ppP74Z8pi3HBC+VeS0WZVR5jLKZJdZlnMyqaRWRiZllKmy5LQuop+DeIvq79fjO9nPhWX/J5E4XU2t+ndp+sdF1OdGrMtbbrml27+95ppr/FXW+Q1TwjJBDH1grN7263Gknyt95Wp/RwVmNORiUTKmqS8hWWnKy4Ur5EHBXnqBSrP77rt74Ij5FpgaCJotDxMS4uz7MAlhu3/9619uBQ+zIztw4EDXD/ISZMbEjjPu3LZ1G6aQ98/MDzKzg3RsJTKW7oe5JGnaFThO6RUXH5abYVaiPPA33XRTRdagLJX7fsWueE6qkIf/uDzBhnwYb1t25AkzEP0ub12BKQwxbTHPPPM4SmJ/GvLbtrlfD4U88hmkcEb+7GcTii/b5WVkx5Xk/JxzznHrEMoN5kPCXN68YYWA1Fd0GMOcPTKP2bp+Z8+iD1PIQ0klaeEYpJBPIzvykMZ/XlYic1HtmP18xrVNknbUEStf7BVWYW26LA1EGaDeBzm8g3A/SIlXFMe4tg35kkFq5CVsLxUZmIYfKHzDnK2Qz9oWIO6iyw0Dp8i7/GE1WZDzv7P9A/oS5vDDD3fjgnLe74p4jyVlkOb5lHwmqRd52628ddj+sMWqIszi8bsjjzwys2k2Oy7EI3Uji/14mBRD+OHDh9vRFnreDHksQuBWkdNmVUaZyyiTXWZZzsmkkloZmZRRpsqS07qIfg7iLaK/X6/vZD8Xlv1fRKJ0NbXq36XpHxdRnxutLtsWHDDhKmhVt5TYFVdc4faD0Z/df//95ZZzrPV3lCfxiB9FypimvkRkqeluVUUh74cJpQAeMjixBY4PLhjuh/Pbk4d9aXFYZo5K2aVLF7nkHu3RGLGX7j/KBnLyoYeN/vI4sR+O+MIUxNg0VdLDETOTg5y9eeU222wT5MW5liTNpIoDRJgkPmySiA9w2OPHhrR+Z5vuQNpBLo1CPkmegtLA5ns2a5g8mTJlSoXXvHXFNicB2/VRDpu9Sp7qoZCHbbIwZ3NYffXVPd7se/7nSH4X+TzJsy2sgspNMpg3bxgUlHSCZuVKOthIBqsfYDLEP2MafopSyKeRHemm8Z+XFdKDK6odS9M2/Zly/H8o4aU88X4JWjljK2zh97nnnvNEjNkjMEGFd9GkSZM89/CjKI5J2jbsFSDyYEZ4kMNKJfGDI1aOBDlbIZ+1LUC8RZcbZr7Y+fevvBJZ8OzZ/rCJbZCDnXfxFyZn3vdYUgZpnk+RJUm9yNtu5a3DMMsmjHHEJq5+U18TJkxwZlSLXFmPtklA/7spSZzYrBxtAQZEq+WaIY9FyN4qctqsyihzGWWyyyzLOZlUUisjkzLKVFlyf17J289BLEX09+v1neznwrL/i0iUrqZW/bu0/eO89bnR6vJuu+3m9qM33njjvwon4Ayz5MW0DfrcWNGP/c7E1eM7StKOOhYpY9r6EpWvZrpXFYU8ZqvLZl/yMQfAcFDw4pq9xBxLk8WfHMV0BRTxuIYN7mwHZZm9aSUU7Un+1llnHTua1OdJPqKTNgZJFbdJ0kyqOIDASeILAoMP3RtuuEGDoZQTjthILchVWyGPhsk2nYO8wHaz3xVRV7D/gMjsN53kTy9pufrDBf1OWq5JlXB2owmTUeKKYCRxJT36G128iIJc3rxB8WqvRolS/Aelb1+rlkI+THZJu1asJD0ci2rHktZhO+24c+x/IM8jjjB9Zju0VXaZw89hhx1me9HYzAjXMdjkd3nrnB1fkvZ27733duXBuxO28v0OZpxEZgwihM2yyNsWSLpFl1vSjuQTTzzhygl5YQczyNmzv+Hv119/DfJWcS3Neywpg6TPp52ZuHqRt90qog5jMH6RRRbxlAdWz8F8TVAdteVLc+63+Yq9T9I4sMLMI2yKXC3XDHksQvZWkdNmVUaZyyiTXWZZzsmkkloZmZRRpsqSi76Spp+DmIro79frO9kmwbLXzqSEJLqaWvXvsvSP7TLFeZr63Gh1GSvD5dtt33339YtW8XvHHXd0/SMcJjKLa5TvKMmPHIuUsYj6IvlqpmNVFPIA4N+cALOt8fBjBjMqmG2WBh+OsEMqFRbHk08+2bEbi3MoH7Drsu1sm7swEVIrF/cRjXwU0RjY8iRJM6niAPEmic9OH3aW//nPf+r27ds7ZYHZ/Ng0VcqrXgp525438gKTDkEub13Bx749YoklRVGuWRTytmmMvIyieITdS9ro5s3ba6+95tZV1JPff/89LEux1xtdIZ+XlQ2gqHYsTdtkpx91DhvcMBkkbRDeL7bDDvVyT47t2rXzKBFllr1/U1TEUyTHJO1t7969PfmFqRK/QwdbZFl77bX9t93fWRTydlsgERVdbtXuSIYNUIg8Wd5jSRkkbcskLzjG1Yu87VZRdRjLf+09ZaQOot+V1s67Lb99fuedd7p1G/Hbmxrb/sLOhRVWTVTLNUMei5C9VeS0WZVR5jLKZJdZlnMyqaRWRiZllKmy5IKvZOnnIKa8/f16fifbJFj26XQ1tejfZekfS5lmqc+NVJeh97T3/8KkyDjXq1cvT38YdVpcvb+jJB/2sWgZ09SXQw89VMMMetRfkElaO/+Ncl41hTzMPsiHmxyhZMc5lJvYbMx2thIBfrBs/4QTTnD8By3xsB84zNiqlYv7iEY+7LxBljCTNUkVt0nSTKo4QP6SxAd/2C0dZh/EXjPMKrz//vu45cwqlXKth0LeP0MWgwX+QRsno+afXR5Z6gpWfIisOIbZPpb0kpar+I86Ji1X+/kJM9+AdOwZ8rYSLi+jKBnC7iVtdPPmzV9XwvabCMunfb3RFfJ5Wdmy2nHlaceS1mE77STn2Ajbfi7HjRvnBIOyXjb89Nvjk029sccCOkl4z2BA2O9s2bO0GXZ8SdpbbAaNgWeRByvD/ApmmOSQ+//5z3/sJDznedsCiazocqtXRzLPeywpg6RtmbDFMa5e5G23iqzDd999t8aAltQ/+wgTbnErfGy5g86lr4d48RygrqRxmLGPsE8++WSaYKn8NkMeUwkU4rlV5LTFL6PMZZTJLrMs52RSSa2MTMooU2XJea/k6ecgJru/gHdpWr1FPb+TbRIse6XT6mqq3b/L0j/OU58bqS5jXwW7v5zESse///1vTxh7H8d6fUfZz5j/vGgZ09QXTE6z+Qadw1pHM7iqKeRhMx72PIPgYHm+3/l3DrbDYbaj32GjVNvPxIkT/V6q8jvuIxqJ5m0M/BlPkmZSxQHiThIfXsYLL7ywwxgKXv/GejDzIPxrrZCHPa3FFlvMTR/5uPnmm/3Y3N956wpYiKw4Rm0KikSbUSGfl5ELO8VJ0kY3b96gpLHL77HHHkuRS6/XRlfI52VlS1tUO5ambbLTjzvHzAl75u4xxxzjBBk2bJhT3tg0E85erSXmaUSBF2Z+qkiOSdpb5NM/eIDNqdEphUN+ZJUO9qXAoEOYo0L+LzJ532NJ627StuyvnMW/h/O2W0XWYeQbH9y2TXq7TcUGyradS1vOJOdbb72120an3fgZporQV8GKmTyrn+Ly2Qx5jJMhyf1WkdNmUUaZyyiTXWZZzsmkkloZmZRRpsqS++tK3n4OYsrb36/nd/JfJLRm2T9q40g0eRIBqtm/S9s/zlufG6kuY186u68ME5Bxzl4NjbDgIa4RFfJFy5imvuB7GBZWov6OPvpowdfQx6op5CG13w6SVEq/clcIQYEifuQIhcuXX34pXtzjhx9+6PF77rnnuveiTsaPHx9qkzYqnNxLolzJ2xhIWnJMkmZSxQHijIvv888/1/PPP7/LF7sn+109FfL+zRq32247f/Y8v/PWFdgcl/qIY1x6zaiQz8vIAzzhj6SNbt68YVWHXX5HHnlkohzKRtS250ZXyOdlZctaVDuWpm2y009yvu2227plCzNamFUue1xAMQ93/fXXu34w+xabUkJ5B1vtYasliuQY197acsJOPAZApb4iv2LODZv7nHXWWR6zO3ZYOadC/k8SRbzHktbdpG2ZlBGOcfUib7tVZB228w1zMv7NvVFfwwa37LBh5xtttJFb57GRbRo3ZMgQJ+wFF1yQJlhqv7XOI8zwnHfeeRrmrPzt1LXXXqtHjhyZWoYkAWoh57fffqsvu+wyxxSi/T3w1ltvaUzA+cc//qGHDh3qDkgmyXceP7WQOU/+soRtJJmw38TgwYOdVc/+fZ4mT56sa7WkvFGYjB492qn7WOkmg+6wkQzzEWDRr18//cILL2Qp9tRhGoVJ6oxHBGg0marZlhfRzwHKvP39en4n21WhUcq+Fs94UWVv86tG/y5N/7gImRqtLoupbvST8U0nbb7N3T6HFQb7G/Cnn35ybzeiQh6ZK1LGNPXFBVOCk6oq5P22vFDBsAln2CymILu/2CE6yGGGoD0DHwqWuEqO+xidkpmUQfHGXYv7iEb4vI2BPw9J0rQVB8stt5w/Cs/vuPhgL14aAyxTh204v6uXQv6pp57ybBg8zzzzaJifCHKwDQ07unnrCuSH2QphgnqHl0aYq5ZCPqpc8yrh8jIKYxF1PWmjmzdvMEliz6RG+U2aNCkqa/qVV15xytwemUaAJAr5qVOnunUFdebCCy+sSCup7BIwqf+8rCQ9HItqx9K0TXb6Sc7vvfdeD2u07WC+7LLLurPIYR7NVnKvv/76jh/M9g1zRXKMa2/tPGD1BmbCQ+EJBSNm8uOj/Y477gg1yWWHx3netkDiK7rcat2RLOI9lpRB0udT2OIYVy/ytltF1GF8nK2++up2tp1zzEqXZ03eiyussEKFv6QXbFNqaTZ0xQDcaqut5rTVQQOoSdNP4q+WeYTJR9vuKPphstfFNddc47zP0Lephqu2nKjXaIM33HBDLcuNsUEz2ju0fXvuuacWc2QwKYbZV9V21Za52vkPir9RZMImi/Zmj2gvMFkL7wP8rbjiiqH7PwXJledaIzCB0n2OOebQBx98sPMNizo+duxYxwbuSiut5Ly/t9hiC6ePUu1BRrBsBCZ5yjQobCPJVO22vIh+Dhjm7e/X8zvZrgONUPa1esbzln2t+ndp+sd5ZWrEuiztufSV4/YhRB9Y/ML8qu1q/R1lpx11XqSMaepLVJ6a7V5VFfKYFeG3Owr7XmEOs2YwC1AqIo5XX311mPeKTh5szeNDMchBSbbZZps5H25hCtygcP5rcR/R8J/3xZYlTXzECDcs345ycTLIRxLig8I7iKnMQoUfvACDHOw2SZ7iNt6NyxPixygh4pE4cbQ3B/bnAR/qYmvZ/0GQtq7Av50uZqqGOZtflNIvLLx9PWm52ko4dPbDnG2HGp1/2+VlZMeV5DxNo5s3b9iI2C4/vDzCTCx88sknulOnTk774h+MwkeUxAPOUHr53dtvv+36gd+gj6o0siP+NP7zshJ5imrHktZhSTfNEcodDPJKmchx0KBBnmgOOuigCj8yg97j0fpRFMckbRuSfeihh5wPdKzAwWy5rK6ItgBpF11ute5I2u1w1vdYUgZpnk8p1yT1Im+7lbcOY8ALK0nCBqCPO+4497nq2LGjiJb6eNJJJ7nx7LzzzonCo22G/Xo883369EkUBqYNn3nmmcA+TVwEtcoj9sLAAPLcc8/tmNvChtWyj4+Y6oMCO8o1spyYqIM9f9DGQSEgbTa+FbCCFQ6bBcv1qIGHPHLa/GpVtnaaYedlk0k2T+/cubMzCAMFNMoWM+rQh1pyySU1ZtdGuTIxQb9bnl8Mdko9P/DAA93+JPaQwXWsAAxzZWIiMpZNpiLacmETdiyin4O4i+jv1+s72WbTCG15Uc+4LVfQed6yr1X/Lk3/OK9M4NRoddk/ORmTNqMcTEDKewH25G1X6+8oO+2o8yJlTFNfovLUbPeqqpAHDL8iBDNPo5w9Iy3MXI2Ex5JWqbRyxAcaXuq2Q5rykKOxzuPs2c9io9gfn/2RgXz5Z9mKf2yqKfkW28Zyzz4mSdOerYaZVfYma+BhK9Xj4sNuxZIvHLG5nO2ef/55z4xx2HAKcvKxjDiWWGKJIC/utbg8wSNst9v5iuqsYgY0FAmyiWPeunLPPfd40saMeT8X5BF7IdizsfPMGkR8ScvV9of0w5yt4MEsXNvlZWTHleT84osv9jDFTKowlzdvmHls1x2cY2bWyy+/7FkBAn9QeqDuYMmh32Egxo7Hr9TFcweFqu0Hy+/9Lo3sCJvGf15Wktei2jG7bsa1TZJ2miNMZdi8MSDp3xB1zJgxHj8wA2O3iUHpFcUxSduGTV1lMBrLFf0DQUH5C7tm887aFiBuO54iyu2rr77ylMGAAQMCRfBvZhq2USfM1NnlPm3aNE98RbzHkjJI83xKJpPUi7ztVt46LCtQYEIhyEFZKmWAj/Gs7rnnnnPjSWoLXp77Hj16JHpeMBkE7Tryu8kmm4Su1AyToRZ5RNqo1127dtXYI0Mc6jZmxiPvGASJco0uJyYpHHrooY4ImD0q9efxxx93xZL+FhSWYW1hXjndxMxJrcrWTjPovGwyYcAcg6EDBw70iAuzcdgrYr755qv4XvN4ND/KxAT9EJgswKQPODFHBzMb9spxGYTDyrggVyYmIl8ZZcrblgubqGMR/RzEX0R/X9ptadNr9Z1s86l3W17UM27LFHaet+xr1b9L0z/OKxNYNVpdxnsQq7blucARg3VBDvpC8QcdBcLartbfUXbaUedFypimvkTlqdnuVV0hb28sBgV0nLM/QLt16xbpHbNTofCUymsfscwDM7dFEY97mJHm/2iPTMB3Ex8GMHkj6eA86GPB/siAX9g49TsogzBLSOIKWhaOMEnTxCxciQtHLHnBEm5sDtG2bVuNXbSTxgcb23ZcUKbjwx7KR8wYtJdSwx863LgPxeMTTzzhpIN/9maKmAljdzhdT+YkiYyY1YaOrOQLaUqn1o4L55BbbEuPGjXKuZ23riC8zFqRPMD0yfnnn++YN8GoJUYIZfaP+MERy7PPOOOMWNvPfjnwO2m52jPfkSbscgY5zFKSvGFGml0meRkFpRd1zV6ahjyhjMNc3ryhjtmDEcIAR9Sl9dZbz5mpJdfPPPPMwKzA3q34wRGmUKBAxexm2PvF3gsym1H8wbY5lClYliwujewIk8Z/XlaSx6LasaR1WNJNe4R9ZVG0gXmQiSDEadf9U045JTaZIjgmaduQEdQ3qS84wnQD3pdY1YXl/RjchBILA8rY0yNqRmERbQHyVHS5vfrqqx4ZwzbHxqonmwXsZQc5/wCtzK4Vv0W8x5IySPN8In9J60XeditvHZYPtrnmmsujIBbG9kyksOdO/MYdYcJEyj0qLtR9GezHSj2sxIxz6PfJpsiSBmZhp3XVzGNUXrAEHu8aDBChToS5ZpATEwHkXb/33ns7ZY4BCL/DStYwWYuS006zXmUreSijTJDNX4YwIYdJCxg4xzshypWNCfazQT8UDoPw0hYNHz7cgwGrgcNMcJWNCQQvo0yeArV+JG3LrSCRp0X0c5BAEf199Dfq8Z3sB1TPtryIZ9wvT9jvvGVfq/5dmv5xXpnAqhHrMiZr2qZTMfHPr8OClRDRWULPFrRPUK2/o8LqXtD1omRMU1+C8tGs16qukEdnTJbZRn1kCUA06IsuuqjTUYmzs4Qw6NRgpoV0bMKOUIqiI5jFIU9QcJ588skV6WDDLTxUkBPKTYx62Yof5AcP2IQJE1zlJzapxWwAf16htBN7mUnTFHnee+89j8LajhvK+TTxoXNoK7/tuHCOgY6jjjqqIv8Ig7BghSWZ/nDIB+4hL3BJ84QPbthPt+PDb8yQk79TTz3VUVhBEQ8Fq/gFF3F56wrKzV+2ko4cYVIHS/flN45Q0OIDBCObaV1cuaK+YMDHr2zYaaed9DvvvON+DEGJAYWxnS+cYxDFNuGUl1ES+ZAXKNnsASnkBeYVnn766VBTMnnzBrNVQRtH+5mgboc5POe2uSZ/WMxyxiwR/6aHeLlCmZJW9rT+Jd95WBXZjiE/cXVY8pznKPbrMMgkbag/Piz9Q3lBeY8NM5O4rByTtm2SB78S2l+vgn7DNI2t7Ci6LSiq3MACG4xuv/32nvYHswMxSCUrFXDEb8wOtOXFzBLMGhF/eI9DEYzZlba/7t27O+kI0zzvMZmVH8cg7fOZtl5AlrztVtY6jLTlgw2cYRoKbRtMjWAAGnUW5iZwDx/A9uAuwqZ1eA9BSYf48M7EILaYbkI9hykwDH6KGUSYxEM+kjjkDSZg7PqSZFDOH3c18+hPS35jdQIG/8NWlIg/HJtNTpngApvxaVxRctpp1qNs7fTLKJMtH87x3oU5B/T1/MoIv1/8LjMTmNVDe4Q+IxTSSV0ZmZRRpqDyTNOWB4UPupa3nwP2RektkL96fCf7udS7LZf8ZH3GJXzcMW/ZV7t/l7Z/DHnzyIQJoY1cl/FdYZtYxcRh6EWxquKGG25w9hHBOwGTYJ999llP8dfrO8qTiQQ/8siYpb4kyFLTeKm6Qh4koMiGshaNZBIHJSv8o3CSOIwq7bvvvhUKPlRsKPdR0VGZs7og5bP9YYdzPFRBSnbbH2wEwm61f4a57QcfjXBJ07RlghLcnikKxTQUrviYTRsflkpiZr2dN3SkMRMeDh/HmA0s9zEDHjPO/EtN5L59lCXXSfPkNzdhxxV3Lh/0wilvXUFnA4ow/8c9TENgyT7qLBS2KAcoKTBSG7fZsOQt7BhVrljeH8UAHQK/TfMg//ayqLyMwuTAdXx4BKXvv/bGG28ERpM3b6gP6BT7BwOQPgZb0BmIcyhPUQDb+cagH1jDQSEPJQrsIeOZgSmbtLKn9e/Pd1ZWRbZjkqeoOix+8hwx6whlEbayAXHDJBLKJMzEVlj6WTgmbdvsNC+55JJEz4Zd52BCSVw12oIiyi2OBd4jcGErWERe7AkCFzcoivZZXNb3mITHMYwBBoolb1FHuy2LY4F4giYu5G23stRhyI4PNiiMYF4Hs+SRP/TN8Idz9GXQx8CgQREOA/abb765yxXx46PFft9i0NteiZc03Ztvvtn5GMJAEAbNjz766KRBPf6qmUc7IcyShQlH2NpO8l6SsM0iJ1Y2yXMjKxlFhiTHouS006pV2dpp2udllEnkwzOLuow67e+Xi5+gY1mZyB5bcSvBW4VJWcsZ5Ze1LQ8q+6Brefo51ejv1+M72c+l3m058pPnGffLE/Y7T9lXs3+X5/s1q0zNUJehP8BqZ7tPK/0gTFCAmW/01/0u7tuhmt9R/rzE/c4iY576EpefZrk/AzJqKkNVnZkJoYxSVe2+++6J0vnss8+UmSmrTMctkX/xZBTPysywU2ZmsDKz55QxZ6OMQl4Z5ah4Kf1x0qRJyowQKmM6RZmPaGUUxZllNoMHytiIVTga8zPKPPCeuMzIujIfisrMZnPSMkp5z/1G/pG3roCJWTqkULfNrD5lNuFQIj+YmFmdyijICkNQZLkmzVReRknTyeIvb96MMs1pJ8zsUWWWkSmj7FNm5DpVVozyXb355pvKKI2c8kc9EPfUU08pY4ZKGcW/XKrbMS+rojJezTqM19iVV16pDjjgAPc5DMq3MfeizOw8ZQZMgm5HXqsmR7QnxhyYMnaU1XXXXee0KWZwT5ll68p8zCmjwFBG6emc4/34wgsvKDM72HnHGYVvZL7z3qxmueXNW5LwRbzHGoVB3nYrbR1G3TMrEpz+BMKaGa4KbaYZYFRmFo8y9j6VUdQnKYZUflC/zUeZ00abj3u11FJLKTPQrcxqQ2VWOSkzWSBVfH7PZsWaMisrldn03X8r8e9q5hHPuFlRosyqEGXsoSozCOHmywyeKzN7Shk7+O61sJNGltOssFBmkooyAz5OfcpTpkXIaTOsZtna6USdl0mmyy+/XBlliTrnnHOUmaDlEfu1115zvi3wzRLnysTErC5Sxpa+MqtDlJlIECd66P0yMREhyyRTUW25sAk7FtHPCYs76/VafycH5bOebXlRz3iQXPa1rGVfr/6dnfew86wyhcWX93rRddkooF0dEnQI6NfaOoS8+W2E8K0gY6Gcm2XkgPkkARIgARIggbIRgKkZbN5jXuzObOwk8mGGoazSyGqKLUk69EMCZSQAM0hhexPUW17MHIcpIGx+aj4CPdnBSjaYo4NZpySukeXcf//9nTYvywxhv+yNLKc/r0l/l0UmrOLC5o6Yjel3MFGIezCFlcSVhYkZ4M21OsRmVRYmZZSpyLbc5sPzxidQ5DPe+NIyhyRAAnkJ1GSGfKEjCIyMBEiABEiABEpCwGxQqW677TZnpqhRzitjVieRZIcddpi69dZbnRVMeVZCJUqMnkigJASwqskMgDmzzI2ZsYaSCqsBkCesROjVq5ezAkFWemImsTFB58yYx4xjs4Q5Mu+NLCcyLrMH+/Tpo4zSNlKWqJuNLmdU3sPulUUms+eDMibElNmgXPXo0cOpz2b/JzV9+nRlzBSp008/XRnTmuqtt95SZh+kMBzO9bIwgTBFrQ4pExMp/LLIVGRbLmx4bB4CRT3jzSMxc0oCJJCHABXyeegxLAmQAAmQAAlkJGA2enZNgWHZorFzr4yd3djYoJwzM0uV2aNAmZm+sf7pgQRI4E8CMGs1evRoNXHixFwm/YrmieW9Xbt2VTCPZDYoVjCJBqWl35k9MNRDDz0Ua4qxUeWEPGbmqOrUqZMj2siRI5XZf8cvZuLfjSxnYiF8HssgE0xOwewozF3CpCMGk2AiwXYwV/TII48kMr9UBiYiu7EtrW655RZH7hEjRsjl1McyMRHhyyBT0W25sOGxeQgU9Yw3j8TMKQmQQC4CeafYMzwJkAAJkAAJkEB6AkYp6C5dNy9ybWxy6xdffDE0ImNz1tmU2Mwm1MauduKN0kMj5A0SaCEC2Hgezxk2W280d8EFF2hsOCsbgxub/drMHnc2iEeezV4n+thjj9X2BuxhMjSynMjz+PHjnXLAJmZGeRUmRuz1RpczVoAAD2WQCSbVsIEr6qs41GszO95936200kqR7zoJh2MZmNjy7Ljjjg4Hs9LFvpzqvGxMIHxZZCqyLU9VKei5YQgU8Yw3jDDMCAmQQNUJcIZ8ruEMBiYBEiABEiCBbATMG97Z/BcbRNsOm1hio2FsTv7HH384M+cnT56sMDMebr311nNm2MksUzssz0mABCoJwISAsb2uFltsMfXMM88kNg1VGVN1rnz88cdOnoxS3pMA8v3hhx867cTMM8/suRf0o9HllDyPHTvWMVvToUMHuZTq2CxyphGqTDK9/PLLzsx4W368y1555RVnk2gzGGPfCj0vExMREpu145nu0qWLXEp1LCOTMslUVFueqlLQc0MRyPuMN5QwzAwJkEDVCVAhX3XETIAESIAESIAEggl88skn6vjjj1fDhg0L9mBdNbMK1Xnnnad22GEH6ypPSYAE4ghccskl6oorrlAwEQGlfFkd5Wzekm2VsktTQmRSSauMTMooU2XJ8QoJkAAJkAAJVBKgQr6SCa+QAAmQAAmQQE0JPPfcc2ro0KHqnXfecf6+/vprx84yNnXEH2bMb7PNNmrGGWesab6YGAmUgQBm52JFCvZqKLOjnM1buq1SdmlKiEwqaZWRSRllqiw5XiEBEiABEiCBSgJUyFcy4RUSIAESIAESIAESIAESIAESIAESIAESIAESIAESIAESKJwAFfKFI2WEJEACJEACJEACJEACJEACJEACJEACJEACJEACJEACJFBJgAr5Sia8QgIkQAIkQAIkQAIkQAIkQAIkQAIkQAIkQAIkQAIkQAKFE6BCvnCkjJAESIAESIAESIAESIAESIAESIAESIAESIAESIAESIAEKglQIV/JhFdIgARIgARIgARIgARIgARIgARIgARIgARIgARIgARIoHACVMgXjpQRkgAJkAAJkAAJkAAJkAAJkAAJkAAJkAAJkAAJkAAJkEAlgboo5D/++GM1ZswY1aNHj8oc8UpDEpg4caJ6/fXX1S677NKQ+WumTP30009qxIgRaqGFFlJdunRppqwzr1UioLVWt956q/rf//6n2rZt6/zNMsss6vfff1e//vqr+7fccsup9ddf383Fu+++q55++mkFv7POOquabbbZnHt2GMSx4447qg4dOrjhcIJnevTo0W56CI98/Pzzz+qXX35x0kF6dF4C48ePV19//bXaYostvDdifv32229qyJAhThmjvKSc27Rp45TztGnT1PTp0xX8derUSW288cYVMQ4bNkxNnTrVCYvyQjzwL2Fnn3121b1794pwvJCPQD3a7KLTLDq+OKJxfYZa5ycuv0Xdz9o+pE2f/ehwYm+//bbCu3H77bcP98Q7pSDQqu1MKQrPCNFM7VhcXStLmZRNju+//149//zz6osvvlBLLLGEWn311dXcc89dNjFrKk8zPbdxYPDN+9VXXyl8P+E7ecYZZ6wIgv7ql19+qZZaaqmKe61+oax9+VqXa80U8hMmTFAPPfSQuu+++9QLL7yg5phjDvXjjz/WWl6ml5AAygbKuuHDhzvlho7I0ksvrd5///2EMdBbEAEozsBxypQpzu3+/furXr16BXlt6WvnnXeeeu+99wpjcPnllzttTmERFhwRlAfLLrtsbKy77babuvPOO11/RxxxhBo4cKD7O+zkiSeeUJtvvrnn9qGHHqoGDRrkuWb/+Ne//qVOOeUU+1JLnuOZRVv46KOPqnvvvVd98MEHauutt1aPPPJIKh5jx45Va665ZqIw22yzjdPu2p5/+OEHNc888ziDJvZ1+7xdu3bqu+++sy/xPCeBerTZRadZdHxBSNP0GWqRn6A8VuMaZCmifUiSN/ajgyn98ccfjsIFbfL999+vwAlKl3HjxgUH4NWmJdCq7UzTFlhAxpulHUtT1wLE5KU6E8C74IwzzlBvvPGGMxFGsoN+8vnnn6+OPPJIucRjAgLN8tzGiYLJpfiWg04S55jkJA7K+EUWWURtuOGGqlu3bqpr165q3nnnVfvss48aOXKkMzlO/PKonMlg1GkVVBPMjMiquw022ECb7Hr+5pxzzqqnywSyEbjkkku0mbXpKS+Un3noskXIUC6Be+65x8PVNPbuPZ78RWDAgAHazOrWZhawh5e/HUn628yM+CvyBj0zAxDarBzSZma0R2bUEaOE12YgU5uZHp7c4/drr73m3J9pppnccDPMMIM+7bTTtFmJoc1gmjYz7z3h8OPbb7/VDzzwgDYzqt1wpqOq+/btq82se21ma1eEabULL7/8sjarDlw+Ut/+/ve/Z0LxzjvvaKMk0mgH7DbWDFDrq6++WptZPPrNN9/URvkeGD/CG6WT3nbbbd08dezYUffp00ebzqX+6KOPAsPxYnYC9Wizi06z6Pj8NNP2GaqdH3/+qvW76PYhKp/sRwfT+eabb3T79u3d9lDaaKOQDw7Aq01LoFXbmaYtsICMN0s7lrauBYjKS3UkYFYca3wTLb/88s531S233KLNilLPe4L95eQF1CzPbZREZuWcNpPaPHVA+gv4BjOT4irqiNyXo1mRHJVEy90rS1++EQoOs+2q7swSXkfxY0ad3AeBCvmqY8+cAF5SL774or7iiiu0WcLjlhkV8pmRugHNLFmXJxr4k046yb3Hk0oCUFL7FaIrrriifuqppzTaFfvvpZdecq7jBXHMMcdos/TMZW2W11VG3qBXrr/+ejffqCPPPPNMopyutdZabriVV145URh4mjx5shPOzALQH374YeJwreLx2Wef1f369dNm5oTLN6tCXph9/vnnblwoY7NKRm4lOkp4KKJYZomQZfZUjza76DSLjs8PM22fodr58eevmr+r0T4E5Zf96CAqf17DoPRtt93mGcCnQj6cV7PeaeV2plnLzJ/vZmnH0tY1v5z8XT8CmFCESUnoW2Oiizj72wr3UcZ0yQg0y3MbJg0GZIyZUM93F76Tb7zxRm1myWuzys4Jasy9OpPczOoJzzcf6hL+wiZLhaVb9utl6svXu6wKVcib5V2OEjdMKGNewX0YqJAPo9RY1+2ZmK2mkI+rz1lL6rrrrtNbbrmlM4PZ2KLOGk3LhDN2YN12Ay/Eo446KpHs+EiXASVjZiRRmEbw9Nhjj3nkxcznJA5KYuk0GBvkSYI4fs466ywnnDEnljhMK3rEQJDwzauQh/JI4sIRKxXSOMz0QLjjjz8+TTD6zUigHm12mjSTvKvSxJcRkxMsaZ+hVvnJI0uasEW1D3FlyX50eKlsttlmbrtKhXw4pzLcadV2pgxlBxmaqR1LWtfKUjb1lCPu/Zckb7vvvrv7HnjllVc8QS666CKN2d6XXXaZ5zp//Ekgjn8zPbdSpueee65bH+S76+ijj9ZmrzTxEnjEiuXOnTt7wmIyFJ2XQNn68l7paverUIX8/vvv7ywPCsv+iSee6FZsKuTDKDXW9X333dcts1ZTyMfV58YqqfLmpmfPnm4dxMv0uOOOSyysdB5g6qNZHMwgSKcBx5tvvjlR1m2FvLE1nijMJ598orFUD4zpogmss846brnkVcgb+/1uXJh5b+y+Ryfuu2v2DXDCP/744747/NmKBBrpXdWqfYai2oe4smQ/OvwJh5k7eXdSIR/OqQx3WrWdKUPZQYZmasdY12pX6+Lef3E5wSS3mWee2X0PYMYzXXICcfyb6bmF1MOGDXPrAvoGMBWKVfRJHb6RF1xwQTeOZprcl1RG+msMAoUp5LEsCJUd9rrCXLM9yGFytNL1/fbbz22IWkkhn6Q+t1I9qKeshx9+uFsH0cakUcibjVucsFiS1ixu0qRJHnlhyzLOQYkvSzTBCOdJbN3hQ2PuuefWzWBjP45Bte+vu+66brnkVcjDViHKCX9dunRJnfUePXo4Hx1md/vUYRmgXAQa7V3Vqn2GItqHJGXJfnT480uFfDibst1p1XamLOXYTO0Y61ptal2S919cToYPH+72rdG//v333+OC8P7/E0jCv5meWyjTMflXvrVwPPXUU1OXN0wgSRxmg+DU4RmABJIQKEQhj80GxTYTFfJJsDePn1bsiCStz81Tis2d0zwKeWxmOm3atMBNTRuVCjZqlZc/jqeffnpsVrHxqx0G519++WVkOCzHg+L+3//+d6Q/3vyTQBEKN8T02WefecrqhBNOSI14gQUW0Ouvv37qcAxQLgKN+K5qxT4DalXe9iFpWTbTB3GtnzYq5GtNvH7ptWo7Uz/ixabcTO0Y61qxZR8UW9L3X1BY+9oNN9zg6V9TIW/TCT9Pyr+ZnluYt7W/izt27OjoA8IphN+RvgX2qqMjgWoQyK2Qhy3bhRZayK30WRXy33zzjR43bpzGBgFxdp2CQGBDhrfeektDyYRNCvM0wt9++61+7rnnnHiC0kp6LU+ekH88+PYsV8yGhD00zIZNywh2wWBTGxuQTZw4MakIuuiOCPIAhaPtUF5jxozRX331lX254hwyoHzjFI3+gGlkT1OfJR0ofVFvZVMQHBEP6lDUDFbcSzPaOn36dGcTUzCEkjmtAzeUf1rzLUgLM8wxcxuy1tplUcjjGRkxYkSirOZ5TpFA1vKPypy95BLyR7mhQ4c67a9t5xKdkDfffDM0GPIMBdLf/vY3jXrVCC7Nc2rnt+i2EnFPnTrVfZdIWnkVbhKP3378/fffL7cSHVGuKN8kAzWJIiyhp6xtXRyKpG12kXUyLM0s7yrIFxZfkOxZnsm0fYY0+QnKY5ZreetH0e1DmrKM+iDO248Gy6xs6tG385e9fDSjffSbrMFAKPqZWHJej36MP6/+33n7WVmeVclDLctO2kZ/GeC7BEqhuO8AyXM12hnJW1HfXchrUd+TInfYMetzi/jy1B07P2m+Uardjtn58p+nZZW2rkl6adORcDjW8pm0082S57zPTZr3n53XoPPLL7/c1UfhPYC8JXF5vuPyfkPWq6yFSxr+1X5us9Q/kcM+wtb7LLPM4qkLJ510ku0l1fno0aOduDBbPs4V1Z7GpRN3P2ufImu4NH35PIzytjdx3Op1P5dCHuYgYO4AjZ78QZG05JJLun/2xhlBDzIUklj+Dzu6EgdsPO26666xdnXRaTr//POdmYKwgyzhcWzfvr0++OCD9bvvvpuILRrU/v3766WWWsoTz7zzzquxURTMRkCZic4VlOFhCvE8eUIlGzVqlD7mmGM0ZkBCDnxE4OE45ZRTPKxnmmkmDVtfP//8c6h8UHxjAxOYmrHZ4BzX+vbt6yqRwyLJ2hGx48MgAjaOXGaZZZx8PPLII87tJ598Uq+11lpu3lAHNtxwQ416JQ68TzvtNL322mtryCxyrLbaas6HlfjzH7PInrY+YzkU6h820ES+kFcoy5A3ySfqE8pQHOrHww8/rPfee2/HdvdGG20ktwKP6CRce+21eo011vC8XPCMYBO5wYMHR35c4uWG58AeNEPeFllkEWdTJf/giJ0JfBxh5jXSEnmw/Gu99dbTW2yxhVMutv9qnWdRyG+++ebOxrlhecrznEqcWcpfwsYd5fkH9+7du4d6x/O/+OKLO23o7bff7pYTwqEDEeZuvfVWx2+9N3LN8pxCpqLbSsSJOoHNf6B4twdEMKviqquuctogeQ7ymKyRfQ0QF9o8tBtp3JVXXumU3RNPPJEmWM38or2y+wD2OZbEwmFVgH3df25vxPXggw9W+D3jjDMq5MnT1lVEZl1I2mYXWSfj0kz7roqLzxLXGTDP029I0mdImh98KPrrRtxv9NeCXN76gTxXo31IW5ZF96PBKiubevTtgspWrgUp5AcNGuT2PaX9bteunT7L9En9/fiDDjootL6hn+efzIK67q+PF1xwgWQn0TFPPyvr+xMZq3XZ4VsP3zELL7yw8/6C8naSmeSBvrBcQ/mgn7/nnns6k0CiABbVzhTZbkt+i/qelPjCjlmfW8SXp+7Y+cn6jVKNdszOl/88D6skdU3Sy5NOrZ/JPHku6rlJ+/6TPNtHu88J3Y+08zji+8huo6UPKuGzfsehP5BH/1Svsha55ZiWfzWe2zzPjMjhP15//fWeeoC6gEmS1XJZ2lOscrbrJs6x4bDt8C70+8FvlFuYy9qnyBIuaV8eec3CSGQsqr2R+BrxmEshj4/irbbaymO7GIpxXJM/7L4rzv8g40Pbr0i3G1Ioa8McFJ9rrrmm88BBSYiOHmaKYtbgcsst5z6Is88+u4YCI8phpEZMPsw111z64osv1rfccoveYYcd3HjsfMn53Xff7Yk2T54wGNChQ4eK9PCArLLKKhXXJQ/bb7+9Jw/yA0pgrFaAP3x89OvXzxlQwMCCzQc2pKNcmo6IPx7MBF100UUr8o5NNg488MCK6yITlGFYHQCFot1Rl/tyxD2Und9llT1pfYZyDgMHts1u5Amzsm1FquQTH4SYlY5dveebbz6P3FEKedQnNM6IB+F69eqlb7zxRt27d2+PkhwKiKBZzkOGDNEYUEI+8Txi+dZ2223nyTfqApQefofNIqEsRFhsQPnUU085s/nxDIvcBxxwgD9YVX6nVchjUx+0CVtuuWVgfvI8p4gwS/kHZiTi4gorrODWk0033TTU5znnnON8wGJ1kN92YtgLG6PYeC4xqFJPl/U5LbqtBIP//ve/GpzxrOGdgUFRtF8DBgyoGKSFnzwK+c6dO7tli4G2tA4DNGgjUY6N6DAzZa+99nJllHYQiioZnHzvvfecTd2kLRE/O+20k9Pu2+3ZDz/8oNGPkNkuGOT07wmRp60LY5imzS6qTiZNM+m7Kml8wiDrMynhcYzqM6TND96pUjfQJu68885O3UL9kj+5L8dddtnFzo5znrd+VLN9SFqWIlSR/WjEmYVNvfp2wiDsaCvkMTHCrotSP+wj6pQ9IAoFsX+ZO/xj8gtm12NyjO2mTJmi+/Tp49ZR1D3EkdTl6WdlfVZrXXYXXnihtvszwh/KEXuzPLkuR0z2wsrTMGeXrX9/q6TtTFHttp3Hor4n7TiDzrM8txJP1roj4eWY5xul6HZM8hR0zMMK8UXVNTu9rOnU+pnMm+cin5u07z8773IOXYzonGz9BtoSTM6SezjedNNNTrA833F5viHrWdbCyz6m5V/0c5v1mbFlCDrffffd3feyvFPQj6uGy9qefvTRRxorOuwJyRhAsh2+7aEzw0RIkQNHvFeDXNY+RdpwSd+xksesjBC+yPZG8tOIx1wKeRFojz32cCtKUpM1qFBQfEABfvzxxzujPVCC+2fyymxqSQtHzHpHWMSBDh1GGm0HRYUoMqUCQyka5g455BA3//aMUYz827IhLjw4UJDj76677nKjzJsnKJ8xK80/Q3+22WZzlC+YVXnHHXdoyDH//PO7+UWegmxadevWzfWDymw7fFgIl7Dw4j9pR0T828fx48c7ykt/WUjaGPnDIAo63fZHDe6DA2TH7FTM5MdsenycYwaThMcxqFzzym6XeVB9Rr432WQTTz4kz1CA2+njOmYuY0YylE3+D5MwhTyUyosttpiTxqqrrqrRcNuuZ8+envTPO+88+7az9BczjWaddVaHnX3zgf9j78xCfTmKPz7/pzyIEkEUXAiSB9e4BRRBMaCCuD2IIkLEDb0QVxSMMRhFXBBFRVBjEJWLUUHRhyBEIyZuuKBi4i7KFUUQFfTZl/Pvz8D3R03d7pme7vrN+Z3rr+Ccnt9Mr9XV1dXV1dW33TZJi1IQWhew46mFEuV4YNOLdoGnLWCNQv5Pf/rTybOf/eyxfjmFfO84pb0t/b8WT2z4gGP+6P8cYNnBhuYb3/jG8TMuv5SG0G6G2vRYBnLqwSs1bZwtnu04WcOjonklY02nXJiP/JFEFthYMljctirkuTzX5rPWfzzjFP7vrSi26K81ZWB56jdTrZJdeXl+zgZ0CXQRLnOGBdK08jqbj39ew7OjaHJNmdR3aa5am1/rmLS4m5MZ1tZHskppnPhTQRg1sCFkoZc+tuIPS32pNtkFMbykVY4mv1bcnJZsJxyUQquQF5/FIAUrbIxPJFPpGyEb01hfWUBxY+NAtyW4/fbbx7gYTfznP/8pRbvofa+c1TpWt+47DEiQc63SAdyywYp8ymbHu9/97hOMi/ht8Q5OsZ7MQQSfieLbtn4R60mbX+65ddwqr1baUXrC3jVKJB+z9fLPvbgivzlaU3k95Ww9JnvrvI9xUzv/qe6lED2K5SE5oz3Stq7jeteQp9XXJXzpfS3+I8dtz5hRvUuh1guiBXQz+4JefsqmkerpFfKqM5tAikOYU8i3yhQt6dbK8j042ge/EV4PKTxVhTxWmnffffcEHz/5yU8mRIci2gOKNhHmLbfc4j+PvxGM7YBE+PNlERFltvJC+esBBYp1lVKyVo2qEwpm1YeQDQqvcL/rrrsmcVBYW8CPqHUzgpWnBZQ6duPjpptusp8nzzWCyCRB5geKP98mBpgHrLdtPJTCOaUhfq8Vzx9Pj2h77cRk41EflKPsGgKc/mBRh6Ut/mYFHGW1bp5yCnn6R7hggfK3v/1NyXchE5lwQGitnRFAhKNS33p/4+zaC9jgUt4slDzgJoWTAFgrbgFeIU/drrjiiskfvMSftskp5KPGKe1u6f9afFnFAm3LAQoGeJYs/Ni0Ub8R5iZs7mtgowsrwNOEiHEawSvBARsawhtWMzlACFccwlaFPJuqNp+1/uPFS8+C/3iO89q2shHoATcGNo7fWFT8v/71r+PJHOYthEdBL69TPnNhDc9W+iiarC3T8qDc5rHqVZNfxJikvBqZoaY+5MU9INBHzq807/yJM6ytLETQx1b8obYv/YK4VY6OwI34kcYw43Nfsp3t19KznTepE/O9t4p705veNOE5xMMCzYKXsZGXSoBCmTze+ta3lqJk3/fIWRFjdeu+O3fu3ATvV1999QlGBRbAu5fjcjIoaSL5TBTfjlpPWpz4595xG0E7vWsU2hTFxzx+7O9eXCmvJVqLKmfLMRlR56hxA55r5z/1SSmsVcgrvS0XPr60jo9aQ27Z12rrXGjxMCdLRo3bCPqba8/ll18+mW9wRVoLGIKcP39+8Y82RPBTvA1Ae/yVFPKUpTiEufV9q0zRmg581sjyETiirEh+Q36HBqemkEdBnlM0giB75AjFpAVrEYUyKmd1p/gf//jHJwSM4OwBFy4i8quuusp/Hn9b1zUwaw+RdfLWyyxIc2AXorh/scACBKWb2qUjWjaOtQDKbXoo7pIgonhzIQtn1YWQCTMHN9988yQelkc5sApaFM8WItpeOzHhLsS2q2SRbOvHs/Wbn1PIc1JE+cr62efBb7vjyAkDwfvf//5dei4wy4HHtT3mb5WGWGfnXGNcd911zUrJXH3m3tn+Fl5qQq+Qjxyn1Le1/+faqm/2BASbMh643Bh3H9YdFxs/Fi/XX3+9TzZaheBj0SspLoq45xcR4zSCV+I6Ra5QEODs5plHgb2Lo1Uhz7hRH2ExqM0UX1bpty6swj3RoQOWytYXv+Uxtu5yPQdemPtzgLsbvvuNiF5elysr926JZytNBE0qr5oya+cq8lzKL2JMUk6tzLBUH/LCnVpujuSbbTu0wQk0D730sSV/sO2pXRC3ytHgqRc35LGlbEd5S2AV8pdddtnoszSXBot58WFCZCkPT3rSk3ZxmGvZPPTASSAZWGDBtgZ65KyIsbp133H/gsV5zlUi+GNTzcbDMMefYCBeJJ+J4tsR60naNge94zaCdnrXKLTPKvZ6+Ng+caW8l2itt09UzpZjMqLOUeOG9tfOf8JVKVyrkF+zjotcQ27Z1yVc2fe1+I8atxH0Z+tvn//73/9O5hDmE+b8WvjgBz948uhHP3pi2GrnJIx00RfihiWCn9r1fkkhjyGkrUNOId8qU7SmEz6XZPkIHFFWJL9R3Q8pPDWFPD6eS2B3IB//+MdPor3whS/cEeXTnva0yTf/Ayt5ubaBkFFs4Y/WwrXXXrvLD8EvB1iY24HglTaRdeLCT1sWJwZyYC8OxUWHBy4uQZmKJaz3e0lce0QGRlyCJUGklM6+Z3fMtslb7Csu7oJsPC7RzQE+zxQvR0e9ba+dmHCzoXoQ4k+0BuSrmjQ5ZYP1fZazNlMZXJCBRS94s1ajdvyw8ZL70wW7qj+XhAhw2aH3hPgu8y5zfvnLX44ulJRmn6FXyEPTjEH7By7+/Oc/jwwbuqfeXiEfOU5pb2v/1+CK2+BtH9hNEayT2O3HbZZfqKKEUDou87Ug9w+l8WfjbvHcO04jeKU9Xo5P6jkA58Jtq0Leuqzyc9tc2frGZecsXucu81bcQwhRwgtn1JtFiAc/vv3FS9A7LoXYwLhw4cIkeS+vm2Q282OJZytpBE0qr5oya+cq8qzJr3dMUk6tzFBTH/LLAfdjiK4IOY6cm3976WNL/lDbl3ZBnJN/hC/b9hyvsd9zMgLv5uQEytlatlPbSqFVyJdcvZHWWydCQ1igWcAlpaWxnPu+L3/5y2MclPdroVfO6h2rW/edVcCA15IxFbLsgx70oAnucUXoIZLPRPHtiPWkb6f/HTFue2mnd41Cm6L4mMeP/R2BK/JborWocrYckxF1jho34Lh2/iPuHKxVyK9Zx0WuIbfs6zl86Vst/qPGbQT9qe4+xGrbroWZb1g7rQV0Ct5FNBvwfjO5l59GKeRbZYrWdMJnjSzfiyPKiuQ3qvshhQepkLdMj+hYzsIAABzESURBVF0qC1gOSUheupCUdFZAJx1+yC1YSxmsYLB48YD7EZWJUsALkpF1qiW4FuUQSpzPfvazJ9byh3ZxSWAJlgSRUjr7vnbiueOOO3Z4pl4oEHPgBXt2Q5dgTdtrJyY/kdf6D51jXiif7OmHnJJhrq0sZuyR39zt3Ll3dkHJBo5fEHHigqPDufExV5+Ib15hx5HzOWDxhvKPCd9C5Dgl39b+t3UqPXMJs3gOIa5mBPhu4x33KniwrqisSyHo6olPfOJ4h4HdvPHpT/v3mnEawSu5P0F4fvvb3z7b/BaeazP0/uO5O2UN0IecCuMC8rMC3AEj/BJ+9KMfnVSd/rb8jji4NrDAZUO8R0FoIYLX2fzmnud4tk0XQZPKr6bM2rmKPGvyU9k2XDMmSVcrM7TWB3nC8jloI+fjO4I+tuQPtX1ZuyCek6MjcENfH4JsRz0EVt7PbUIoHqG/2wgjAwss6q3bSxb4Xh5jjoX+OHG4FvYhZ60Zq1v3nZfb/TrK4g/3P+BVf7kTYZF8JopvR6wnLR78c9S49fnyu5Z2etcoKjuCjymvXBiJqzlaiyxnqzEZVeeocUP/1c5/ub6273oV8nPr+Mg15FZ9bXEz91yL/4hxG0V/c+1Bd6j5gxADthaw7SUfNiNroJafkleUQr5VpmhNJzy0yvJrcERZkfxGdT+k8OAV8taNDERj/bmz4FiCN7zhDZNBiUWLBS4csoOWo3geUGIrDkotC9F12gfB4X8XARdXFWwoYFHP5Wdq01lXyM8J9i1tr52YWhWyc8zrnnvu2fUL/eMtoC3t5Z6tD0tcbLQCR4PsPQSiFfJc6/e6tQ5Kt1YhTzou4bQK+ehxShmt/U/aJfC+0rgICMBSHp/BVtlu87JCiD19gdsq+rDkBsrmcRrPLeO0l1eysLQnqHBxNge9CnlZU2os2QvE58rVN/EGTgidFUCpxRFMtdlbreJySd8Ucgmj3fiTlb29RJ32R/G6GlzO8WybvpcmbV41ZdbOVeRbk58tv2VMkn5OeWHzX1sfpbX+NqEZXArmoJc+tuYPtX1pF4hzFvJWIW/laHDVixvhe99KhTnZTnWw4RqFvF8bYHjjwc/DN9xwwy4KihuU9Jy8nVPi7BJkHqLkrJaxunXfrVHI4/5R8wEhazAPkXwmim/3rid9G/3vqHFr811LO5JD1D9r1ygqO4KPKa9cGImrOVqLLGerMRlV56hxQ//Vzn+5vrbv9qWQj15DbtXXFjdzz7X4jxi3UfQ31x4r/8CrWOsh062FD3/4w5O5aM7FM3mv5aekiVLIk1erTNGajjLXyvItOKKcSH5DfocGZ0ohjz9PCQGE1qq3hFh8Qdk03p86l/WhpFYcLhryiwCOuuj7hz70oUlR0XWKJLh//etfJygz5ceX45Q6+om1odp0KSrke9peOzG1KmTnmJe3KC35gJ8Qoflh6Qer9h746le/eoJyTHRiQ9x7tC5C19apRSGPTzRrNRk9TmlDa//XtB/cW3zLQoxLelECaBz7vHDjpXSPetSjxs+49nngAx84XhTs45/2755xammdNpfce5UU6Ywt4YoQQX4OSvnMpbHf3vzmN+/KY85BIF8DnFChnrmTEWvy2Toul45bPP/85z8fq4CyXpdP+/tedMk098ywCY87OaxqLNj+7+V1Nt/c8xzPtvFtnWjzWpq0edWUWTtXkW9NfsTrGZOkn1Ne8F1QWx/FJ/TzI0YG+PHMge2LFvrYmj/U9mXEgrgXN8L3oSkV1ijk8cFq+dKdmfuaUMLY0xjQm1xWSmn8kpe8ROhoCnvkrJ6xunXfrVHI61SU+gcXVR4i+YwdDz18u3c96dvof9t6tvA0m18r7XgevHaNojpE8DHllQsjcTVHa5HlbDUmo+ps8+kZN/Rf7fyX62v7bl8K+eg15FZ9bXEz91yL/4hxa+mml4+V2mRdG2se8ZeIl9La97fccstETnjd615nP++eW/kpGUQq5MmvVaZoTVcry/fgiHZZuunlN+R3aHCmFPL4idbAIsStxhJY6/ZSB3plAJeDQTgAQrqsKPEbjBLBQnSdoggORQBKONqMFZW3jL2UFfK9ba+dmFoVsnPMC2WbpfFvfOMbltwWn6FXm/4Pf/jDYpq5CAjb1tebzZvLGP2dDHN5tX5rUcj7sqLHKfm39r+vW+73XXfdNenHL33pS6PbGoSXt73tbbkk4ztZE9NPuhMDwYRNud///vfFdKfxoXec9vJKyrf0PHeBMvjpVcg/61nP2pXH0dc1gFsu+DnW5q0WaWvKi4yLNYQ9bfP6179+zP4rX/nKiA8uBAKsCwm5p9EmRM6dUDSvGytR+DfHs22SXpq0edWUWTtXkW9Nfr1jknLmlBd8F9TUR3EJmWse8pCH7MYQY/f8+fM2yuS5lz625g+1fRmxIO7FjRB9aEqFNQp5vzaQzK+2KfTu45j3gac//ekjLaI87oUWOat3rG7dd2sU8t/5zncm4zwnu0TymUi+3bOeXKKjqHHbQzu9axS1MYKPKa9cGIUr8p6jtchythqTUXWOHDe181+ur+27fSnko9eQW/W1xc3ccy3+I8ZtFP3NtefWW2+dzCHIi94gdy69vtUo5Hv4KeVEK+TJs0WmaE1XI8v34oi6RfIb8js0OFMKeZDH5V1SomBlWBKihWjLnIlvL0dUHEKOq6K4tnk/4AEPGH9zJPWd73zn5Bi9TRtZpwiC+/vf/z65iIKbwT1cqgr5iLbXTkytCtk55oXls2iQ8LrrrvNdl/3NLdYAl5DY9O95z3uy8f1LXKKUfPYTF/ca/oI3yskpynzevb8jFPLUIXKckl9r/5N2CfBna/uRRR6WeFjr+cvnbF5c5Kp0KOGhB/gX1tmtAG2xc85Fs5/+9KdP8IUO9JyQiBinvbwSf8DCFeFzn/vcWRT1KuRxIaTyav0QqkJf+MIXxrQf+MAH9Koq3EffVRXsIj3nOc/ZtR13aZxC010mKOaBz3zmM7s4zNVcJM0GBHe75Kzw9sXrXNXHn3M828bvpUmbV02ZtXMV+S7lFzEmKWdOecF3wVJ9FE+hnweWxmsvfWzNH2r7MmJB3Isb9cmhKRXWKOQ57Sp+PGfcwzzHRW6Kyx08bDLCo9gg8kY6wk1LWCtnRYzVrftujUJe8x045z4gfzoK3EbymUi+Td161pOkL0HEuO2lnd41itoWwceUVy6MwJXynaO1yHK2GpNRdY4cN7Xzn/qkFFqdD/xjbr1EHmvWcZFryK36uoQn/74W/xHjNor+fBvsb3R9V1xxxW7ehhZYT1h3mDZ+6XlJId/LTyl3Hwp5tadWplB8hWvSLcnyETiiXpH8Ru08pDBcIf+whz2s2L6IgfzMZz5zMsBQVM0BF+dJkOZ4fAmwRMYSHqUjSg8s8xDYcX1ROhKtvCLrFEFw9kIkXI7k/GZdqgr5iLbbiWmOntdM5KIVwjnmxcLDWpOyGLlw4YJNftHzL37xixMsp9mBZHFIGtE8E9DSphXfWZDKchVGnLsQDStd4ihvwkc+8pEX1Sf6hVfELF3qWio/cpxSRmv/l+pn38NzLJ41XnO+VG2666+/fpIOq2wuzWxRnsM3cDeC4gHeic/da665ZvRhzyki6ifXIrYONc8R47SXV9I+xo3wzLhBcChBr0Le+jRcc6EryuvHPe5xY1218Vaqo97vs+9UxpoQlwPCM6H4CJcmSqHFwsluinMPBHHtXRC2zAheZ/Obe57j2TZdL03avGrKrJ2ryHcpv4gxSTlzygu+C5bqo3iE3/72t8eNGdHQ5ZdffoI7oxxw1wA+SnvpY2v+UNuXEXJ0L26E90NTKqxRyIsHQVNLmzvW3RjxNRfceOONQsXqsEfOihirW/fdGoX8+973vt18wdyXg0g+E8m3qWvPejLXVr2LGLe9tNO7RlFbIviY8sqFEbhSvnO0FlnOVmMyqs6R46Z2/lOflMJ9KuQj15Bb9XUJT/59Lf4jxm0U/fk2+N/cdyeZUeFao6YlhXwvP6XONQp5XOWpDYS43PPQKlO0plP5S7J8BI4oK5LfqO6HFIYo5LHcFKFwrL4EdiDf6173KkU7sT7buaTQgr8YD8F4DnCrobrhTz4HX//610clJkI5t/6uhcg6RRAcF8+qzSxcUaR6kHUi8eYux50TRHyepd9bTjwRba+l51aF7BLz4tJd9R8hQkDJNQw+0a688sqTJzzhCbuNF55tevyK52iA/oLJc/QaxaQUHCjPsEotKSdRiCv/+93vftluL9U3G3nh5ate9apdeZSLYrgFIscp5bf2f03d8V0rHCvEtQdKojnwfnFJ+6lPfWouSfYbfFB0+OIXv3h3rwblW6UHwkoLRIzTCF5pfe6DK05ClcDWuaQkLqXlPScM1JelS3l9evDNfQ2ke9e73uU/Z39H9R2WJFiCRgCLeOuLWXjg0kQLfqwTTxb0Np6ee3md8lkKl3i20kfQpPKqKbN2riLPpfwsfffIDbUyw1J9hAcsnbhMXDRD+LnPfU6fLwpR4Omun1762JI/1PZlhBwN0npxQx5bynaUtwR2bsoZFSg9fJU7VqAlZJ0f/vCH+pQN2SDnpJmlQZ7xGd4KPXJWxFjduu/WKOQZw8I1rgdyEMlnIvl273oy11b7rnfcRtCOZEP10do1Cu2J4mMWN/65F1fKb4nWosrZckxG1Dly3NTOf+qTUugV8ktr0TXruMg15JZ9XcKVfV+L/6hxG0F/tv6lZxmPiVdhpMrp21pYUshH8FN7sh3dKBsWHn73u9/t5kTakttYaJUpWtOpjkuyfASOKCuS36juhxSGKOStpQkXsFlrTHxYSxlo42EFXAI72WOxboGFPVZ1GlyEuiTOxuMZi2HFQ/gmrQcEagnaMPIlhZdPz+/IOrFTpToT0oYcXHXVVbt48rereI95zGN238iDS3gs/OhHP5pYhuIbvwRSBpEPx39a4J///OekPh/72Mey2fjLgkqXF+KGxeII5aUgou2WTufo2d++LVceqksplHUVbZD/ZBsX6xrbPp6h35/+9KcT+iQeR6ZZUH7ve9/bZYG/cZ+efvT+5LGsF6NEWSiAOZMe36k5sDeko7CwgAUv7imoE9bz99xzj/3c9Gwti6kXwnELRI5Tym/t/9q6W2th2j3nUkh56qI59f9jH/vY7OSu+KVQyuNHPOIRF21SWh7129/+tpTF7PuIcWrrQXtbeOXXvva1yVhhY8rzSxryq1/9anJypeVkCEof9UutL3hcQpGGTZHauSmi71Bo6kJn5uCcD9/ZDs58VFuEAzbv/QXq0Li+E+I2TvJDJsuTXl6XyzP3bolnK00ETSqvmjJr5yryXMovYkxSTq3MsFQf8gK428HSBPNLCS6k02TMPTq500sfW/KH2r608VrlaPDXixvy2FK2o7wlqFXI41JENHXu3LmlbMfv9rQtaZ/ylKdUpStF6pGzIsbq1n3nFfKlzV5kWfUNSpvSvBfJZ6L4dsR6skQvet87biNop3eNQlui+Jjwkgt7caU8l2gtqpwtx2REnaPGDXi29DC37laflEJO9Yp/EC55OFizjotcQ27Z1yVc2fe1+LfxTlv+sPUvPf/lL38Z1xGWJnA9hBvWGkDxbdP6S10j+CmGYLYMb4SEThWDYRvnLW95y0XVb5UpWtOpAkuyfASOKCuS36juhxSGKOQ9wSK4opjDvcJll122I3xr+Q5hMVBygBJIhIdSwF9ih3LEKqtQSvrbk//973/vlI0wdy5JzMFNN920K4sycVuDshurYYR7JuLXvOY1o3UjvtjxK5qDqDp98pOfnNQHX4oeUFDc97733cXzlkD4HRf+CFGkM/kyyNkFBR/2O9ZwfGeA33HHHZPi7EV77Nz5vphELvy4++67J+WVLk/E6s3WC3/VOfALdPyfCyLaXkvP9hgO9f7+97+vahRDFhe4h1E7efYLDn7bTSnFJaSvnvzkJ5/gx1TvoWEL7K6iMNR3G+J6BAW3FPF8Y3fTbmqIOd/73vfOWsjaXUp/bMpbJ8wpT2ydS8/QG8pL2wb4g8dZKb1/HzVOybel/3195n7bdsOHasArkLg8Zy387Gc/2ymfc/dPvPe97x37Q5fGrs2f+BHjNIJXMlauvvrqCX3huoYj82xYYcWCVQxttTTIMy5VuDB3jU/Cpz71qbt8/NixeGSe0SKQ00y1ZUT0HadmGPu2vdBi65hTu/ADj7JU+Zbab+f/uQuMybeX16lucyHtXuLZSh9Bk+RVW2btXFWTX8SYpO41MkNNfciLORWXWaIZ5j8v6xEP0GYwcbkUEuiljy35Q21fRsnRvbgBv1vKdpS3BFYhj7yaU/piJKC5FdkYHl8DGFywPhAtsvndAz1yVsRY3brvvEIeBYO/04s5gj4Bx8zDGsc5PEfymSi+HbWezLVX73rHbQTtwL971ii0JYqPCS+5sBdXynOJ1qLK2XJMRtQ5atyA59r5T31SCu1pBvjI0rp87Touag25ZV+XcGXf1+I/atxG0J+t/9wzukZ76kpzOLq9OTeg3/3udy862cuGhIUIfnr77bfv5Arqhn4TXQqnrVhv3//+9z/hTjjVm5C7uLDeZ80naJUpWtNRbo0sH4EjyorkN+R3aBCikP/jH/84WTRZokE5z+3UKJatMEscjpJgeUeHAighpOyxeaAoljsNIRDraXsEHkUjC3ws7NgI0I4Mwt0PfvADJbso9EpgW27pmSM7qrPNsKdOKB6x9LfKCMpHccoFj1KE/+Mf/xgvaPR1Y2CCZ+Bb3/pWsT9Ih0L2ta997WRw856FL22gbTAwL0ATh/7kG8x0CYjD5R3Pe97zJmVh9QgTkeUjIb+x5rXt4iQEVq+Kh49hlMH4xLbxXvSiF43lRLSdPJboGTpls8BuilAfrHlg4LkjcuACvHkf36R7xzveMSoZLE2hFMN63rYz90w/5gBLnYc//OGL6VEq+ktvxJwpjzGGkhc3GCxcGS/aDEC5KLpUHbzLCS6ybAEWZlixedoRDnD5wWTFMa610DNOKaul/9fWkfhstNFe+GZOsZDLE/oTjhCcWuAVr3jFmAdCgd2oUV7PeMYzxu+1mwRKZ8MeHsWmYRSvpE7wVM93hUOFuMzAPZN+EyIgoVTA0qUWmMewDFd6FPpyk8b4h54RxGSdzuKiVmFEHSL6DoWnbaee7cZnbXt9PPngpH2ar3wcXMtRJsp7LpBbgh5eN5f3Gp4dNX+vKZO6L81Va/LrGZOkrZEZ1tSHTSjucBH9EfKbkxb6u+GGG0aDCTZ+UdYrLngR9NLHVvxhqS/3IUe34oZ+3Fq2U3/OhZ/4xCd2NAAtYAn3spe97IT358+fH09byJjnBS94wSreSrk61o+yPyfnzdXNf+uRs3rH6mn0XW49wVzIfV3c1cVY1tzIGiGnSKtdm9TymSi+rb6NXE8qz1zYOm7Jq4d2kJ0FrWuUffAx1SkXtuKqltZUZms5pD8tftpa5+hxAw6W5j/ilIC+wsUquh95PJAsgA4FXmI9N5BPzzquZw15Wn1dwp3eL+F/H+O2lf5U5zUh/Aq50eshoRP0hGzmY6nO+os7Y7w+ivUe+havwI/gp9CvdSMt2lUITaOH4bSy3hFiXGs3CFplipZ0tXMsfdSLo33wmzW0s1XcEIU8lUXYstZvLI5QpENoskaxhGSf8SPr/SPZ73r2Lme4jJIdrvvc5z4TIiU+Fm0oB7GUX4KPfOQjF6VXmaWQgZuD1jr5S6N8uShaWAB463YbDzwIEHA5nWC/448fS3gAfLPrpu8sMLgAA/BHuBTHhjUXa+aU/jYPygdKlhaKq0udlpRmbJQAPW0fM0j/SvSMkkD1mgt//etfK6sxXMIFeXmLURR1uI3xin/igguY3BxA+y996Uuz6R/84AePwgtM1QPMmQmAY0iylGWzRpaK0CBjmwnOA4KKLqUlxLq4BaS4m8Mx39h0aIHWcZrz7Z6ro+//ljpK8c0RzFqgXOrD2GdTowXkW5fNEA+4GJFA0+o/Xnm2jtNoXkl9ULrBP/xcAg3jlgnhHYGJOY6NKHbqoaEWQHGpvqWvGE9sKNuy2QDwp5VqyorqOzY5PV3XHvGcq+dtt9025utP9dg0WKJiHTnnSs3G57mV1/l87O81PDuKJteUqbqW5ipkr7X5tY7JWplhTX28+yJPj3O/tcklHPXSx1b8Ya4v9yVHt+BmqR/3JdupP+dCLgB+/vOfv9vUtHQCX8HQwd9dMZef/aZx3uo2z+bVI2eRT+tYPa2+g7ZtX7Dx6pVnyLoYW5QMEKL5jPrT1ss+r1130S+R60nyK0HLuFVerbSj9Apb1ij74mOqUy5swVUtrdnyWsoh/WmNScpuqfM+xg11mZv/+F6CnCGnHcd61n1aEeu41jXkafZ1CX96P4f/fY3bFvpTfVtC1nIYQcpoV7SRC9F/oIu4+eabZ9d7EfwUesrpPTCalOEhCnlkGOZIdHl+k6lVpmhJt0TH4NPqtHpwtC9+00I/+0zzf2SeEBcCFy5cGJLl4pCO9w9JmTckZUZIvkuZJOY6pOM/Q7LsG5JyY0gC95AsLZaSjd+TkntIVi/DN7/5zSEdQR3TpQE7pF2wIR2nHJLAMSTF4/icfJENP/7xj4dksTgklyBDUn4Vy+ipUzHTlR9oW/L3PRCmI3dDWiRNcki7TkNS6g5p52/sr6SUn3w/yz8i2n5a9OzxnjYBhnSSZEi7yUOy7hrSBsWQLNd9tOLvpJgZ0gmEMY90umCk3aSQH5JyMZsGuk9W8+M4Jm2yUh3LTsx/SDvJQ5rIhjRRZdPyMi2mhjvvvHNIrnAGyjlkOIRxWsJPWhAMyeJ9SBPvkBaupWiT90lhPqQLR4drr712ePWrXz35VvODvk+K4YF+T0LukCwKJsnSaaMh+c4d3yUhYUgWqyOPSYrgISnqJ3FrfkSM05pyauNQH80lzCHpUvBBfBFemU7tDEkwrc1uNh5zSRJSxnGZFH7DQx/60CEp/Ydk0TPOYWlTZTa9/xjdd/A/5rq0qTekuwKG3/zmN0PaCPTFrvqNuJGsVYeXv/zlO7zmMkiukoZ04mhIAmjuc/HdWl5XzOiMfYicqw5tTEZ2RS99bMEfIvtyDe56cbOmrK3iwleRnVgbXHnllaPslBa0zcUz36W7eEb55pprrmnOh4S9chZ5nKWxmoxLhmQFT7VHQFZB/kouIIZ0yd6QDIbGv5JcqnSHHNIf+1hPzrW5ddxG0k7vGmWufZHfWnG1tg5blbO2XnPxD6XOpzX/zeFm7tshryHn6l36dlr4Pw36Q1fBuoYQ/R7rE3Qk6MqSsd+oK0mGiCVUTd5H8VPW1dQJXSbrT6vLTMYGQzo5P6SN60nZ+tEqU7SmU7m1YRSOass7a/FCFfJnrfEQR9p9GhXraWdwSP5qF5uA4JGOtgzJenFUWqIgPcIRA0cMHDFwKWAgnZgY0jH/caHPRkC6THTSrBtvvHFI/tXHzRo2LtmsRHhJd3SMiuRJ5OOPTTGwj75LVhvjplpyUzUKibXC6aYNPxZ2xMARA0cM7BkDbI6n01Kj0ji5kdxzaZde9jmFfM/myKFh6LiePLQeOdbniIEjBo4YOGLgiIGzgYH/aYV88oE8fPGLXxytT5N/rKFWODx37tzw+c9/flRabXUK4GyQ07GWRwwcMXDWMZCO+w/Jtch4YuiVr3zlrjlYGmK9zcKTTcl0zG249dZbh3ScbEi+0ccd/V3k48OpYCCy7+jn5Gd5SG6ohnS7/UDeRzhi4IiBIwb+FzGQ7gsZ0r01Q3LV1nT67H8RZ7bNl7pC/rietL19fD5i4IiBIwaOGDhi4IiBWgz8PwAAAP//rxvJyAAAQABJREFU7J0HvC018cfzEKQJj94E6b0LovCnN5GmNCmK9CLokyJNhEdvIghKr9JReu+dByr1UaT6pChdijQB2f9+V2fNyd2S3c3Zc+69k8/n3uzZTZn8kkwmk2QyIoqdGYbujTfeMNNNN11S8vHHH9+89tprZqqppipFYuzYsWallVYy6623njn99NNLw2sARUARUAQGEwJXXnml2WCDDcxSSy1lrr76ajPFFFOYq666yuywww5mkkkmMS+88IJZd911zSWXXGKWXXZZs8oqq5jDDjtsMBVxyNIaqu5eeeUVs+aaa5pHHnnEHHHEEWavvfYasphpwRQBRUARsBF4/vnnzTTTTGNGjhyZvD7zzDPNNttsk8wRXn75ZTPxxBPbwfXZAwHGkX322ScN+a9//ct88YtfTH8P5gedTw7m2lPaFQFFQBFQBBSB3iIwYrgq5J999lkzzzzzpOgvssgiiYL9a1/7WvrOfnjxxRfNhRdeaA466CAz/fTTm3vuucfMNNNMdhB9VgQUAUVgSCBwzTXXmE033dR89tlnZqKJJkoUEwcccIDZaKONzOqrr27GjBmTvJt33nnNbbfdZiaddNIhUe6hUIgQdXfccceZQw891Bx//PFmk002GQqwaBkUAUVAEShFYLPNNktk/REjRiRzhFlnndXceuut5t///reBL44aNao0DQ0wEIFDDjnE7LfffumHd955J13wSF8O0gedTw7SilOyFQFFQBFQBBSBPkBg2CrkORiw+OKLm0cffbSjGmaffXaz2GKLmWmnnTYRwNk5jzKenfG4pZde2px77rlmzjnn7IinPxQBRUARGEoIfPrpp+bxxx83k002mZlrrrk6ivbEE08kyvpFF120473+6A8Emtbdxx9/bD755BMz+eST90eBlApFQBFQBLqMwJtvvpmcnM06OPyNb3zD3HvvvWa88cbrMhVDM/ltt93WnHHGGWnhHnjgAbPEEkukvwfzg84nB3PtKe2KgCKgCCgCikBvERi2Cnlg5+jprrvumpheKKuGhRZaKNkxiKkGdYqAIqAIKAKKgCKgCCgCioAiMDQQYBc8J19ff/31jgKxAefGG2/UjTgdqPj9ePDBB5MTBqNHjzYs9IpjQxQmbNgEtcACCyTm8OTbYPR1PjkYa01pVgQUAUVAEVAEeo/AsFbIC/z33Xefueiii8zTTz+d/LFLBgEcIZE/dsxjT1d3xghi6isCioAioAgoAoqAIqAIKAJDB4GHHnrIHHvssYkCHhvyK6+8sjn88MO97pgaOiiEKQmnrGaYYYbCxLjD6+677zaYvxsKTueTQ6EWtQyKgCKgCCgCikB7CKhCvj2sNSdFQBFQBBQBRUARUAQUAUVAEVAEFAFFQBFQBBQBRUARUAQUgWGMgCrkh3Hla9EVAUVAEVAEFAFFYGgg8O677yb3PmDTGFMQmN/gckp1ioAioAgoAoqAIqAIKAKKgCKgCCgC/YWAKuT7qz6UGkVAEVAEFAFFQBFQBLwRGDNmjBk1apTBXrPt5p577uT9zjvvrIp5Gxh9VgQUAUVAEVAEFAFFQBFQBBQBRaDHCKhCvscVoNkrAoqAIqAIKAKKgCJQBwHuv9lss83MdtttZ37wgx+YJZdc0vz1r381xx9/vDnxxBOTJPl2yimnqFK+DsAaRxFQBBQBRUARUAQUAUVAEVAEFIEuIKAK+S6AqkkqAoqAIqAIKAKKgCLQTQReeeWV5DLEXXfd1Rx44IEDstpnn33MEUcckbw/+uijze677z4gjL5QBBQBRUARUAQUAUVAEVAEFAFFQBFoHwFVyLePueaoCCgCioAioAgoAopAIwTOP/988/3vf998+ctfNrfccouZb775OtJ7//33zQwzzGA++OADs9xyy5m77rqr47v+UAQUAUVAEVAEFAFFQBFQBBQBRUAR6A0CPVHIP/zww+bNN980q6222oBSM3G8/fbbzYwzzmiWWGKJAd/7+UUV2p966inz7LPPmnXWWaefi9RBW5XydUTUH4bL9u6//37z2muvmVlnndUsvvjiZvLJJ1dkFIFBg0AR3x40hahBqPK9GqBplFYQGD16tDnooIOSvDBR8+Mf/3hAvl/72tfMAw88YCaYYALz3nvvmYkmmmhAmF68+Pjjj83nn39uJplkkiDZP/PMM8mFtuuvv35her7hChOp8PGll14y2PjfeOONK8Qa3EHbxnhwo6XUuwg0kZcvuOAC8+mnnyZ8ZcIJJzTjjz+++eyzz8wnn3yS/k022WRmgw02cLPt+M3i5fPPP29IA575xS9+MYn/0UcfmX/9619mww03VBneQqyf5ENf/uMbzipmo8fBNBaE0lGo/NyoyWhkRaBvEGi7L7edX8+BjlpwsQAT3XTTTdFuu+0WzTHHHFFc6GiNNdYYkDPhYkV88p0wxx133IAw/fqijPZYIIzuueeeaN99940WXnjhpIyxUrZfizOArrLyDYigLxIErrzyyqS+xxtvvLRd07ZHjhwZnXDCCYpSnyEQK4iiG264Idphhx0SHhXvKo0233zz6KyzzoroA8PJUV4fvj2UMVG+1/3abbvPhcovVDouwvGu9mjHHXeMYnvw7qcBv//0pz9FU001VRQv8kax3fgB33kx//zzJ2NPrJiKYkVVZphevFx22WUTefDf//53rezjxYXo2muvjWJzPdE888yTlBH50nW+4dx4TX6PHTs2Ovzww6NvfOMb0YgRI6IvfelLTZLr+7i9wLjvQVECKyPQVF5+8cUXk/6GjF30N80005TSJnwzL53rr7++NI2hHKCf5ENf/uMbLmS9DZaxoBs6CpWfQ7YkTUsR6B0CbffltvPrHbL/y9n877E7T/HOrGjiiSceIBx961vfGpDh5Zdf3hGOCdtgcUW0/+Mf/4imnHLKjrIh5A0mhXxR+QZLHbVN53nnnRehBInNCETxDrno3HPPjeJdNh3t4IUXXmibLM0vB4G//OUv0SKLLJLUz9RTTx3tvPPOySLinHPOmbybbrrpoltvvTUn9tB6XYVvD62Sd5ZG+V4nHqF/td3nQuUXKh0bTybE1113XTJeIB/EO8ftz7nPLAzkub///e/JGER6/SRPxbsp03HwsssuyyM/9/2xxx4bfeELX0jTEKWZq5D3DZebUY0P//d//zeArqGskO8FxjWqRaP0OQKh5OV4V3v0xz/+MRo1alRHP4x3uUe//OUvo9i0V/Tqq6+WooFy/9RTT43iHfJpOiywsTkD+Wg4u36SD335j2+4kPU6WMaCbukoVH4O2Zo0LUWgdwi03Zfbzq93yP4v564r5Mnq3nvvjeKLxSJ7l3CWQv7BBx9MBR8mWHvsscf/KO3zpzLaWSW/8MILI4RCmTwOJoV8Wfn6vHpaJy8+7pru1DnllFPS/M8888y0/tk5pwr5FJqePsTHM6Npp502qZtVVlklio9KpfSgKPvpT3+afEMJdOmll6bfhvKDL98eyhgo3+te7bbd50LlFyodkI3NzET7779/tMkmm0Sxrfd0bEBGYCNDU8epRNJC9mI3fb+4bbbZJi3r8ssvX5ksxk2UbpwyY+FCZCpXIe8brjIBBRFYbLj66quj2K5/StdQVsj3AuMC+PXTIESgG/IySkbhC/jf/e53ayGz4IILJun85Cc/iZAF1f0HgX6RD335j2+4kPU7mMaCbugoVH4O2Zo0LUWgdwi03Zfbzq93yP4v51YU8pKdCDYIR1kKecKdccYZ0eqrrx797Gc/i2I78xI1uP/Pf/4zuMkQH9pR9omQ2E8KeR88fMoXvKIGaYII/1LPjzzySEcp2KXDzolf//rXHe/1R28QYIcpSiHqa/bZZ49i+6WZhKy33npJGHbP++ywykxkEL704duDsFjeJCvf84bKO2DbfS5UfqHSEaBEmTzppJNG6667brTnnnum40ZThfzNN9+cboLYZZddJMue+2+99daAU5MPPfRQbbrWWmutFDNXIW8n6hvOjlP0XCYz/fCHP0zpGsoKeRuj0Bjbaevz/xAoa3v/Czk4nrolL8smC2S7OieEMNlH3DXXXDOC96sbiEA/yYe+/Mc33MDSZr8p64+DaSwIraNQ+Tm7zfTqbVlb7RVdmm//I9B2X247v17XQKsK+a9//evpBCVPId8WIFtssUVyNLyt/CSfb3/72ykG/aSQ7xUegstQ8llIii/QS+s5vkxqKBVvyJXl/PPPT+uK3ap57s4770zDbbXVVnnBhtz7fuLbQw7cYVqgtvtcqPxCpSPVzq69+KLvSOyoP/744ymPaaKQHzduXHriZ/fdd+8rZdJRRx2VllEWrX3s5Qtmrs8dH5JOkULeN5ybft7vMplJTlVB23BRyIfGOA/74f6+rO0NJny6KS8vtdRSKW/gxEoV9+GHH0aYK8RUIYuI6rIR6Cf50Jf/+IbLLvHAt2X9cTCNBf2qoxiIur6pg0BZW62TpsZRBBSB5gi0qpDH/p5MnHqpkMeECHRg27tt14+DXS/xaBv/NvLDRqW0c3w95toG6vXzsPvkY489lpsQO6RmmWWWpG7Z0cpOg+Hg+oVvDwesh0sZ2+5zofILlU5ePYdQyGPfnkteMa+F3dx+ciw8zDbbbB3jI2Mkd6u88sortUhFmS/jbZFC3jecDxE+MtNgUsL4lNknTEiMffIbjmF82t5gwqWb8rK98x6zXR9//LE3NPvss0/CV1iEVZePQD/Jh778xzdcfqn/98WnPw6mscCWcfpp0+D/ENenugj4tNW6aWs8RUARaIbAsFPI/+EPf0gv6VGFfBT1Go9mzbc/Y3PpkygIVCHfn3UkVHF6YbLJJkvqa+TIkfI618ecltQtd0IMB9dPE67hgPdQL2PbfS5UfqHSKarfpgr55557Llk0nGqqqSLMLfSbu/LKKxP+OeOMM0arrbZaykvhqfvtt18tcn2VK77hyojwlZkGkxKmrMy+30Nh7JvfcAvn2/YGEy7dlJf32muvDh7zzDPPeEGDPW1OuSLvqStGoJ/kQ1/+4xuuuOT+8+fBNBaoQr6s1gfn96E4dgzOmlCqFYFsBLqmkH///fej+++/P+KmenFVBm4uVXziiSckaq7PjgcmsRzRLrPxx2VsTARFoeajkCdNLheQI+X4pHPfffd1XPxoE1hEe9Fg9/e//z0aM2ZMxA63srLY+dV9roMHeRWVL4sWMPvzn/+ctocqO8YJy2V0n376aZo0+WOX/YEHHog++uij9H3oh7p0/+Y3v0nbWGiFPBMF18Y5fYx288YbbxRCwI5u+uTrr79eGC7rI3G4xOnpp5/O+lz6jryhnTR8J0Uk2u36v+OOO9K6mmuuuUrLYQvyo0aNKg1fFqDfcGnKt8vKG/J7Xezq8HTorsL36tLWjfb+r3/9K+JyMfpflR2Cdl017f92Wm33uVD5hUrHxsJ9bqKQf/bZZ6OZZ545Ofn3/PPPdyTNyR/uvrDH0Y4ALf0QJfwBBxwQXXfddSnvZZzE3nOd8dzmyd3eIV9FZipSwnDhJHbzkS3rlJnqCtkn86q/ah6+deHmVzUfid8reYj869DchL9XaXuCD36VOZIdr8pzXVmZPLopL5988skdPObGG28sLRZlWXrppZN7Llw+Whq5CwH6SZZoSz6sW2Zf/uMbrqg6q/THbo4FdfhQUbm6paNoQ36mXG3wuyL8qnxrWne+sn2VtppHfxMeX2fONZjqMQ8z+32duq6Dm+RZJz+JW+b79OUmso6bv09+bpzB+DuoQp7J3iGHHBKheLdtaE8zzTTRSSedFNn2/LJM1hCfSdr3vve9CJMQXLSY51jt45IejmWLgh07nQhSTPq4FNZ2V1xxRTT55JOnYYkDjRyflj/7ks2XX345OuywwxIbgoR9++23oyeffDJabLHF0jS4ABIlOs6X9qzB7rTTTovmnnvuNF3yY7fu6NGjB0zWlllmmZReoZsLQm236aabDghDWDAQVxUP3/JJ+oQHP+ilLqWO8Keccspo2223jVAgZDk6Mva6f/zjH0fTTz99EhecYdB77713Rz2OP/74ETbRsPcYwtWl+/TTT08xp3x2eb/yla+k36gHjo1VcSw+0BakjVx//fVJ9FtvvTX62te+lubFkdzllluuo55pt/QF+h5YCV20YxZ+ihwMnXqyF7GIjy1OLilyFwbctPjOBbYoSSRf8Xl34IEHpgtddtw26x+b8UITfKvM7bHHHml4sK7j+g0X2nwTvl2EwdFHH93R9oVniU/7tN2KK644IDxHx8XVxY74VXk6carwvbq0daO9I8jBk7761a8m5kCkjTNecgkbx/AJU+Sa9v+8tNvuc6HyC5VOHi68r6uQZ6F0pplmilZaaaVEVnHzoC0wDvXSsSg/YsSIZBxiPKf9YaNZ2iY+lzhVdb7KFd9weflXlZmylDBsMkH2ZayWctMnN9hgg+idd97Jyzp9360+mWYQPzTJowrGdfPplTwERnVoDsHfq7Y9aK06RyJOFVdXViaPbsrLdhlQwEs/w0dBX+ZOPPHEJM7hhx9eFrRr3/tJluimfGgDWLfMdhq+/Mc3nJ22/Vy1P4YeC+rwIZv+ouemOgo77TbkZ8kvNL8LPXcROpvWXVXZvmpbFTrxm/B44teZc4WuR3uskXmn+KKL2W233QbMOyUMPjKHuGuuuWZA2J///OfyucOvW9d1cCPjuvl1EJ3zw6cvh5B1JHuf/CTsUPGDKeS59GbllVdOBJlJJpkkUaZi0uH444+PUFzbQhHPtkKeyeSPfvSj9BIyCZunkOcoNhMaJnfbb799dNtttyW76Rn0eEf8LbfcsqOO6DDf/OY30++EQVHMO/ljMsjCAYo2SUdoYTe2KIflHT6KrCq024MdSlFbMLDTlecFFligY4LNJXDsKLEndO5Em4nvJZdckixOSDr4XKYmzhePqnVD+ixcLLnkkkk9sEiCEv2iiy6K9t1332jeeedN2wLtBOHXdscdd1yyk8+mm2eY9CKLLJLGdb+vs846djK1npvQfdlll6XtyC4jdK666qrpN9rab3/7Wy/66D/seHTLSt1yqaj7Xn6z0MSpgrvvvjtR0sh710eBw06ULHfBBRdEmD2gH0DzzjvvHK299tod/YJysvKe5VC4cAKFPFlcOuKII5Ld8dg0tvHhciXbtV3/8A/BxeZJNk32M5M0CU/frOr6DZcmfNun7FzYdsIJJ3QsBoEfi4j33HPPgAUZBB/b7iuLswgnuLrYVeXpLJBW5Xt1aetGe4ePgS84s+uYkxxnn312YhLEXsBeZZVVInbYZLmm/T8rTXnXdp8LlV+odASHLL+OQp7xnkVTZAJ2nsOj5A/5hAVZFN9rrLFGVpatvUNOok3Sv8Udc8wxKT/lG2N8VWfLUN3cIe8rMwn9rhKGiZy7OYEyyx+L60Wum31S8m2ah29d1Mmnl/IQ+NShORR/r9r26syRpA34+E1kZdLvhrycRTfjuPQvfEzYFLm//e1viby68MIL9+w0UT/JEt2WD6Uu6pZZ4ovvy398w0m6rl+1P4YcC+rwIZf+ot9NdRSk3Zb8LOXoBr8LOXcROpvWXR3ZvmpbFVqb8Pg6cy7y7UY9vvrqq9Fmm23WMQ4wFhx55JHphlpMPdr6QxkzvvOd7yR6FHue9N577yUbR7j3iHDoN5HbXVenruviRt518nNpzvrt25dDyTq++WXROtjfBVHIw7hkpxP2mO+6664OXFD6sVNaGjm+rfw677zzIho+Ci47TJZCnlWTGWaYIQm39dZbd+TDD5S+pLHJJpsM+MYL3kseWSZr2F3OLk0JIz6dDgUlO9DkHT67uH1pJ397sJN0UFiieEI5KZdGyjd8dvyz8mQ7lLwSxlXISzgYqoTBtxXyEqYMjyp1Q5rsekfRTn7Uk72yyHeOnoiySGhDASYOJTK7qt1FnIknnjg50cDO7N/97ncRcaabbrqO8qGEruua0m3nC/1SNvw8pbcdJ+sZMxMwaBcvSZu2ykIHx95RxMh7fPADM06nsBOd3fQsKm2zzTYd4WzshQYWP9hNP9FEEyXx5D3+1Vdf3RGfHbhZO23tfgKjth3mdWxa7Xpru/7t9u+zqEMfEto5KVDV9RMuTfl2lbLvsssuKW7gt+OOO+ZGF1MW8A/4hbi62FXl6RdffHFUle/VpS10e6dOZQxZdNFFIxZwbceYKe0X/9BDD7U/J88h+v+ARK0Xbfe5UPmFSseCYsBjVYU8C6JZGwXsOpZndgH1yjGJkbs6OP0mjhMyIi8InYxVVZyvcsU3XFnedjvIkiElvq2EoWyUEwx23XXX5BTbueeeO+D0mZx+kzTE73afJJ8QefhgXDefXslDTbAJzd992l7TOZK0uTw/pKxMHqHk5Sx6OVVrb66yFwOzwnNShYVNTJL2yvWTLNFkXl8Fv7pldvPw4T/E8Q3npu/+9umPxAk1FtTlnS7dRb9D6Cjakp8pR7f5XYi5C3Q2rbumsr1vW4XWpjy+zpyrm/WIWUA2IIqMiW8r2SkzztWPUGd5bp555knSQwfjurp1XQc38q6bn0t31m/fvhxK1vHNL4vWwf4uiEL+Jz/5SdrQUSBmOTq43RlshbyEx0aVbVYmSyGPglfSOeiggyRq6mO6hAnqeuutl76zH3yZkh2O/NjZxMoNjp1O7BpGGY9NPZwP7YRzBzsuDWIXgu3cAYD82RVtO04ACA55CnkUwRIGv45CXvL0LZ996eWpp54q0Tt8jmYLM4MuVhofffTRjjAoim3a2QFoK24JbNv0JSyK57ouFN3kH3qCYStpKCdYwPxcxw52GzMUmlkrt9hKl3DskrUdbUa+Y6Ihy6211lppfNJxLzfFPq69E5dTMrZDgW+bwcnKp636X3PNNdOysLBW5uy65fRHFddvuITi2z4YwOPs3aGc/HAXGSUddnTTrmxlcQjsqvJ06PHheyFoC9He6VfCA1hMY7ef6xDcpO/js9hruxD9304v67nNPkf+ofILlU4WJvLO5vUsqJY524yOXa9Zzxzd7ZXDHCA0LbTQQgNIsE8eEIY2XMX5Kld8w5XlbfORKgp5eJ4r5/zxj3/s6I9sOHBdG30yVB5lGIfIx+4jtJduykPURQiaQ/B3aPFpe03nSORT5ELKyuRjy1TUJ3iHdGycIF3+ik6hXHXVVUmYnXbaKWT2ldLqF1kCotuSD0OUWUAu4z9Vw0n4PN+nPxLXVcjXGQtC8KG8ctjvQ+koSLMN+bnb/K7p3AUcmtZdCNnet61Cbygeb+cJ/y3So3W7HjGhLOMAPpsLXYdJQTuMPQe1w7700kvJQi+yBwsJtmta16RVBbcQ+dn05z379GXihpJ1fPPLo3cwvm+skOeohxzdmGKKKVIFdRYYti3pLIU8cWyb2FkKeXZHS4dhB6C9g1LyRKDKS99u6EWTqYMPPjjNh/x8bJuW0Q599mA34YQT5trhZse8lBOfHQS2s3c65inkWZyw02iikCfvsvKxs1TyY2d21gqklAEzFhIWHzvwtnN3Yt9+++325/QZkwySDmZc6riQdJN/6AkGl7VKGfFJP8u5F1jdcMMNWcGS3cmSnnuRqW2SJc/GvJvP+uuv35EPAgzKJMkjy0QPC1ryPUsJ0Vb9cw+F0OGWo6NQ//3xq1/9Kg3PzisGDV/XT7iE5ts+GLgLjVkCETvauHySMcW+pDgEdnV4OuUq43shaAvR3tlxK22ZyXSes3ejcbLGdiH6v51e1nObfY78Q+UXKp0sTOSdrWz0UchLvH72mUwia9E2szZsoKSWdosPX61y8fdgUMLAz7IWyKg324Rb1mJEG30yVB5ldREinzblIeonBM0h+Du0+Mxfms6RyCfPhZaVySe0vOzSbvNt5iVZDqUG8yh2UWLLvFeuX2SJNuXDEGWW+irjP1XDSfg836c/EtdWyNcdC0Lwobxy2O9D6SgkzW7Lz93kd1KGJnMX0mhadyFke9+2GpLHV5lzdbseMV1j322ZN98Xc8vIoshmWQ5zN3zHIofrmtY16VXBLUR+bhnyfpf1ZeKFknVIyyc/wg0V11ghv91226WTKew0FTkuTZSJV57CXOzQEy5LIY85HEkDn0tc3WP5jz32WGLWJIsWX6aEmQ07n1deeSUruY53ZbQT2B7sWFDIc/bEXOhAaBTXC4V8Wfk23HDDFLMVVlhBSM302SVvH1VnRyfH2sWJ2QopOzvJspx9yS47GOu4kHSTf+gJBjtIBAd8d8e5lPnKK6/sCHfvvffKpw4fm3KSnrvL214ZR2me9SeXy0oaXHriOi5LoX1jex4lq+tsk0v0Sde1Vf+2Ka28AdqmzbZ5zIJaFYU86fQLLqH5to1R3vNf//rXjpMTWSaCRCjbeOONByTTFLs6PB0iyvgeYZrSFqK927b3s07QQCcOhQOKUfiFu7sjVP//T07Z/9vuc6HyC5VONir/eWuP+0NFIY9dUMYKTj/aMoyNA7KejCf42Jv3dYNBCeOOs3bZ7D63+OKL25+SZ/t71njMO58xeUDC1otQeZTVRYh82pSHgCgEzSH4O7T4zF+azpHIJ8+FlpXJJ7S87NL+/e9/v4O3ZPEgUbj9/ve/d6O3/rsfZIm25cOmZZZKKuM/VcNJ+Dzfpz8S11bI1x0LQvChvHLY70PpKCTNbsvP3eR3Uoamc5emdRdCtvdtqyF5fJU5Vxv1yBxf5Ex305fUNeZUJQy+a76MDSaY8sK02bhx4yRa6jetaxKqgluI/FLiSx58+nIoWQdSfPIrIXlQfW6skMeGtDReLg8rciEU8ij37COI5M3EFfM12Ikqc75Mye0QKJDLnE/jsQe7rMmXnYdrO5yFBnH9qJCXXXDUiXtZp9Bt+zYWxMHGuTjfTu3TpiTNPD8k3eQReoLhOwG9+eab074Inthqz3L2iirhPvnkkyQYyjnbrIh9y3jR89e//vWsbAa848TGWWedFRGefOVvo402GhC2rfrnokOhw8dkzS9+8Ys0fCiFWS9wCc23B1Rgzgu7z2PWSC5sleBSH752pKtgV4enQ5cPXxf6bb8KbU3bO0KifVrIZwHZppXnbvd/yU/qmH7XRp8LlV+odASHLH8oKuTXXXfdhGdi4i/PyUKc8GKUFj4yF+kNdiWMPQF2Tfq00SdD5lFUF6HyaUseom2Forkpf4cWnM/8pekc6T85Zf8PLSuTS2h52aV8v/32S2U2+Is9jyIs8w5kkawNAm5avfrdpixBGXslH9r4VimzxCviPxIG3zecHSfr2ac/Es9XIZ83FoTiQ1llcN/ZMnoTHYWk2235uZv8TsqAb+NSZe7StO5CyPbQ79tWQ/L4KnOuNuqRO3pExsTnxLvt4Dn2PIowO+ywgx0kuXiW92yEcF3Tupb0fHELlZ/kW+b79OVQsg60+ORXRvNg+t5IIQ+jsHc5Y4akyPkoT30qgCMRto1q6WCYxMEOYJHzZUq+HcLOy4d2m6mXDXZiS1nKh+16cf2mkIeZchGo0IpgUebc8tm7U0J26iI6QtNNXqEnGN2egIppIWz0S/3Rl0I57K3tueee0ZRTTpmsKnOSAbMkklcvFfI2P8A2fpk74ogjUrq5q6KJ6xUu3eDbvjjIblmpe/veB/Bg1wG7PaGxyNXBrg5PhwYfvm7TWoe2pvxu7NixabsE2zz7/Dad7nO3+r+bT9t9LlR+odJx8bB/DzWFPGbP6NO0SZTsiyyySObf/PPP39F+CX/00Ufb0OQ++ypXfMPlZvTfD3Y7YPKa5+ooYRZeeOGO5NrokyHzKMI4VD5tyUNURCiam/J3aRS+ba/JHEnycv1uyMrkEVpeduk+88wzO3iLPUdknET5DG9yT1q76fTidy9kiV7Kh2Bcp8xSN0X8R8Lg+4az42Q9+/bHpmNBKD6UVQb3XSgdhaTbhvzcDX4n9Itfd+7StO5CyPaUwaethubxVedc3a5HTrRjmkzmn66VihNPPDH9JmFGjhzZsdlXdtlfeuml0jRSv2ldS0K+uIXKT/It8336cihZB1p88uMOqrx5hbzPMi1UVtZefG+kkGeyJY0WH8GqyIVSyJPHZZddFtFR7PzlGdM5eburfJgS6ft2CMKK82k8VQY7bL5LmfBtO+r9ppDH5qBNq8+uaXu3MXFtW+MhO7XUT5Yfmm7yCD3BaGsCamMeYvc3t8Jz/EvstnF0+Pnnn0+qgdVlaS+9VMiz+i10uBfcZrUXbG5LeBTHdVyvcekG3/bFgcmefaEzwpGY/eECHbDNuutC0m+CXR2eTr4+fJ1wTWiz+x4Y5JnoyhtD3Z0fefc/QGees2kI0f/z8mm7z4XKL1Q6ebjwfqgp5PfYY4+UXwrf9PVnnXVWr4UlX+WKb7ii+uGbrwzZVAlDXm30yZB5FGEcKp+25KGQ+Ntlr8PfoQXn2/YIW3eORNws1w1ZmXxCy8su7cybbJ6DHCBO8sYUYT+5XsoSvZIPm5RZ6q6I/0gYfN9wdpysZ9/+2HQssPlHN2UzyhhKRyF4tSE/k1dofif0i1937tK07kLI9pTBp62G5vF15lzdrkc2gdnjwUMPPZRUMfNQ7tTjm3vH4YUXXpiE4R4gNp7OMMMMA8x9EqBpXSeZxP98cQuVn+Rb5vv0ZZumJrIOtPjkt9RSS3XUp1238gy/HwyukUIepYEUGL/oIjnAyFMm2ED5VICER3Cw7SfZtHAxg22TXOL4MCXC+nYISRffh/Yqgx3mPewyIbCI6zeFPHaJbVoxK1Tm3PLZSqiQnbqIjtB0k5cI+YJHls3KIprcb21NQN2JS5WL9VyaqUsuyAIDdh+5F8z2i0J+7733TtstPKPMcQGt1Cv3V1R1/YBLN/h2FRzsi3HB8tprr012xCMMYdfv9ddfz0yuKXZ1eDqE+PD1prQ15XeY+JF2iX/jjTdmYlj0MmT/L8qn7T4XKr9Q6RRhM5QU8hz/nWqqqZJ2ecYZZySXmjKhyftz2x/t2D41l4ebr3LFN1xePvLeV4ZsqoQhPxeTJmOy0O/6IfMowjhUPm3JQyHxb8rfpc58256ErzNHkriu3w1ZmTxCy8su3eNiO7/22Ii9eBx2oTHRyA75OifK3HxC/e61LNEL+bBpmQX7Iv4jYfB9w9lxsp59+2PTsSAU78wqg/sulI5C0m1Dfpa8QvI7SdP268xdmtZdCNmeMvi01dA8vu6cq5v1yAkc28KGmFK85JJLknGCi0RxtsloMU+DaWzGkjzz3E3rOsk4/ueLW6j8JN8y36cvh5J1oMUnP+4jxVpB0V+VO6nKMOjm90YKeezU2oLO2muvXUhraIW8ZMbldO6lVnmdxocpka5vhxAa8H0aT5XBjiPbgq+r4O43hTzll8k3NHNM3V5A4LvrbEGc8B988EEaJGSnThPNeQhJN1nY5QKLwaKQZ4Ii7Q3/kEMOyUGs8/XDDz/cYa+e28ynm266NC1ubXddvyjkL7jggpTO2Wef3SVzwG9sXgtGe+2114DvRS/6BZdu8O2icrvfOL1k31UAT7zzzjsTXLm8KMuFwK4OT4eWMr4egram/I6TJ9Iu8XfaaacsGAe8e+utt9J3ofp/mmDOQ5t9DhJC5RcqnRxYktdDSSF/8sknJ20Sm5xyT0lR2fm23HLLdbRjJkVlzle54huuLD9fGbKpEgY62uiTIfMowjhUPm0q5EPR3JS/S5v0bXsSXvwqcySJk+WHlpXJI7S87NKNst02p4m8gcNEIYoZ++4qN27bv/tBlmhbPgxRZqmnIv4jYfB9w9lxsp59+2PTsSAUH8oqg/sulI5C0m1Dfpa8xA/F7yQ98evMXZrWXQjZHvp922pIHl93ziV4d6se4f0yX8J8LmZ75W47FPM429QZ+ilMmnGie8SIERELBlmuaV1Lmr64hcpP8i3zy/oy8UPJOqTlkx/hhoprpJDnCA/Hp6Rhs7uRwTXPhVDI00GzbK8z4WOlS2jBX2CBBQaQYjOleeedd8B3eeHbISQ8vk/jqTLY2eVxFzt8FPLvv/9+Bx5ZpiB88fAp32qrrdaRX9mdArvuumsant2xtgvZqe10s55D0k36oScYbU1AObJFH5Y+xOBTtqjCdxaLZJWZ8mMvXtLArBR8wnX9opBnYBVaMa1TtlNKBm3i3HbbbW6xCn/3Cy7d4NuFBc/4iN03wZ3JsvTBW265JSN0mDZVh6dDTBlf74d65XIfe9cH/ZidgUXukUceScZvdqfhQvX/ojz51mafC5lfG3QPFYU8PEYuB0MZ4evcy13hEdjJLHK+yhXfcEV58c1XZmqqhCGvNvpkyDyKMA6VT1vyUEj8Q8mzPm2v6RyJcuc5Gadl7G4i40seoeVlSdf22WwhNGNXVviM7Ja3w/o8s5CNaQVMcp1++unRa6+9lkTLM5XqkyZh+kGWaFs+DFFmwbeI/0gYfN9wdpysZ5/+SLymY0Eo3plVBvddKB2FpNtt+bmb/E7KYPtV5y5N6y6EbA/9vm01JI+vMudqsx6vuOKKdDxgXBBdG+ZUqS8cGyk53S/jxjLLLJM8Y5UjzzWta0nXF7dQ+Um+ZX5ZXyZ+KFmHtHzyI9xQcY0U8oCwwgorpA2Whjt69OhcbGxbP3mNuqwC6EisUOUp/hGwpANNM800A2jZdNNN0++Y1Mhzvh3Cjl9GO2F9BzuEogUXXDChlfLed999dlbRtttum5aD3abCROxATz31VBoGTI488kj7c/LsiweBy8rH8XLBHp8FmCKHiRAJjz1524Xs1Ha6Wc8h6SZ9d4KRZTopi468d21OQDm+K3WCT//O293Igg9211mUwwyBOLufTzHFFJnxbcV21gXAbda/XeYHH3xQijHA58IbGaDx5TLcAQFzXvQTLqH5dk6Rc18/+uijHe2MtjbnnHNmLt6QSAjs6vB08i7jeyFoC9HeuSzZ7rsI1nm85+WXX07wpu0z1oiz+0Ld/i9pFfl2PiH6HKY87r///o6y2PmHyi9UOjZt9nMvFfJ5bcWmz/f58ssvT9sicoivY/LJAq/djrkTqMj5Kld8wxXlxTdfmclWwiCj5bkNNtggLe9CCy00IJjd5rrVJ0PlUYZxiHzalIeojBA0h+Dv0OLT9prOkcgnz4WWlckntLycRbs9htOHZpxxxmS3Y9XTq4yV2CBmxySbiEaNGhWtuOKK0cwzzxzJ6UmxN5xFR9m7fpEl2pQPQ5RZcC3jP1XDSfg836c/EjfEWBCCD+WVw34fSkchadp9b/nll5fXqd+0/rvJ71IirYeqcxeiNq27ELK9b1sNyeOrzLnarEfkTMYAW87k+bTTTrNqOoq22WabAWFkB31HQOtH07omqSq4hcjPIr/wsawvEzmUrENaPvkRbqi4xgp5e+JFg0Y5xyUUrmOiae/gy9q9Thx7F73YcrLTotOSzxFHHGG/Tp/tW4cRKlwnK2Gkwc5Me0cDk3pRPnLJD2HkT3ZAuOnZv8toJ6zvYHfNNdekeXOZnOtY+BDa8F0mQbnYVW+H2X333d1k0pVBwhXhQcSy8sHk7AsbSVMuzHAztu0UsvBAXNuxWmrTLrs47TA8L7zwwmk4sfPlhin7HZJu8nIvDfn73/9eRkLh9zfeeCMtI5gcf/zxmeHdy1+wPZflMEVjY4uiWdxFF13U8Y1wKERc27XsrhVBil1CtmMHkp2+yw9QnNkna7AB5ro2659BWOgtMkNjDzR5plXccti/+wmX0HzbLqfv87LLLpviDv55PJ30QmBXh6eTdxnfC0FbiPaO3Xhpx+LDWzmSbyvdCTfLLLMkC9t33303RUxdiP6fJlbwELLP7bPPPklZKDMmT7IWp0PlFyqdPGgee+yxtA4nmmiivGBB37PbkyO8LPwjl40dO7ZR+pwykj7hcy+Hmxk8WNovPnLj008/7QZLfzM+SXgugs1zvuHy4st7XxnSDkcZ8pw92c66KLyNPhkqjzKMQ+TTpjxEnYWgOQR/hxa7TeXJ603nSOST50LLyuQTWl7Oot0+USy84qqrrsoKmvuOOzGkr2688cbphgzGVnted+qpp+amUfZB+KbQ2CvZuU35MESZBdcy/lM1nITP8336I3HtcHXHghB8KK8c9nu7LWdZI5CwZToKCddt+bmb/E7K4PpV5i7EbVp3IWR7uw3mjR3QGpLHV5lztV2P2IEXPovPBl13k92YMWM6wmCnXHSEYJXlmtY1aVbBLUR+WeXIelfWl4kTStYhLZ/8CDdUXGOFPJPfJZZYoqPRclz+sMMOi1DasZuFFTduJbYbP88cAfn5z38effTRRwmeCDb27iiebUUCgaTTTjbZZBGXM7jOVpplmWhhl7hNB2ZTmJByweiEE06YHEMkTfsYHeHvueceN6uO3z60E8Ee7Ng1lVUGJsSYCyFfJphg6DouybTLwY5ddppwQeKhhx6a2PDGBIcdBltZCIv2jkRfPHzLx8KL7CImbxQ/7Ma03dtvv50qcxkY7rjjDvtz8nzSSSd10I79XtfBGKeccso0XJHw4MZ1f4eim3TtXRpgUNZ2XFrc3+6KfN7lyWeffXaKBflylDbLEd9uF9iAF0d/Riljf5dndgSxm10U8bxnBdNW6JMO9qslDj5tmEGDRSNW6alz+zu76PnOgtHNN9+ckNJm/cN/2JkITayaM+F3HbhwGoAw8J4XX3zRDVL6u59wCcm3SwueE4CdZNIO4FV5p56IHgK7qjydfH34XgjaQrR3aBWFgeAqPn2MS4hnm222FPP999+fIna4EP2/I8GcH6H6nH1qRcr63HPPDcg1VH6h0hlA4H9fiHwjZWm6mJuXj/3e3aGKcr6Jw4yF0L/++utXTurqq69O40s666yzTm469uVbyFR5Zsd8w+Vm9N8PvjKTvfOdcuSNGfPPP39aXky8ufS30SdD5VGGcYh82pSHqPIQNIfg79Di0/aEh9SdI5FPkQspK5NPaHk5i/aDDz447WP0RfpmVcfGE+LSX1HO285WQvz5z3+2P1V67hdZgjYfal5fBkCIMkseZfynajgJn+f79EfihhgLQvChvHLY70PpKEizDfm52/zOxkaeq8xdiNO07kLI9r5tFXpD8fgqc6626xETlGxCERkzS18IFrZ8tvfee/Oq0DWtaxKvgluI/AoL9N+PPn2ZoKFkHd/8fGgfLGEaK+Qp6Ouvv97RaKWB2/4cc8wRYULGfocShl3c7D5nsuLujCLsfvvtlyh0qRycdFq+oTxjJR/hCKU1CklROLBTzp3YEJ/JOscNbTrkGeU8F9qgyLQVvXznWMhdd901wAQAncGXdvI/8cQTO/LmAo0tttgieX/OOedEKEtFoc1kNksZTzrgYZv9kDKIz+46sHEvu0UZykqpuDI8qpaPdNmZbR8HQpELs2O1kYUP2RGBovbee+8VUhKfOmNXvc0EKRNKYHYPSp3S5nbbbbcOLAnHggM3hddxTeimPlAoUj6wl3oQ2lHK26cxfOgDey7tQBlhp8cqLYsqslKLz+9FF120IxynFThZIOE4nsuCFZfs2elttNFGST5C07PPPpva/7XDuc8sqGUd+cUOeF4fIw2U+jvvvHMHDbwnDgr5XtQ/AgjKHOjgCDKLRuLYMSBHThnAzzjjDPlUye83XJry7ayFiyqA0C5loZY2WOSaYMeCcBWeDh1V+F4T2kK3d8xIcbLM7avub/pfnmva//PSdd+H6HOMB5NPPnlaXhbV8+69CJEfZQiVDmldeumlyZiPCToU4ZNMMklaFuqMy7E5jcMpOczxsSsttHOP5WYdK/fJk7GKnT32RgA2Z6CgB7Myh9kzZAT7fhG73W633XbpBYyMt8hdhx9+eAdehEeO4xt92DdcGW329zKZCfmDDQRuXWLSgp3+0IRD1mTzhF1GnlmYtk3AEbaNPlk3j6oY182nV/JQE/xDy7NlbQ9am86RSKPMNZGVSZs2E1peLqL5vPPOS/sZ44Xbv4ri8g35Wk54X3zxxQOCSz9Gnmni+kmWaEs+bFJm2qEv//ENV6X+yvpj6LGgLu+sUqYQOoq25Gfqvw1+5+JXZe4icZvWXVPZvqytCp3iN+HxVfVo5NmLehR7+WyEyNMbYU4ZuYy5Pxfs+ri6dV0HN+ipm59PWXz7cihZxzc/H9oHW5ggCnkKzeCN0sqeHNOIEWIwHUNDQ4FMo0ZZziqKTJyzlHPuJEVWr+i0KDw5ysAOEMKhyBMFIApnJjQwrzzHJM5eGWP3IHHY/ebmm/X7iSeeSJOuQrtE4jLIddddN4IJuOkzgUWhwtH4Mgd+wlDsdFCUit1WFPKkud566yW7kLOUwnl4IMDUKR90QxuXn7jtATo5+YASwFZ6SlmzlOx22bbaaqtkUcTdZW2HIc+6ri7dIpDbdGQ9n3LKKd6klWGPsgaXtytW8l9sscWScO4ih3wXn/4rjrrZfPPNByxMERZ7mSw8wDjzHJdmoRyTtPHZhc5OeBztE/rlO8pwjhD3sv5Z8OGiZ2jiNAkLV9SBnBigXcF/mrh+w6UJ326Cg8TF3Ah4+5wiqYMdCk9pY0W+zdOhrazvkZaMSYSvQ1u32jsL1Jj/cReVoRkewAS4zDXt/2Xpy/cQfQ7lJ4u7HDllMlnkQuRH+qHS4dQNilv4DQutlIHxUf5Y2OY9dQk/9dmhU1T+rG9MvETZhM8CVh3H2JzXx+DvZY4NCHnx5T3jPpNh90ivfLd9FjB8w5XR5n4vkpnkdKNNi/2MbOfe72N/l2cWgm3XRp+sk0cdjOvkU8aTuykPUQ91aO6GPFPU9qAzxByJdMpcXVmZdLshLxfRy8Yf6Ve/+c1vioJmfhPexmYp90QoEVZdddUkfUymNHX9JEu0JR/WLTNY+/If33BV66+oP3ZjLKjDh6qWqamOooxX0xdDyM+Uqy1+52JYZe4icZvWXVPZvqitCo22X4fHwx+F1xb57pyrF/UopzGzTgsLDmwYRoeWZVpXwmT5Veu6Lm6Sd9X8JF6Z79uXQ8k6vvmV0T0Yv4+A6LjTBHPxxWAmPlJqYjMlJp5cmtiGqIknY0n6sSLAxLt2TTxI1c7vgw8+MPGuXBPvRDCxwtjEK1YmXh0ysaLZxJNyE+++NrGivjT9cePGmXgnbpJOrNw38US0NE43AsQCj4l3TSV4xZcamlh5auLOXymreHJnnnzySRNPVhO8wV1cPLCa2JSLiSf08irT7xYeMZNJ2wP0xYsNSbvIJKKPXg5WukNDSB+LdwclbTTeWW9i5bSJFfImXtAqzQpeEN/pYPDjo6QmnjB3xIlXVA08Id5RaeiDwic6ArX8A5ri48cmVpYmfAX2GCvHTKw4M/Et9aX9yIfcfsSl23w7D5dY4DOxKSOz44475gXpeN+P2AmB/UZbvMCc9FvGx1iRkIwtsYJXyPXym/R/rwziQG30OZuWUPmFSsemrVfPsek8c/vtt5vYBFnC33tFx2DKt1syUxkGbfTJNvKgnG3lU4Zple/9QHNR2ws1R/LFZDDIyoyFsUIlmX+efPLJJt7A5Vu8JFy8mcTECiQTn1ZNZEM7crxAmMiFsbLMxCd0TXySx/5c67nfZIk25MN+K3OViivqj1XSqRK2LT4UQkfhU6669d82v5OyVJ27SDz8pnXXRLav01bb4PG9qEfm9/EmHrPlllsW6h/iU1EmtpJh4g2udjV6PTeta69MrEBt52dlrY8NEQiukG9Ij0ZXBBQBRUARUAQUAUVAEVAEFAFFQBFQBHqGAIqi+HRkokSLd/ab+DLADlri3fcmvuQxecfmqPiUZbIRJb5Q3cSnnzrC6g9FQBFQBBQBRUARUARcBFQh7yKivxUBRUARUAQUAUVAEVAEFAFFQBFQBIYtArFpRhPf9ZWc9IxNLpqNN964A4t9993XHHbYYclp69g0q4nNpSanQe+44w4T333VEVZ/KAKKgCKgCCgCioAi4CKgCnkXEf2tCCgCioAioAgoAoqAIqAIKAKKgCIwrBGI7/wysb1hc8YZZ5itt946xQJzoyjdMbfx7W9/28R2kM35559vYnu6Jr44NjEjmgbWB0VAEVAEFAFFQBFQBDIQUIV8Bij6ShFQBBQBRUARUAQUAUVAEVAEFAFFYPgiwL1CG2ywQaJ8RzE/xRRTJLbkd9hhh8QszQsvvGBQ2nMfDuZruHOIXfPqFAFFQBFQBBQBRUARKENAFfJlCOl3RUARUAQUAUVAEVAEFAFFQBFQBBSBYYfANddcYzbddNPkEvKJJprIjBw50hxwwAFmo402MquvvroZM2ZM8g4b8rfddlvhJYHDDjwtsCKgCCgCioAioAjkIqAK+Vxo9IMioAgoAoqAIqAIKAKKgCKgCCgCisBwRuDTTz81jz/+uJlsssnMXHPN1QHFE088kSjrF1100Y73+kMRUAQUAUVAEVAEFIEiBFQhX4SOflMEFAFFQBFQBBQBRUARUAQUAUVAEVAEFAFFQBFQBBQBRUARUAQCIaAK+UBAajKKgCKgCCgCioAioAgoAoqAIqAIKAKKgCKgCCgCioAioAgoAopAEQKqkC9CR78pAoqAIqAIKAKKgCKgCCgCioAioAgoAoqAIqAIKAKKgCKgCCgCgRBQhXwgIDUZRUARUAQUAUVAEVAEFAFFQBFQBBQBRUARUAQUAUVAEVAEFAFFoAgBVcgXoaPfFAFFQBFQBBQBRUARUAQUAUVAEVAEFAFFQBFQBBQBRUARUAQUgUAIqEI+EJCajCKgCCgCioAioAgoAoqAIqAIKAKKgCKgCCgCioAioAgoAoqAIlCEgCrki9DRb4qAIqAIKAKKgCKgCCgCioAioAgoAoqAIqAIKAKKgCKgCCgCikAgBFpXyH/wwQfm9ttvNzPOOKNZYoklAhUjP5lnnnnGPP7442b99dfPDdQ2TbmEBPzw8MMPmzfffNOsttpqAVPVpIYTAh9//LH5/PPPzSSTTDKcit2Tsr700ktmzJgxZuONN+5J/pqpMb0aB7Tu+7f19apN9C8ivaesF3USOs/Q6ZXVisrB9eXgp556yjz77LNmnXXWKYNZvw9yBMr6Sdv9th/gfPfdd839999vXnvtNTPrrLOaxRdf3Ew++eT9QNqgpWEoyXwffviheeONN5J54tRTT23GG2+8AfVCv3n99dfN7LPPPuCbvujd3KNfsC/SVw1mnluF9sEoZ1QpX7+0tb6mI2rRffTRR1GsiI9iQJK/4447Lnju7733XnTttddGu+66azTPPPMk+cwxxxy5+bRBU27mAT9QjptuuinabbfdIsoLxmussUbAHDSp4YbAsssum7Slf//738Ot6K2Ud+zYsdHhhx8efeMb34hGjBgRfelLX2olX81kIAJtjwNa9wProN/etN0m+q38/UhPL+okdJ6h08uqJ5WD68vBn332WXTPPfdE++67b7TwwgsnsnSshMyCWd8NcgSq9JM2+m0/wXnllVcm7T9WsCZ9QObtI0eOjE444YR+InVQ0DJUZL7HHnssOvjgg5N5C3MWaRf4tJVZZpkl2myzzaLTTjst+vOf/xzFCzlRvDEwmmCCCQZFPbVN5HDjK+BLmX30VYMZmzLaB7ucUVa+tvvRUMjPtFmIyy+/vIN5o/AL6Y499tjoC1/4QkceDBJFCvlu0xSyfHlpPfDAA9HEE088oNzf+ta38qLoe0WgEIF4xTptT5dddllhWP1YHYH/+7//S/EVgVYV8tVxDBWjzXFA6z5UrXU3nTbbRHdLMnRS70WdhM4zdHpu7aoc/J8NPzKuVpGD//GPf0RTTjnlgLFZFfJuKxv8v6v2k273235C9LzzzovGH3/8aL755ovik5vRueeeG33xi1/s6BcvvPBCP5Hc17QMBZkv3sEbbbjhhh1tQHjspJNOmmyAdNuIfBf/008/7et66gVxw4mvgG8VfdVgxqaI9qEgZxSVrxf9aCjk2apC/sEHH+xg5nvssUdQDBEQ/oQsKp0AAEAASURBVPjHPyar97GZjTSvIoV8t2kKWsCCxO69997oiCOOSFaoZfCrMhEpSFo/DUMEttlmm7T/LL/88sMQge4WmQWPq6++Ovryl7+c4qwK+e5iXpR6m+OA1n1RTfTPtzbbRP+Uur8p6UWdhM4zdHpujakc3EwOZifrhRdeGE000UTp2KwKebeVDf7fVftJt/ttvyB61113JSc2mUeecsopKVlnnnlm2h840akK+RSa0ofBLvOxIDPhhBOm9U/b4PTQ2WefHcUmgSM5Rf3JJ59E8M+ddtqpQxchOglOpKjrRGC48BW71L76qsGMTRntg13OKCufXd/67IdAUIX8P//5z9KjbGeccUa0+uqrRz/72c+i2Ma5H5U1Qq211lrp4FGkkCfptmiqUYzKURZccMG03E0V8j71WZlAjdD3CLz11lsDTlw89NBDfU93PxJY1od++MMfpv1VFfK9rcG2x4HQdV/W1nqLbndz71bZ224T3UVpaKTeizqpkqdPW6ySXpNaUznYRHXl4FVWWSUdm1Uh36QV9n9c337SVr/tJWLf/e5303b/yCOPdJDyy1/+MmK3969//euO9/rjPwiU8f7QMl8buB9yyCFpexDF+o9+9KPE7EhR/vG9A9H888/fEffVV18tijJsvw0HvpJVuT76qrawKeu7WfSXvfOhvV/lDB88fMpXhpF+/x8CQRXyW2yxRXLE7X/J9+5p8803TweCMoV876gMn/PXv/71tNx1JyJCVT/Vp9CkfvcROOqoo9I2JALYD37wg+5nPARzKOtDP/3pT1OsVSE/BBtAQZFC131ZWysgZdB/Gs5lH/SVN8QK0E9tUeXg+gr5b3/72+nYrAr5IdZJneIM137iwJBsksPWt8j97HhW549AGe8PLfP5U1Yv5CWXXJK2BdoEJoExVeHrXn755WiGGWZI0/jLX/7iG1XDDQMEQuqrmsJV1nebpp8Xv1/ljF7hkYfTcHgfTCHP0TYYNjbn+sGhQBShYjgp5LkgUsrdRCHfb/XZD21qONDA0cPZZpstbUPSlrAN+MorrwwHCIKV0acPDTYBPRg4mlAUsu592tpQhXw4l32o1ulgLVe/tUWVg1UhP1j7Upt0D9d+4mJ8yy23dMj+XDyozg8BH94fUubzo6p+KJTpbBKSOSD+PvvsUzlBTCBJGk888UTl+Bph6CIQSl/VFCGfvts0j7z4/aiQ7yUeeTgNh/dBFPJ/+MMfUvtiqpDvbbMJweD6sT57i+rwyf3KK69MhKcZZ5wxWm211VJBCoFqv/32Gz5ANCypbx8aTAJ6Q0g0uoNAqLr3bWtO9kPi53Au+5CowCFUiH5si8NV0RhCDu7HifIQ6i59VZTh2k/cSjjrrLM6ZH5VyLsIZf/25f2hZL5sKsK+3XnnnTvawjTTTBN9/PHHtTIRXvqnP/2pVnyNNDQRCDFON0XGt+82zScvvvQNdCz9cBKv13jk4TQc3jdWyHPzNso7WQH1Vch/8MEHke9qKbaMuACBiyCeeeYZr3qpI2BVocmLiJJAr7/+elKmp59+uiRk9uf3338/wk7biy++mAZoyuDq1qcQwA7rP//5zyld/SzQ1cH/888/j7jMQi6xwQez++67L6L9lLl+x0eU8AcccEB03XXXpf2a/j3ttNOW2g3MKz/tAGHs008/TYOAFzYquXX9o48+St/320PVOqvSh4oEdG5ix3Y/7a0uPr1o4/1Sf3XKDu1Vx4G333476f82H/bBIETdV2lrPjTZYRhz3333XftVMtaMGTMmeuONNzreuz8YsxmbqIMqrspYX7fsdXh41TZRpcz9HrZKnWSVhUk8F7+NGzcuAvtQzqdOQo87eXnWbYt56WVhVKceVA7uzg75v//97xF8EBMMIdt0Vr3Xfdek39VpazadbY4d0sfdemCuiHKhbKyC7qr9xLffCm0h5d668oZdP3nPv/nNbzpkfugvc3XGU0mzqmwt8cRvs51Jnq5fhfeHkPnc/O3fdWVeOw2esfXOqWjR6+DvsccebjDv33fffXeSFrvlfVxT/uOTR1mYJvyzblxfvgLtdTHqBk8qw5LvTfVVvthUwb5K35Uy1uF3RbQXKeTbljPq4AEuReUT3Gy/Kd/vVRu2y9CN50YK+SuuuCKafPLJO5g29ucweSF/9uUvCCUo+b73ve9Fk046abT88svnlglFABfIYG7GHhR45t2BBx6YKkWzEvEVsHxoopFKeXx9LmrIcgyY2267bcciBmX68pe/HHHhi6sAcdOAXi5ZQfFu2/pj9fqkk06KllpqqRSvqiZrqtan0AZNhx12WLTMMssk9WrX15RTTpmU99lnn5Xglf1+wJ/je5RxzjnnTPBFKH7yySejxRZbLMV79tlnj2Cgrus2Pm5+dX+zkDJixIho/PHHT8rBwCPllTrlEg9fB9O88847ox//+MfR9NNPn+AEPgyYe++9dwfvIE9sln344Ydp8ttss01uv4Mud3GOPu/2zyOPPDJNr8pD3Tqr2oeyBHQWKum74403Xtq2sN24wQYbRO+8805pMerymCZt3CXq9NNPH1AXUjcch8PttttuuWEIa18ods011wwI+/Of/9zNNlEA1+Gv1Lfv2ESmCBTHHXdcRJ+XvoE/1VRTRfD+Y489NllshU+wmJK1oNK07qu2tQFgZbwA89GjR0dzzz13Uq7rr78+CXXrrbdGX/va19Ky0jaXW265CBrEUVYua2cMoj8LLvDIItuhdcb6OmWv2r7L2gSTS2nTWT4Xnz333HOZYb761a9GVezzttGfpB7x69SJHZ9nlGHLLrtsYndW2gJH4Jdeeunk9BVtpaorqxPSazruuDSV5Vm1LZalZ+fftB5UDg6rkD/ttNNS3ihteuTIkQnPdHl8r+SXuv2uaVtre+xATkKOnGmmmZKx5l//+ley6Mf8Ut5RR4xFm266abIoaPct+9mnn/j229D8BzpDyBt2ee1ne2xhvibtGv8rX/lKx/glshvxq46nkic4Npkvtt3OhO4svyrvbyrzZdFQV97PSkvenXnmmR3tgLbAprNuujr8B52DK3tx6bDt6PtuGH7bsqsdvi7/JI06cX35CunXwYh43eBJpFvmKFsTfVUVbKpiX7XvVuV3vrRnKeSryBmh+kBVPHzLJ22E8E34fq/asNDfht9IIY9C5Jvf/GaixJNBHEU77+QPBR47wJmcssNWwuHnKeRR2rHTnjAIu0cccUSi3EDJMe+886ZpcBFPnisTsKrQxA5eoXuBBRaI1ltvvWizzTbr+JPv4q+//voDSLvgggsShQ1KT/DhSNjaa6/dgR/lQwGd5d56661o5ZVXTmiZZJJJEkXnhRdeGB1//PEDFEPQUVUh71ufNm0opZdccsmEJibbCMgXXXRRtO+++3bUFfSeeOKJdlTv517izyIHiifqTOoWH5pEyWy/h5Harg187PyaPNNHKct3v/vdNJljjjmmo9yLLLJI+q3oAWXl1FNP3RGXtBk0ScPGzH5eZ5110mTZUekemyQsint2p6HYtx027tnZL+nRB0mjqmtSZ1X7kCugo3iGh0oZXB+laJGrw2OatvEsethhA4906WeBRBatUFZSfrdvfec734nYUcMEW9x7770XMZbIrh0U4ey6tV2dslcZByQvdqagaKRsk002WUQfOffcc6N11113QHnt8l922WWSROI3rfuqba0jc+cH48jMM888gH4u9dpqq60GvJdysSjMyRfqy1aCyHfx+QZurqs71lcpe9X2zQTCV15hoYIxXMopPvQhwCOEgs0UU0yRhKGt77LLLslCpbuj08XG/t1Gf5L86taJxMe/6aabkgVFyrv99ttHt912W3Ii0u7vW265pR2l8Nm3n4YYd4QQ3zx926JvepJ/iHpQObi6HCz42xNlFhVtLKWf2z5zAxYlxfVCfqnb75q0tbbHjqOOOioCaxt7nlEY2hdIut/ZPMZpwyxn161751iVfhuS/widoeQNSc/1kUtkvm7Pr8Fv1VVXTb8R5re//W2y8avunKiJbN12O3Nxyvrty/slblOZT9IRv47MK3GLfOaAbv9B/9AtV5f/vPDCCxGnOuzNSywi2Y6NZsixbASwywQfcV1d/kk6VeNW4SukXxejbvAk6ClzTfRVVbGpij20+/bdbs4foKOpnBGqD/jiUbVuKGMTvk/8XrVh8m7TNVLIC6GbbLJJyuiyTNacd955EUoWV4jKU8ivtNJKaXpUhO1QxNlMNc8mWZGARXpVaJI82dGZ5S6++OIOmlBEMoG2HYpIdmpMNNFEEZN421199dUd8dk9507W33zzzXS3Mkog9+gXQhsrZTY2VRXyQlNZfUo4dr2jaCdPBGF7RythOMbCarVNk6uwlrSK/F7iz+r6iiuu2FEGyoNCkN2wdlvlPW1BXFv4SH5NfBSetCvKwK52cUwwpY6lHt32K2FtHyUUJ1zcHcQTTzxxcrKD0yC/+93vItrDdNNN14Gv26eZCEje+PTdPHfDDTckYVn889lN7qYTqs58+5AtoFM2sKYedt1112QHB4pe2yQYYWTXskt7XR7TpI27NNi/2THoKmltJbuEZSehXb+UI8/NM888SVgW/WxXt+xVxgHJb7vttkvp5c4FcfBsu94pExMFFqD4u/TSSyVo4oeqezvPrPG3I9OcHw8//HAy0Xb5tdQLbQTMUWjYi158p4/Trzmlxck1+AMLlm69ZvF+m3/WGet9yl61fXOip4q8gtLdHSPYCSIOnsLYT1tw262E8fHb6k9N6wQ8RDG29dZbDygai/W0G+rO1/n205Djjm+eUoaytlg1vab1AF0qB4dRyAsfZIMQO7DZDDTLLLOk44B8x+QfO7ls15b80qTfNWlrbY8d3GXE3NFWwoE/i/XMr9iwcdBBB0Vs7uC31A0+ciE7il1X1E+q9NuQ/EdoDCVvSHpFPjK7jVfWInrV8VTmRE1l67bbWRFO7rcy3i/hQ8l8pFdX5hVainyRs6UtMNftpmvCf6CLhSOh1VXIC90oBSUMvquQb8I/68StwlcoQ12MusGTBNM8v6m+qgo2dbC36S7ru1X5XdX5g62Ql/ZZR84I0QfApQyPKnVDek35Pmn0og2Tb9uuFYW8FIpjd7aJmyyFPHaTMc8gDZPd37ZD6WErqPbff3/7c/pcJGClgeIHH5puv/32hJ4sW4S8c3f+s2ptO4SaueaaK0kjj9611lorLTNlZzeA7X7yk5+k31mxy3I0fMENv9sK+dVXXz3N79RTT80iKVGK2oM7QvOjjz6aGTbvZT/gbzMpsGUXMyuFOHY1M+mCEWMnTVxb+Eh+TXxMS1GuhRZaaEAy7HC02xU7Qn0dSjg7Ln3XVbjfcccdHWFQ6tnO/U5fyXNMxshvzz33zAtS+D5UndntpUhJ6gro7FJ2+8cf//jHDnxYzHBdCB5j0wyGPm3cpcP9jWLSrn8WH13H0XM7zKGHHuoGSX6/9NJLyW562hBCmLgQZfcZB8iPtiu0ooB23WuvvdZhroUTTXkuVN3b9VbU1vLosN9z6kDKhw/WCEOuc3eFo4B1TywQR8Y90nLNuIUY66uU3Q4LPWXt27dNUE7uD7BlG3bE0xZop1//+tcTTPfaay+CNnLd7k8h6oSFeWlDKMZch1kyTpdx0rCq862TEOOO0Oabp92+ivqhT3oh6gH6VQ6uLwe7E2VkA3eXKKddpK2Lz25M27Ulv9Ttd6HaWptjB/jusMMOHdgvscQSyakkF3v3xGEWT/LpJz79VvIOxX9CyhtCW5Hvo5CX+Da/8xlPQ8nWbbczKW+Rb2NRxPtDyXwhZN6i8siJPuFpmMj1dWygO+ecc0r/KAMuBP/htJ3QmqeQJz8Jg+8q5OvyT8rQJK4PXwmBUSieRHnLXCh9lQ82TbCnHL591w5H+wk1fwglZ4ToA1Xw8Kkb0gvF90mrzTZMfm27VhXyFM62Q5ulkEfgZbedME6OyLnO3nGSpZwivI+AJemW0YQJmSxaie92UnbWue7www9Py5NnS/fkk09Ow1B22+QNph3EVAMDpa30dfOybe53UyFvnwpAMZW181VoO+GEEzrKhtK0ius1/tB68MEHd5ShzJZ6m/hUwTIrLItcCJG0u6zFHhTE0h/xMUPg2m/PSpd37ukPFleynL2ohYkM14lSS/LPuhCaHaSiFGM3RFUXss5svuAroNPH//a3v2WSbR8lzloQacpjyLRqG88k1HnJSSH7rgubr9lBxewV9UtZsxzmbvjODlvbhSg76ZWNA4TBbBo08LfwwgvzaoCzTdcgtOU5e3LWpO5921oeHfZ7FpilfPhM0LOcO15xMiXL7bjjjml6KOdtF2Ksr1L2Ou3bp01ImbCva2OHDDJ69Ojk3aKLLlo4RkoaZX63+1OIOuHkk+BAuTkp57qddtqp9oYBnzoJNe4I3T55VmmLZemFqAdoVzk4jEJ+wgknzL3fiR3z0t7x2cnoujbkl7r9LlRba3PsAF9Mi9m455n6ZIOUHY7FY/cUg28/Keu3Uu+h+E9IeUNoK/KrKOSrjKchZeu221kRXvLNl/eHkvlCybxCv+1zt43dX3iGx/m6X/ziF8nGLntjpZ0epwWRnTHBggvBfziJJ3nkKeTZCCBh8F2FfF3+SRmaxCV+GV8JgVEongS9RS60vqoMm6bY+/bdKvxO8CmjnXC2Qr6JnBGiD0CPLx6ELStfSL5Pfm21YfLqhWtdIS820GGIeUpuJrZM5LAf7dqJBiT7aAaNJ8v5CljE9aEpKw8uQbAZPMe6sGPtOnuFiMWErD+5RE/S49IRcfaRRewyFzlWsiWNbirkN9xwwzSfFVZYoYikZJe8bfaEY6SYSGnq2sIfOjGnILjiZ9WzXZ5+wMemp+gZ+2uUCWW27Fpww9NX7fJjY9nHcVGmHY/d3lnOvhx3zTXXHBAEcx92OlmmEH7/+98nYZj81nEh68x3ULMFdO5gyHM2D1l88cUHBLO/Z/EX3hXxGBKs2sYHEJHzAiW81B2KZyZUrrMVt4R1L5Bi0YiLfDmmPs65FyBE2aHHZxz4/ve/n5aFiX2W41SXlBc/bwE1VN37trUsWt137MSxaXdPqEl4TPXY4e6991751OFjl1DCZbXvpmN9lbLXad8+bUIKTBu1jxVLuRGyx44dK8Ea+93uT03rBHN6UnZ8bLdi59J2jz32WDKJtd/5PvvUSahxR2jyybNKW/RJr2k9QLvKwWEU8sxH8py7Y5c278pRbcgvTfpdiLbW9thhKyXBPG9TEKeUvvzlL3fwpOeff76jOn37iU+/JeFQ/CekvNFR4JwfVRTyVcbTkLJ12+0sB6qO1768P5TMF0rm7SjEf3+w8xWZxR7DN9hgg6yghe/++te/DjBHyhwza+GsKf8JoYxswj+bxAVEH77SFKNQPKmw0uOPofVVZdg0xd6371bhd4JRGe2EsxXyTeSMEH0AenzxIGxZ+ULyffJrqw2TVy9cXyrks4BgdfOss85Kj3/LYLHRRhtlBe/6RAShwDadAz3YVnIdwqB9ZDLrtu+sd7ZSEZvyUt6f/exnbhYdv9tSyMuOaugqulxXiLOZDnGwMdzEtYk/dLrMuMw+ea/xqYKt7OjF5E6es1ehqT+Ua2UYkJYvAy1rtwiJtukjBEZ3UQQTCNDG7t06LmSd+Q5qvgK6PbC5ZoVC8BjwqtrGfTHG5j31In+/+tWvOqLC2+0TEoTjOLrtZNGIhQXbhSo7aZYJF4Sxd0NyUoRTGa7DhJWUlQWEPEVBiLonb9+25tKZ9dt3snvzzTenZaSsHFPOcq7ShN1XZa7KWF+l7HXat0+bsMvD7iB78RlsXBNcdvg6z93sT3n0VKkTNlG4CjBOPWIqIqu/5OWZ996nTkKNO0KDT55V2qJPepK37VepB+L5KhoJW4emNuWwtuVgW2bNWgQHM3Hu3RssONmuDfkldL+r2tbaHjvcsSVvnKUeMGEoYzL+LbfcYlePdz/x7SOh+E9IeaOjwDk/mijki+YDIWXrtttZDlQdr315fwiZL6TM21EI6wdzDLu/cAdSHWeXl/S4LNbXVeE/IZSRTfhnk7jg4ctXXOyqYBSKJ7k0uL9Dj9Nl2DTF3rfvdmv+EErOCNEHqEtfPAhbVjch+T75tdWGyasXru8V8tgNRpiacsopk92R7J7l0lQZLHqlkLftNUELSs0sZ9sAxJxMVceuO3uCj/mXIlem2CyKK9/KOiQMkGNnUgcoC8vcqFGj0vDEYzdzE9cW/kJjFWbcD/gI3WU+JpTkciyU7HIBpevPP//8HfVHHR599NFlyQdloK79sH322SfNn8kASnpOXxRNDNIIzkPoOivrQ5K9LbBm7SCWcLZC3jWV0pTHSB5V2rjE8fFRRnCMVPiFuwvgxBNPTL9JGC61sZV3sivYvRg1VNkpR5lwQRgulBMa8bl013UsHEuYpZZayv2c/g5R9yTm29bSjAseuj3ZLVKa1Bnrq5S9Tvv2aRMunMccc0xa/7QDTn+EdN3sTy6ddeqENDhamnVkHRnoqquucrOp9NunTkIL7j55VmmLPunZoNSth24r5NuSw3ohB1eZKLvyLYuyruum/CJ5heh3ddta22NHFYU8JiZlTMZnjLadbz/x7beh+E9IecMub95zNxTyoWXrtttZHlb2e1/eH0LmCynz2mWwn+35Bv0FHQQ8uKpzZaE8E8N2unX4TyhlZBP+2SSuL18RnOpgFIonCQ1ZfjfGaR9smmDv23e7NX8IJWeE6gO+eFD/RXUTmu+TXxttmHx65fpWIc8tzUxkxf4wR/fkmCG7JEW46oVC3t2hxmKB2ENzK9JuQOwSq+pQmEpZ8RGYilwbCnl2Ado02bv582jDrpwdJ+tugLy47vs28Ze8qzDjXuMjNPv4e+yxR0e92HVU9jzrrLMOsMXp5mm3f9LLM1nj025h8PapFPqdmAORCRc3otdxoevMd1ALIaDbGNfhMYJXlTYucXx9dgnb7emhhx5KoqJclIs/3bsm5GJr7OqzAIiJGHYH2S5U2UmzSLiQPLk4WxawKA8XyblKZo73SlmLFq1C1D10+bY1KUOR34vJbpOxvkrZ67Rvnzbh4oksIPWPz0kKLnYM6brVn4TGJnUiaVx22WURC2s2FvKM6b06C6ek7VMnNl8gzybjjm+eVdqiTxnIt2k9+CoafctIOHFtymG9kIOrTJSxRyxtG//2jLtyuim/SJ3g1+13Tdta22NHFYW8nLCTOsLcpe18+4lvvw3Ff0LKG3Z58567oZAPLVu33c7ysLLf+/L+EDKf3baayPs2/e6zbWpQ+szLL7/sBiv9feqpp3bwxSJTp034TyhlJAWqyz+bxPXlK00wstsNddpUJsqq/G6M077Y1K03377brflDKDkjVB/wxYP6L6qb0Hyf/Npow+TTK9eXCnkYxUwzzZQwcnaNuhfG9VIhj+3zWWaZpWOQ4UbxPIdgLgMavu9lmJIeWNjxub26yPkoNovi862sQ7777rsdNHE8vczZu0aLBoOydNrGX+ipwox7iY/Q6+Nz3I17D6gPFNooPov+3LZMvLKTDqEZ6BFHHNHR9qgX3CqrrJK8Z+JVx4Wus7I+JDSGENDdeqnKY4SWKm1c4vj67Oiwd8yKeaRLLrkkqTcuh8HZR//FPA2mLmhrWea6QpWdvIuEC76LcxcOuMgbQRkHPXKiiTs8WHDIcyHqnrR921oeHfb7tie7Tcf6KmWv075924SN4TrrrNPBo2i7LDrBb0O5bvUn6GtaJ3YZmaDZ9m7BQv64yLnOXTI+dRJ63PHJs0pb9EkvRD34KhqpMx+apG7blsN6IQdXmSi78q2MB4KX+N2SXyR98av2uxBtre2xo4pC/s4770z5Dvzn6aefFqgS37ef+PaRkPwnlLzRUeCcH91QyIeWrdtuZzlQdbz25f0hZL6QMm9HIawf559/fkd/oc/U2UTnq5Bvyn9CKSMFgqr8U+Lh14nrw1eaYhSSJ9nltZ+7MU77YCM01MHet+92a/4QSs4I1Qd88QDzoroJzffJr402TD69cn2nkH/11Vc7LgLhll7X9VIh714+uPbaa7vkdfzmYhOZgOIfcsghHd/zfjz88MOJXV7sZNvxy/JrQyEPzaLIhTZ2jOZNQKR8tqBH+A8++EA+VfLbxl+Iq8qMe4WP0OvjY2ud+sN+t49tZ9JcbrnlOtojCtQiF5qBsquSi4GkT3D/Asop2hQLZUUK0CI6+RayznwHtRACelMeI7hUbeMSz9dfa6210nrD7Bg7yzldQ12imMedeeaZaRjqlMsgMXfDLmOELdeFKjvpFgkXbr6YJGCxWNohtE4//fTJb8wmjR49usPkjhuf3yHqnnR82xphy1ybk90QY32Vstdp31XaBNiefvrpSRvArJSrmN99993L4K/0vRv9KUSdZBWCS4DdS6XpO1mLbFnx7Xc+dRJ63PHJs0pbLEsvVD34KhrBt4wmuw7alsN6IQdXmShzEkrGgqINKt2UX+z6kWeffheqrbU5dlC+Kgr5Cy64IK0fLpZ3T9r59hPfPhKa/4SQN6RNFPn2PI327F5ObMetMp6GlK3bbmd2mfOefXl/CJkvpMybVx7m55yAFp6Gjxxum5HMi2u/91HIh+A/oZSRNu08+/BPN478rhK3jK+EwCg0T5Jy2n43xukybOz85bkK9r59twq/Ezp8aA8lZ4TqA754UMay8oXk++TXRhsmn1654Ar5eeedt7AsZRVoX77Dcecsu2W9UsjfdtttiWJIBqkpppgi2VGcVWBsHWPrDQUhAqDEYVArU17zHaGeXaSUn2NpEp+0YM55LrRCPq8+V1tttZQmaCuzbb/rrrum4dktWMf1An+hsyoz7gU+QquPT7uSCzcQEn2de7krdU87z3PdYKC77bZb2pbIX9r8vvvum0eG1/uQdWYPanl9CKJCCOhNeYyAU7WNSzxfn2Piwsfw4W/4XNYrCylMAG1F9zLLLJOEYZdtlgtVdtIuG5vs/G+88cZkJzxKxiOPPDK5sBKlDP0jz3yZHZ/nEHVPOr5tjbBlrs3JboixvkrZ67TvKm2CBSPaLosz7BRicoJZLWnzvP/DH/5QVgXe37vRn0LUCZOhrEswWfSVPi+YLLDAAt7llYA+dRJ63PHJs0pbLEsvRD2Al6+ikbBlNBEG1ws5rBdycJWJst2uyzbNdEt+qdvvQrW1NscO2mEVhfxhhx2W8uHFFluM6B3Ot5/49pHQ/CeEvNFR4Jwf3VLIh5St225nOVB1vPbl/SFkvpAyb0chnB/c9SLjtPjIulWcj0I+BP/xUUZi3lTKgY+ZMdvV5Z+k0SQu8cv4SgiMQvMk6HZdN8bpMmyaYu/bd7s1fwglZ4ToA9SnLx6ELaubkHyf/Npow+TTKxdEIY/dZmF0mJopcmUVyCV4khYK76ydu7KrknB5F4r6CljQWkYTYVgx5kIyoQ3/7LPP5lOmQ+gT+8H2rdPEW2GFFTLLRUIMGpjfQAmP+RAc4e182X2Z52z88pRYeXHlvU99YqrEpgmlaJHjeLqEx558VddL/KG1KjPuBj51jvfn4Xz55Zen9fHUU0/lBRvwnp1FLBZJXeJjDzjPdYOBovBkF7JNA8/Y22ziQtaZTx+CVltAn3TSSXPJt+2SL7TQQgPCNeUxJFi1jQ8gouQFbce+A0Dqj8vubLfNNtsMqFvZQW+Hk+cQZSctn3GAcNdee22yyIripYkZklB179vWoL3MtTnZtcequmN9lbLXad++bYJJ8rLLLpu0WxafxbmmLBZccMEBdw5I2Kp+N/pTiDphoYATLXkbB3bZZZe0f08zzTRVi+3VT0OPOz7toEpbLEsvRD0ArMrBJjGZVLmRxRF8J8ooIejXjGe0+/vuu68wu27JL3X7Xai21ubYAcBVFPLMx0TewByH63z7SVm/lXRD8p9Q8obQVuS7CvmiOUeV8TSkbN12OyvCS7758v5QMl8omVfoz/Mxxyj9Bp9Nkpxa9XU+CvkQ/GfbbbdN6WQeJRt8bDqZ59plcRcX6vJP8mgSl/hlfCUERiF5EjTnudD6qjJsmmLv23er8DvBpox2woWSM0L0AejxxYOwZeULyffJr602TF69cEEU8vbuEC7fsy/rwp6xrVSX3awwRrEbbBd8kUUW6WCaXBxlu/vvv79jxzh2erMcSkJhvhy9KnJlNBEX2+2SHj7HxfPcuHHjEsFcLiW86KKLOuISH/pcW8+PPPJIJIyXyzbF2cpT4qKsd3Eh7OOPP95hp7nO7jPS8alPlAHsbLUxkYsaScN2tl0xJi7Erep6iT+0urfFv/baa4VFCInPW2+9lbQ3JnvU6dixYwvzLvv42WefRdLPWCip6vbaa6+Oesc2uGuTU9Jk9dpuI7SFLIeJBwkntsOzwsk7+8QF8VCGNXUh68ynD0GvHQ4c89yaa66Z4sOubNc15TGkV7WNuzT4/MZEhdQzPgu47qWoY8aM6QiDKRh7DHHzCVF20vQZB1j0kcUgJq8oY+q6UHVvp1M2/pbR+sYbb3Rgf/zxx2dGcS90vPXWWzPDYaLNrm8uNhQnPEi+u2Oaz1hfpex12rdPm6A8TO4oBya05KJpKadrQ50L00K50P0pRJ0wQQIL7GVnOU5USZ0zeavqfOok9Ljjk2eVtliWXoh6AFeVg00iM1VtY4T3nShjTkTa8w477OCVVTfkl7r9LlRba3PsAGRXIY/pwix39913p/WDIjNrzPbtJ2X9VvIPxX9CyhtCW5HvXhZedNqvyngaUrZuu50V4SXffHm/Ha7X8r7QXuS/+OKLqSlG4XGYoeACTR8ncpHEzbrUNQT/GR1vUpQ88N0NPOik2EBjh3FNCNbln+DQJC7xy/hKCIxC8SToLXKh9VVl2DTF3u6TRfOnKvxO8CmjnXCh5IwQfQB6fPEgbFn5QvJ98murDZNXL1wQhbzLdBE2USKyO2zCCSdMmTeCkL27lmdXONppp506mCbKdBQuMFhWbugwNlNlZx3fYa4333xziqF9OSArpighs5wPTffcc09yDF3yJc+8G8dFeUpYLhLCsVqLIlXi2z7mW9jlL4p4vrHqZCsuiL/EEkt0xMd0DccwUeKzY4CVqBlmmKEjDGlh8gEFQBXbb771yQKAbV4CG94uLm+//XZaNurujjvuyKqGwne9xh/i7CNj4ApNZS4UPu6ulaLFoDKa+G5fErX++uv7ROkIc/XVVw9oZ9hLznInnXRSR1hseboOZatt2iHL3IEbhwURuTyT+uBS2hAuVJ359iF75zvlQADOcvPPP3+KI7tUXH7WlMeQZ502nkVr0TvMerCwRFn5c4+NSly7vHvvvbe8zvRDlN1nHCDz/fffP6Ud+mmDLCZxqgnBion99ttvH7Ggyv0nmC3Jc6Hq3ret5dFhv3/00Uc7ypd3iTinw6QO8bGdnuXchVTuRhEXYqyvUvaq7du3TWCGRszSsYPDddh8RQYRvDBdg0m7EC50fwpRJzJBmmyyyZL7Pdxy2rtc8vq/G0d++9ZJyHHHN0/ftuiTXoh6ADOVg/8zztSRg+2JMv03S+HL5gjMUNK3masgi/u4bsgvdftdqLbW5tgBxq5CHoWbezcV/JF6oX7g0TInc+vIp5/49FtJNxT/CSlvCG1Fvn1SAMyK5jlVx9NQsnXb7awIL/nmy/tDyXwhZF6hvcxnTmKfMBE5BjkXfUeeu+uuuwaciEXZ57oQ/OeGG25I5SvoQy/BvJnTJYceemhyL+EEE0zQEYZ7rNjB/+CDDyYk1eWfRG4S14evhMAoFE9y68/9HVJf5YNNE+yh3bfvVuV3PrSTfyg5I0QfqIKHb/lC8X1oa6sNk1cvXBCF/HPPPdehsBaGjY9yng4KU3d31vJ9v/32S5S4VC7ulltuyU2L8Civd9555w7GynsmucQlH1dQEzr4Bi04X5pQZGMDmjTkj9/sTJO/ffbZJ1HCoChFWS/hwEUcOx3EZrd8z/KZOGRdpPP6669HtpIqKy4mdTgCbn9jEEJQZVeBryurTzsddkbaZihYYGCSzS5XFmRkZReh+N5777Wjej33Gn8UaiibbIUx+LLTBoGj6EgnBQyBj2vCY/nll/fCzg2EYohVXlswYZKCgh6mWeYwoUS92nc42G1tu+22ix544IEkGRTGnJhw2ywLT4899liqUKZduzZVSRNBiVu6i5wcrWKyXFYPRem430LUWVkfomwsTtiLCpSbI6KcNhB+SPtDoLRx5pkFSDFpJfTX5TFN27jk7+uLXTkWFvLqGLNWlBPl/fPPP1+adN2y+44DQoCriHbrJes3x5SlPkkndN2XtTWhvcgHB/iDexEppxOYsMgJBXx+L7rooh1tktNSnH6RcIxhKF65MNrGZKONNkrygZYmYz19FOdT9qrt27dNYK6I3UByme90003XcTowITD+x50w7oSWUxbwOF8FnqSV5YfsTyHqRCZI1DuyARiBFWWl/3CKgG9cEO4uLGaVj3e+dRJy3PHNU2gua4tV0mtSDyoHh5GDTzzxxA7exc7QLbbYIuL9Oeeck5yalQ0pbGyo2pdDyy91+12TtgYfpl23PXbQ57LmeZy4O+igg5K7XJiX8RteA492lcuMyT7zxSr9NiT/oYwh5A3SKXLggHkx5mty+k/GbOR1cLNPvVcdT+28m8jWvWpnNv15z2W8P7TMBx11Zd68MhS959Qf+g53vkI7YW6PUpEduijBmc+58iFzTvQ2WQr8pvwHumnDtiljab/i066RQ9yL5dkkKIsEdfkn+deJW4WvNMGIjardnouDge2a6qtYsPbVGdbB3qa1rO9W5XdV6hU6QskZIfoA9JThUbV8pNmE7xM/9LhKmv3ogijkKRjCkb3zEcU0SiMaSZYCXRil+PZOKS7GY2e9fMPHbjI74XHYAmPyK99RyHEBiXukRL7bPvZLcb40ueYT7LTKnl37wuwW33zzzQcod0ln5plnTgQiGnueg8mh3Jl88snTshOXo28c/YZxMChRD0x2WU0qu0A2L6+i+nTjkAer5S5d0MYpCBTKlL2O6yX+nFIoq2O+P/HEE4VFa4oPzIw6lrrmNEQdt9VWW+WWhz5U5ph0luGBgINSLkvJbseFFpTo7okXOwztqchJHuzqCe2a1hn0FPUh2VVnl9d+xq66a/PQ/i7PHAmzXVUeE6qN2zSUPcsJC3Z/5TkEMhaL8kySZcWrWnbS8B0H7PyOPfbY0n4g9SM+kxVx3aj7orYm+Rb5ZTgw3uJs00lSNttH8YxzF+LsMDwzjuHqjvVJ5P/+Kyp7nfZdhgX0I6/Y9mClfIy9tu10ZADh3RLG9tdbbz27KLWeQ/enpnXCBIkJMMdZ2SVPedkwwR/P8HxkQ9e0T1HhfetExgQbY/u5yrjjm6dNd1FbrJpe3XpQOTicHMwFtuuuu25iO9luRzwzPmF2070DxW4PRc/SVkPJL036Xd22RvnK2nW3xg76ml0nLOK7CmU20sBjs043+PaTsvJBg8xfpU5tuuznKvxH2k5TeUPSyfOzNnzYNMvzKaeckpzclt9FftGcqK5sXVYP3Wpnebi574t4fzdkPvKvI/O6dFf5jY6BTZSy0a6oDTD2s1ng5JNPLtVDNOE/Qj/tSjYn2HSxyVHuSUMhD9+GJ6BPsheamvDPOnHL2jNlEL5CGeti1A2eJJgX+U30VVWwqYO9S3de32VDqN2W8p5tfleFdqEjlJzRtA8IPXl41NHnSpp1+T7xe9WGhfa2/BFkFDeyIG7cuHEmXokzsekUE0/GTDwRrZ1urKwzsa1Rgx8fJzTxYNuRVrxiYuJVQxOvvCZ5xQrFju/9/CNu1CbeZWjinbAm3kFoYnM2JlbIm3gy70U2mMTH9kxsHsbEO0BMbAfcSPnBJN6taGIBwCutokBV6zNWfqR0xZNuE09WEvqK8ujFt6b416W5CT7xhMLcfvvtJjZnlLSVujQMpXjxSRUT38OQ4LLiiit2pWhN6gyCqvahUIXoVRv3oZ8hJ94VYLbccsuUb2XFi02+mPgkiomF6KzPue+6WXZ4b7yz0dx0000mNpOU8Ld4kmLinT8mPi5vYgWsiRWNyXNsf9XE5kxMvHMy4fGx0JZLc4gPvWprTWkPMdYP1rI3xY743ehPTeqEfhCfkEjkQPpifMLFxLv5TDz5NfFuOhNP5k08WQ9R9L5MI2RbbFIPfQmORVRTPg02bcjBQnKsYEhkduTuOeec08SLjyZW7sjnyn5o+aVpvxtsbS2+o8LEu+BT3OO7aAzyWnza08QXT5p4E1fy5zuvShPqowfqpF/ljaYwNZWtm+bfjfgheX8V+pry0ip5SVjmpE8++aTBR9ZFDkGfga4mtgaQyLzxIrwEL/VD8Z9Y+Z7QhQ4C3Qg6EnGx4tPEJlFNvFAnr1K/Cf9sEjclwOMhFEYeWQULAs3dHKdDYd+rvusCHULOqNsHbFq6hcdQ5Ps2bk2egyrkmxCicRUBRUAR8EUgNhdk4lMhyYQrNoHjG03DKQK1EUCwjHfbGBTr8Q4CE9u2L00r3mFh4uO8Jj42migpYxMHpXE0gCKgCCgCisDQRUDll+Z1m6WQb7JA0pyisCmovBEWT01NEVAEFAFFQBHoVwRUId+vNaN0KQKKQC4C8b0IJr6wx8R2mE1suz43nH5QBEIhEF/Yai688EITH4s3sU1Q792RO+ywgznvvPOS015NTo2FKoemowgoAoqAItA7BFR+aY79UFfIq7zRvI1oCoqAIqAIKAKKwGBAQBXyg6GWlEZFYBgjgMmD+LJiE18CmqBw5plnmvheAhNfspaYbZp44omHMTpa9DYQiC/FTs2mcRQ2tnGftL+yvMeOHWtWWmklE9usNPHl0GXB9bsioAgoAorAEEJA5ZfuVOZQVsirvNGdNqOpKgKKgCKgCCgC/YiAKuT7sVaUJkVAEUgQkF1C2AHlbgRsEMeX3Jr48mNz3HHHmVGjRilSikDXEcAGNu1PHHawUbBzT0aWe/HFF5Pd9AcddJCZfvrpzT333NNhyzIrjr5TBBQBRUARGDoIqPzSvbo85JBDTHzBZJoBd1TIpo305SB9UHljkFackq0IKAKKgCKgCNRAQBXyNUDTKIqAItB9BOJbuZNdyVn3TnNp9L333muqXBrUfYo1h6GKAG2Qy6C4nMh2s88+e3K5H5dZsUjEznmU8eyMxy299NLm3HPPTS4BtOPpsyKgCCgCisDQRUDll+7W7bbbbptcrC65PPDAA2aJJZaQn4PaV3ljUFefEq8IKAKKgCKgCFRCQBXyleDSwIqAItAWAig4Z5ppJsOt47abc845zY033qhKThsUfe46Ai+//LLZddddzSWXXFKa10ILLWQOPfRQs+6665aG1QCKgCKgCCgCQwsBlV+6U58PPvhgckpy9OjR5uOPP04zYcF8n332MSySL7DAAmaSSSZJvw3GB5U3BmOtKc2KgCKgCCgCikB1BFQhXx0zjaEIKAItIfDQQw+ZY489NlHAcxx55ZVXNocffriX/e6WSNRshhkC9913n7nooovM008/nfyxE5JFIpQA/C222GJmzTXX1NMbw6xdaHEVAUVAEbARUPnFRqP58yeffGJmmGGGwoS44+Xuu+828847b2G4wfJR5Y3BUlNKpyKgCCgCioAiUA8BVcjXw01jKQKKgCKgCCgCioAioAgoAoqAIqAIKAKKgCKgCCgCioAioAgoApUQUIV8Jbg0sCKgCCgCikC/IfD555+b559/3rzwwgtmxhlnNLPNNpuZdNJJ+41MpUcRUAQUAUVAEVAEFAFFQBFQBBQBRUARUAQUAaMKeW0EioAioAgoAoMSgQ8//NAcfPDB5vjjjzc8i5tgggnMRhttZH7+85+b+eefX16rrwgoAoqAIqAIKAKKgCKgCCgCioAioAgoAopAzxFQhXzPq0AJUAQUAUVAEaiKABe6LbPMMuatt94yhxxySHK/wJe+9CVz1113mZ133tm89NJLZuqpp04ugFt00UWrJq/hFQFFQBFQBBQBRUARUAQUAUVAEVAEFAFFQBHoCgKqkO8KrJqoIqAIKAKKQDcR2GOPPcxvf/tb89hjj5npp5++I6vXXnvNzDfffOadd94x00wzjXn55ZfNhBNO2BFGfygCioAioAgoAoqAIqAIKAKKgCKgCCgCioAi0AsEVCHfC9Q1T0VAEVAEFIFGCMw999zmueeeM7vssos59thjB6R1wAEHmAMPPDB5f+uttyY76AcE0heKgCKgCCgCioAioAgoAoqAIqAIKAKKgCKgCLSMwKBQyL/77rvm/vvvN+x6nHXWWc3iiy9uJp988pah0uwUgWYIPPzww+bNN980q622WrOEBlnsDz74wNx+++3JZZtLLLHEIKNeye1HBD777DMz0UQTmX//+99mqqmmSszWuHRee+21Zu21105e77fffuaggw5yg+hvRUARUAQUAUVAEVAEFAFFQBFQBBQBRUARUARaR6CvFfJXXXVVcinfE088YT7//PMUnJEjR5rDDjvM7LTTTuk7fegPBKIoMjfddJO5/PLLzQsvvGBQxs4222zJ7tRNNtkkUaL1B6XdpwIb13fffbe54YYbzBVXXGH+8pe/mDXWWMNcf/313c+8T3IAgznmmMO88sorCUXHHXecGTVqVJ9QNzTI6EWf60ae8Iqf/vSnyeWsmKIpc5tvvrn53e9+ZzBdgw151/Ft4403Tl6zW3706NFuEP2tCCgCioAioAgoAoqAIqAIKAKKgCKgCCgCikDrCPStQv788883W265pZlrrrnMmWeeaZ5//nmzzTbbmE8++SQFCYXvV77ylfS3PvQWgXHjxpnvfOc7ZuzYsclliijgsdt85ZVXJvU33XTTmQsvvHBYmI548MEHzXLLLWc++uijjkr51re+Za677rqOd0P5BwsR6623XlrEZZddNlmkSF/oQyMEetHnQufJLncW8XbbbTfz1FNPmUkmmSRZyPMBhoXa8cYbLzPoj370I3PCCSck32655RazyiqrZIbTl4qAIqAIKAKKgCKgCCgCioAioAgoAoqAIqAItIlAXyrk2VW8wgorGHZhnnLKKWb77bdPMDnrrLPM1ltvnTyPGDHC/PWvf1WFfJutpSCvp59+OlFAv/HGG4nii9MNKNZwKNz23ntvc/TRR5svfOELya7W9ddfvyC1ofFpzJgxifL5Zz/7WXrCY7gp5B966CFjm6lhN/NRRx01NCq4x6XoRZ8Lleevf/3rxHzTM888Y+644w7z6quvpmhOPPHEyS759EWNB9Kbc845k3TWWWcdAz9SpwgoAoqAIqAIKAKKgCKgCCgCioAioAgoAopAPyDQlwp5zAxgbgD3yCOPmEUXXTTF6phjjjGXXXaZYfc1OyDV9R4BFk5WXHFFc9ddd5nZZ589qbMsG/8o4TFlM/XUUxvMEE0//fS9J74FChZaaKGkvGQ13BTylJkTLhdffLFZcsklk13Q1L+6Zgj0os+FzHPSSSdNlOX47Fyfb7750oWapgp5FgC5p4F7C6acckrDaRX4kjpFQBFQBBQBRUARUAQUAUVAEVAEFAFFQBFQBPoBgb5TyL/11lvJ5Y+ffvppgg8maiaYYIJ+wEppyEHgggsuMN/73veSr/vvv7858MADM0OisOfkA26rrbZKFLWZAYfYy2984xvmD3/4Q1Kq4aiQH2LV2RfF6UWfC5nniy++mNwnMc000yQmZ1igY+EK11Qhv+eee5pf/OIXZpZZZknub1hggQX6os6UCEVAEVAEFAFFQBFQBBQBRUARUAQUAUVAEVAEQKDvFPK33nqrWXXVVdPa+eyzzxIzJ+kLfeg7BLAbj5143GOPPZYq1lxC2WE766yzmpdeesmwMxazEl/60pfcYEPu99JLL23uv//+pFyqkB9y1duTAvWiz3Uzz1AKeRYEDz744ORU1TXXXGNmnnnmntSPZqoIKAKKgCKgCCgCioAioAgoAoqAIqAIKAKKQB4CfaeQP/vss5Pd00KwKuQFif70OcmACZJ//vOfZuTIkeadd94pJPSb3/xmcoEjgbjgFdNDQ92pQn6o13C75etFn+t2niEU8vvuu6857LDDDCbPMJMkd1i0WzuamyKgCCgCioAioAgoAoqAIqAIKAKKgCKgCCgCxQh0TSH/+eefGy7se/fdd81MM82U/HGhZ5k74YQTOmzDh1TIs3ubHdq2fXN2a7/88stm7rnnNphPyHPvv/9+Ygd8jjnmMNNOO21esNz3XHb67LPPJnnMM888ueGyPpD3uHHjEqU3eUOrj8OW8sMPP2wWW2wxM/744ydRPvzww4QOcF1wwQUTsxE+aeWFufPOOxP78Xyfa665krTzwvJ+iy22MOecc04SZNSoUea4444rCl76rd+w+eCDD/6/vTuNlaJo+zA+kCjGBAU3FhVRPogbKIJGFFAMRAViYsSFCImCgCJxQwUjLhGUoKLhAwhC0BgVERUUxS2CLMYIqOAScFcEFFHihkpi6q1/56l+q/t0z5wz09PnwFyVYM9M13RV/br7mNxdc1fhk08+Ca53pcxQacoB+XL99GsHd201b948WLRW1/fOnTsLXbp0SQyG6trTQsz1SSFSbr+qdc0rddZnn30W/FpH92+LFi1KXpt+hUruf/84et0Y91y126w0IK9Fo7VY8KRJkwpaRNkvQ4YMCWbM33bbbf7HvEYAAQQQQAABBBBAAAEEEEAAAQQaR8AG1jIrdhalsTMUTc+ePY1NSWLsiMJ/dnE9M2LECGODdnXamzNnjunYsWPwT/X873Xo0CHcpzqzZs2q8/1iH9hFYc1dd91lbBA7OO7SpUuD6jY1junRo0fYlg0qml69eplFixaFh7PBRWODO+a0004zNqAd1rUBbvP111+H9dJebN++PRhzu3btwu9qbIcffri55pprjH1YkfbVYN9DDz1k7AOAyHf1fX1m87QbG3ys830baDc2eGbGjh1r7KKpwXe3bt1q/vnnH2ODVsY+jAiPpzHZALmxgdI6x6nvBzZFRHg8myu95NduueWWsL68yylya0o2uu5tINBo/Ha9g3B89gGPmTlzZnD9uGvapqxp0JAffPDByPXv7hO31TXqF7u4bp36EyZM8KuUfW3pIPbhVXCPd+rUKRin2reBaqN7wo3RLqBpdM2pyObVV181do2B4G9C7969g8+T/tPUzqt9qGj0t6lbt25m3333DcdnHywa+zDLPPXUU0Z10kol93/aMfV5Y9xz1W7TPsQKfW0O+WLDr7Nv3Lhxxj4gMXbh4Dr79IFNW2PsjPnEfXyIAAIIIIAAAggggAACCCCAAAII5C1QyKpBBeW6d+8eBFVsXvAg+Dt//nxj0wiYY489Ngy22DQCZsaMGZFmX3jhBWNTmQT//LoK8Nl88uE+1XniiSci3017Y9OhBIEYFyR024ULFxq7oGjYH/e52yqgumbNGrNy5UpjZ/an1tM+m6YlrXljF0A0Bx10kGnWrFnQ/zFjxpiBAwcG711bGuvGjRvrHEPBzM6dOwdt2zQwZsqUKWb16tXm4YcfjlgOHTo08l0729zY9DF1+mwXFDV21nKdz10/Bg0aFDlOQ96MHDkyPG59gs33339/WN/OlG5IU0HdpmZjFyE2ffv2Dcaka1sPQnTtTZ8+3Sgw7Yzdtj5GPsqOHTuM/dVI5IGQjnXmmWeaVatW1XkoowdQl1xySdiuAuEKortSrp8eLOgBiq5nNxZt165dGz748T/XA4rrrrvO2F90ROqnBeTL7Ve1rnn9PZOxxqQx2F9zGJtOy0ycONEoIO/Geu6555p///3X8YbbSu7/8CApL/K+59SNardZbkD+xhtvDM7FBRdcYPS3xf3Tg2E9tBw2bFiw367hkKLJxwgggAACCCD9Cl6XAAAWgUlEQVSAAAIIIIAAAggggEC+ApkE5DXrXcFIBanatm1rFBT0i03jEQa3XCDrscce86uErzXz2dXRtljQO/xSwgubTiOYneyCav4x9fryyy83emCwbt06c/fdd0faVCBVszQ1w1lBHc2mV+Bx+PDhkXppY1AAXLPP99tvv+C7fvdefvnlyDE0+zY+y/acc84J6yjg6Jd333033Kdx6OGBK3qIIL94IFhj0YMGzcpfsGCBUb8PO+yw1OO449Vna3PAh8epT2DfppUI6+uXAg0tTclGwXI3U7xly5ZmxYoVkeHo2tWvRfxrr6EBeXfAG264IXKc0aNHu111tpqRrjZ1L+re80u5frpfNPveH4te61rTgyf/uPpcDybsIqBGD13876QF5P3vN/Y1r/Nq0w0F/e7atav57rvvfEJz1VVXRcY0efLkyP5K7//IwRLe5H3PqQvVbrOcgHz8nvCvs/jrYr9GSiDmIwQQQAABBBBAAAEEEEAAAQQQQKBqApkE5Pv37x8GqGbPnp3YWbvYp7G5l8N6SgGxfv36OnWzCsi7A/uBHgVplD5Gget40ex1P4ijYKa+Gy82T3pYT7Nj40VBWFdHaR6SyoABA8JjqE3NqHbl119/jczA1Uxrvyh476fASWpDAXd/LKrvB+51vOXLl0fq6MFDOUUzU11bCsCWKv751S8pGlKams31118fjl0zyJOKHlY5H23LDchrJr6fBkppOJSeKKloNrfaigeKs/DzA7NqQ33atGlT0I0lS5YEvwZRMN7mgA8+U1olP01SUkA+i35ldc3r/nJ/C/RAbcuWLXWIFXD3z2m/fv3COpXe/+GBirzI855z3ah2m/7f6fqkrFEqJP+XCv75iL/WvUJBAAEEEEAAAQQQQAABBBBAAAEEmopAxQF55e11ARDNKE9K3+AGq9Qbrq62yl8eL37AVnXKnSHvjmsXU4y0qeMnlUcffTRS77XXXkuqZjQz2Y1Bgfd48VOypOWZj7d10UUXhYdR4FUBKddGUooepe5x+zXrPV7is/CXLVsWrxK899OJKI1POeWss84K++KPI+1YjzzySFhf6U+S8uCnfbcp2Xz55ZdhXvFWrVqFAeikvvvrAJQbkNdx4zOCdZ7jRWsFKG2RHnjp2vdLFn733ntveP50Dc6dO9dvIvG1v1ZDUkA+i35ldc0/+eST4fj0wCWt+DP69QsbVyq9/91xim3zvOdcP6rdZkMD8q5fbBFAAAEEEEAAAQQQQAABBBBAAIE9TaDigPzFF18cBrD69OlTdPyaJe9S2yiYpxmov//+e+Q7WQfkNfvWBa+1jc84d40vXrw4Uk8525PKHXfcEdZLmuHt/1rA5cWPb90Cs65fWqDTL1q4VqkylHdeAdZ4UV59913NWI4Xl7LE1Xn//ffjVYL3/kKcmgFbTvFTstQnID9t2rSw71qIsSEBefWvqdhcffXV4TiGDBlSlE6LvbpzUUlA/ttvv43MCk5KEaSURGrr0ksvTexTpX5KJ+PGou22bdsS2/E/dDn2VT8pIK+6lfYrq2vez7+f9EsaNy6lQNGvIvR3Q7O1Xcni/nfHStvmfc+pH9Vuk4B82tnmcwQQQAABBBBAAAEEEEAAAQQQ2NsEKg7Iu8VHFWyLLzKahHXhhRdGAnrKze6XxgrIv/nmm5F+KVd7UvFnwGrMu3fvDqspMOenFVGgvT7/Tj/99PAYaS927dpl5s2bZ1RX7bp/gwcPrvOV+gYnswgUn3feeWFf6pOy5oEHHgjr1yc1RZ3BJXzQGDbK/e/Owe23357Qq///KAtndzT//lHKDn/BVtVx50PrHtS3NMQvHpDXQ7ZSpT4B+aRjNKRfWVzzSlfj/2qkPg8b/H5X8/7323HnWNdfXvdctdskIO+fYV4jgAACCCCAAAIIIIAAAggggMDeLFBRQF6zt7V4qQtMarZ8qeLyW7vvPPfcc5Gv7GkBeT9Fj/K0u3EpTUkWZfPmzebWW281rVu3Ns2bNzeaya6UJK6dxg7I+znFlRu/VJkyZUrY9zZt2pSqXnR/Y9kocOv/0kOpmIqVLAPyb7zxRuina8DP/S8PXSP6BYb6WKqU45dHQL6cfmURkN+wYUPENi1Hf5prNe7/pLYa456rdpsE5JPONJ8hgAACCCCAAAIIIIAAAggggMDeKFBRQF55tF1gWNv6zPT2Z0jrO/Ec6XtyQN4PClY6+3vHjh1Bvvp99tknML7iiivMV199FVyDfg75xg7Ijxo1KrwGkha5jd80yrftrhkFjsspjW2jtQHcGLTVNVusZBmQV6DdXxy5Q4cOYdofLeKq/kydOrVYd0wlftUMyFfSL//ek0FamqZi52Lp0qWR85q2BkQart+HSu//tDb0eWPcc9Vuk4B8sTPOPgQQQAABBBBAAAEEEEAAAQQQ2JsEKgrIK4+yH5g8/PDDS9oo7Yr/nXjgbE8OyGvxVH9sn3/+eUmPpAoyad++fXAs5amPLzDblALy48ePD8fcvXv3pOFEPtMitM7ojDPOiOyrz5umYKM+uDFoW2zxT42pWBC4PmOO1/EXxlX7r7zySjAjXosMazHX7du3x78Svq/Ur1oB+Ur75QfDZaLjJZVi50Jpfvzz+vrrrycdIvWzrO7/1Ab+tyPve07NVrtNAvKlzjr7EUAAAQQQQAABBBBAAAEEEEBgbxGoKCAvhIMOOigMYildhma5Fit+wF31//rrr0h1f7+CY3/88Udkf0Pf1HdR13JzyPspa7Toph/QmzRpUr26++GHHxqXs/7HH380hx12WHicZ599ts4xmlJA/umnnw77evTRR9fpa/wD5bx2Rrfddlt8d9H3TcVGucXdGLQdOHBg0X4XCwIX/WLKTuVt99cqUF75d955J+iTFiVNK1n4VSMgn0W/sgjI6xco/nm99tpr0ygjn//yyy/B+yzu/8iBU97kec+5LlS7TQLyTpotAggggAACCCCAAAIIIIAAAgjs7QIVB+T79esXCWKVyqd94403hvU1ozde9uSA/H///RfMUHZBPaUTKfWAQvv1y4KxY8cGFMoX775/4IEHJuYCb0oBeT99i9LrlMq77S9K+/bbb8dPf9H3TcVGaWOUksSdJ81KV1A5rWQdkFc7I0eODNvXOg7uPnzrrbfSuhGsReD6XO61VY2AfFM5r1qUVQvlOiOd12+++SbVUzs++uij4FrQjPws7v+ijf1vZ573nOtPtdskIO+k2SKAAAIIIIAAAggggAACCCCAwN4uUHFAXouyugCWtgo+FitKa+LqK598vMQD8r///nu8SoPe5zlDXh3r1q1bOD6Ns0+fPmb37t2Jff7zzz+N8q4ruLtly5agzmmnnRZ+v1WrVonf9YPaSQvpZjFbOLHDKR/6Y163bl1KLWO0CLBS8MhFW//XBalf8nY0JRudV3cda3vXXXd5PY2+9Pvdv3//6M4y361fvz7SvvrQqVOnxAc4rgm/H+VeW9UIyGfRr6yueS2a7J9XPehI+xv0ww8/BOa6/t0iuv69oOM09P5356rU1m8ni3tO6bXee++9cBxJ7Wfdpt9GYwfk086x30deI4AAAggggAACCCCAAAIIIIAAAlkIVByQ16xSf5FJBaE++OCDxL5pFqkLdp1wwglG342Xe+65J6yjulu3bo1XadD7n3/+OXK86dOnJ34/vqCj8kknFaWhcWPQVkFmv8yfPz+yX3WGDBli4vnkNbPWBSJvueWW8BBdunSJfF/98ouCZv7s7PPPP9/fHbxevHhx5Bhp+bRPOumksJ5m3ZdbHnvssfA4xdLQ+EHTYqlV0vrRlGxefPHFcMw6xzon8XOlcSjQ6M+6Pv7449OG1+DPzzrrrEgfpkyZUvQYWfhNmzYt0uZPP/1UtE3t9H8h0KNHjzr1s+hXVte88sb797de62/V2rVrI8Fq1TvyyCNNs2bNzMqVK8MxVXr/hwcq8SLLe27ChAnBODTWXr16hYsEx7uQZZvxY3/88ceh+3777RffXbX3Sjc0YMCAYPy6Nzds2FC1tjgwAggggAACCCCAAAIIIIAAAgggIIGKA/I6iIKObuazgjoKVGn2qF927twZBqCVYmP58uX+7vD1sGHDwsCMjrVq1apwXzkv4jOJ0xbgfPzxxyPtzpkzJ7E5fV/9cv+U/90vSluhwI7b72+Vokcz2l0gXvv69u0bCeorb7X/naOOOsooyLdw4UJz+eWXG9n5+zXTWftvvvlmozz4KjNnzozUUf7neNGs/datW4f1TjnllHiVer//+++/zYknnhgcq127dkYPQeJFLvo1gPresmVL8/3338erlHzflGw0nlNPPTX007iU4uS+++4L0pjolxn69Ujbtm0jdVSvZ8+e5o477jByq6Q888wz4bGVLqhY2hy1k4Wfn15GYyl1f2rmuFIyqa7+6bWbTe7GnkW/srrm1bf4LHnXd91rWoi4Y8eO4XjuvPNON4xgW+n9HzlYkTdZ3XP+r1bcOL/88svElrNqM+ngixYtCk3Vj0ofxCa1kfRZ/BdZCs5TEEAAAQQQQAABBBBAAAEEEEAAgWoKZBKQVwc1o1zBWBfUUfB56tSpwWKl8+bNM24WrALMq1evjoxJQTAFE1VPsyPdMbRV8FpBPy1k2ZCiwJgWWRw0aFDkeG3atDFK8eDSyGir9127do3U06x/zSx39bS4rGZ4H3rooZF6gwcPDtrx+/bFF1+Yzp07R+r5Y3KvFZiNL1qrHOBa7NbViW8V0B8zZkyd/fqOAvL6dcJxxx0X2S9DzUB1+d23b99ubrrppkgdtTN79mzz22+/+UOp92s9lHELjZ599tlGD2Bc0S8hxo0bF7SnGcVz5851uxq0bWo2coxbx8/XMcccYw455JCItYLnWgg26cFFQ0B0bbqAv67DUqUSPz1c0EMq/yGOxqo0JitWrKiT1kX3nx666BcTcZOJEycGD+xcYL6SflXjmlcqKc3kj/c7/l73YVKp5P5POl7aZ1ncc/qbcMABB4RjbdGiRdF1L7JoU+N5/vnnjR5ujhgxIpihvv/++4d9kLMWttavaEaNGmVuuOEGs2TJkjSGij4fPnx4pN3evXtXdDy+jAACCCCAAAIIIIAAAggggAACCJQSyCwgr4a0QKkWm/QDPC6IpZmxCn74gVrXucmTJ0eCIu478e2sWbPcV0puk4LW/vEU8FFJmw3r6p588slBvVKBVwWc/aJxDh06tE4AU8c94ogjgocPClomlQULFhgFxlwftNUMdM2EV9m4cWMQsHL7FQh/6aWXEoPsro62V155ZRA4jc+y9+vo3JVbFPQ/9thjg34ffPDBwUK1Og/uFwM6tmbCVlKamo2C8jr38WteaWqUP3zbtm1GOf/1IELpQDSTu9RCvw3xUboRnb9SM9XdMcvxU/DUv0bSXn/66aeumcSHRvHv6YGdK+X0q5rX/K5du4xSAMUfQGgM+lughwjFSiX3f7Hjxvdlcc/pFzR6UNq+fXszY8aMeBN13mfRpn4toyC8/k7oIana1v8j3D893NXn8tffwvHjx9fpRxYf6EGySymlrR48URBAAAEEEEAAAQQQQAABBBBAAIFqCjTTwW2QKdNi0yAUbKqYgk1bU7DB34KdbVqwAZdM29hTDmZnARfsDPzCpk2bCnZ2fcEGpws2IF+wAdqiQ7CLDBbWrFlT0PbMM88s2AcIkfp2ZmvBBgULdrZ1weboLtigfGR/Y71Rv2w+74INlhbsTGE98CnYIFvBBuAKl112WcEG2CruWlO0UZ/cNa9r3S5eHJ4TnSf7i4tChw4dKh57/AA2uF+w6YwKo0ePju9Kfd8U/dTZptgvm6YluHd1Ldu0XAX7gK5gg8WptvEd5d7/8eMUe5/HPRdvvzHajPchq/ebN28uLFu2rGDThwV/m7M6LsdBAAEEEEAAAQQQQAABBBBAAAEEkgSqEpBPaojPEEAAAQQQQAABBBBAAAEEEEAAAQQQQAABBBCoZQEC8rV89hk7AggggAACCCCAAAIIIIAAAggggAACCCCAQG4CBORzo6YhBBBAAAEEEEAAAQQQQAABBBBAAAEEEEAAgVoWICBfy2efsSOAAAIIIIAAAggggAACCCCAAAIIIIAAAgjkJkBAPjdqGkIAAQQQQAABBBBAAAEEEEAAAQQQQAABBBCoZQEC8rV89hk7AggggAACCCCAAAIIIIAAAggggAACCCCAQG4CBORzo6YhBBBAAAEEEEAAAQQQQAABBBBAAAEEEEAAgVoWICBfy2efsSOAAAIIIIAAAggggAACCCCAAAIIIIAAAgjkJkBAPjdqGkIAAQQQQAABBBBAAAEEEEAAAQQQQAABBBCoZQEC8rV89hk7AggggAACCCCAAAIIIIAAAggggAACCCCAQG4CBORzo6YhBBBAAAEEEEAAAQQQQAABBBBAAAEEEEAAgVoWICBfy2efsSOAAAIIIIAAAggggAACCCCAAAIIIIAAAgjkJkBAPjdqGkIAAQQQQAABBBBAAAEEEEAAAQQQQAABBBCoZQEC8rV89hk7AggggAACCCCAAAIIIIAAAggggAACCCCAQG4CBORzo6YhBBBAAAEEEEAAAQQQQAABBBBAAAEEEEAAgVoWICBfy2efsSOAAAIIIIAAAggggAACCCCAAAIIIIAAAgjkJkBAPjdqGkIAAQQQQAABBBBAAAEEEEAAAQQQQAABBBCoZQEC8rV89hk7AggggAACCCCAAAIIIIAAAggggAACCCCAQG4CBORzo6YhBBBAAAEEEEAAAQQQQAABBBBAAAEEEEAAgVoWICBfy2efsSOAAAIIIIAAAggggAACCCCAAAIIIIAAAgjkJkBAPjdqGkIAAQQQQAABBBBAAAEEEEAAAQQQQAABBBCoZQEC8rV89hk7AggggAACCCCAAAIIIIAAAggggAACCCCAQG4CBORzo6YhBBBAAAEEEEAAAQQQQAABBBBAAAEEEEAAgVoWICBfy2efsSOAAAIIIIAAAggggAACCCCAAAIIIIAAAgjkJkBAPjdqGkIAAQQQQAABBBBAAAEEEEAAAQQQQAABBBCoZQEC8rV89hk7AggggAACCCCAAAIIIIAAAggggAACCCCAQG4CBORzo6YhBBBAAAEEEEAAAQQQQAABBBBAAAEEEEAAgVoWICBfy2efsSOAAAIIIIAAAggggAACCCCAAAIIIIAAAgjkJkBAPjdqGkIAAQQQQAABBBBAAAEEEEAAAQQQQAABBBCoZQEC8rV89hk7AggggAACCCCAAAIIIIAAAggggAACCCCAQG4CBORzo6YhBBBAAAEEEEAAAQQQQAABBBBAAAEEEEAAgVoWICBfy2efsSOAAAIIIIAAAggggAACCCCAAAIIIIAAAgjkJkBAPjdqGkIAAQQQQAABBBBAAAEEEEAAAQQQQAABBBCoZQEC8rV89hk7AggggAACCCCAAAIIIIAAAggggAACCCCAQG4CBORzo6YhBBBAAAEEEEAAAQQQQAABBBBAAAEEEEAAgVoWICBfy2efsSOAAAIIIIAAAggggAACCCCAAAIIIIAAAgjkJkBAPjdqGkIAAQQQQAABBBBAAAEEEEAAAQQQQAABBBCoZQEC8rV89hk7AggggAACCCCAAAIIIIAAAggggAACCCCAQG4CBORzo6YhBBBAAAEEEEAAAQQQQAABBBBAAAEEEEAAgVoW+D/z6etZtZMYHgAAAABJRU5ErkJggg==)"
      ],
      "metadata": {
        "id": "6J--MSeNANrG"
      }
    },
    {
      "cell_type": "code",
      "source": [
        "def weights(model):\n",
        "    for n, p in model.named_parameters():\n",
        "        if 'weight' in n:\n",
        "            nn.init.normal_(p.data, mean=0, std=0.01)\n",
        "        else:\n",
        "            nn.init.constant_(p.data, 0)\n",
        "model.apply(weights);"
      ],
      "metadata": {
        "id": "-QBVDngbwBB7"
      },
      "execution_count": null,
      "outputs": []
    },
    {
      "cell_type": "code",
      "source": [
        "def parameters(model):\n",
        "    return sum(p.numel() for p in model.parameters() if p.requires_grad)\n",
        "print(f'The model has {parameters(model):,} trainable parameters')"
      ],
      "metadata": {
        "colab": {
          "base_uri": "https://localhost:8080/"
        },
        "id": "KM9LpDjlwXM_",
        "outputId": "8dbf47ca-0f89-42d6-d0c7-5da708f50eb1"
      },
      "execution_count": null,
      "outputs": [
        {
          "output_type": "stream",
          "name": "stdout",
          "text": [
            "The model has 20,518,917 trainable parameters\n"
          ]
        }
      ]
    },
    {
      "cell_type": "markdown",
      "source": [
        "Here I defined the optimizer, i.e., \"ADAM\", and the loss function, i.e., \"CrossEntropyLoss\". In particular, by setting the \"ignore_index\" parameter to \"en_pad_idx\", it calculates the avg. loss per token ignoring the loss on \"pad\" tokens"
      ],
      "metadata": {
        "id": "-tpJVoeFAipx"
      }
    },
    {
      "cell_type": "code",
      "source": [
        "optimizer = optim.Adam(model.parameters())\n",
        "en_pad_idx = EN.vocab.stoi[EN.pad_token]\n",
        "loss_function = nn.CrossEntropyLoss(ignore_index = en_pad_idx)"
      ],
      "metadata": {
        "id": "HVkzWni8wclD"
      },
      "execution_count": null,
      "outputs": []
    },
    {
      "cell_type": "markdown",
      "source": [
        "Next, I define the functions \"train\" and \"test\". \n",
        "\n",
        "In the first one, I am setting \"model.train()\" such that dropout layer is considered when running the model. It iterates over the data iterator to update the parameters of the model: \n",
        "- Gets the german and english sentences.\n",
        "- Set to zero the gradients calculated previously.\n",
        "- Runs the model to obtain the predictions. \n",
        "- It reshapes input and output through .view() to fit the loss function. \n",
        "- Performs backpropagation and clips the gradient to avoind exploding gradients problems.\n",
        "- Updates the parameters through optimizer.step() \n",
        "- Updates epoch_loss\n",
        "\n",
        "Then it returns the epoch_loss averaged over all batches. "
      ],
      "metadata": {
        "id": "eqHntHnLToqE"
      }
    },
    {
      "cell_type": "code",
      "source": [
        "def train(model, iterator, optimizer, loss_function, clip):\n",
        "    model.train()\n",
        "    epoch_loss = 0\n",
        "\n",
        "    for i, batch in enumerate(iterator):    \n",
        "        de = batch.src\n",
        "        en = batch.trg\n",
        "        optimizer.zero_grad()\n",
        "        output = model(de, en)        \n",
        "        output_dim = output.shape[-1]\n",
        "        output = output[1:].view(-1, output_dim)\n",
        "        en = en[1:].view(-1)\n",
        "        loss = loss_function(output, en)\n",
        "        loss.backward()\n",
        "        torch.nn.utils.clip_grad_norm_(model.parameters(), clip)\n",
        "        optimizer.step()\n",
        "        epoch_loss += loss.item()\n",
        "        \n",
        "    return epoch_loss / len(iterator)"
      ],
      "metadata": {
        "id": "OkJ7-CHowioz"
      },
      "execution_count": null,
      "outputs": []
    },
    {
      "cell_type": "markdown",
      "source": [
        "The \"test\" function works similarly to the \"train\" function, however in this case, I set model.eval() such that no parameter optimization and dropout is performed.\n",
        "Furthermore, torch.no_grad() is introduced to avoid the computational cost of performing the gradients calculation."
      ],
      "metadata": {
        "id": "8cIJj1OSUDai"
      }
    },
    {
      "cell_type": "code",
      "source": [
        "def test(model, iterator, loss_function):\n",
        "    model.eval()\n",
        "    epoch_loss = 0\n",
        "\n",
        "    with torch.no_grad():\n",
        "        for i, batch in enumerate(iterator):\n",
        "            de = batch.src\n",
        "            en = batch.trg\n",
        "            output = model(de, en, 0) \n",
        "            output_dim = output.shape[-1]\n",
        "            output = output[1:].view(-1, output_dim)\n",
        "            en = en[1:].view(-1)\n",
        "            loss = loss_function(output, en)\n",
        "            epoch_loss += loss.item()\n",
        "        \n",
        "    return epoch_loss / len(iterator)"
      ],
      "metadata": {
        "id": "Lk88vVGlw1lM"
      },
      "execution_count": null,
      "outputs": []
    },
    {
      "cell_type": "markdown",
      "source": [
        "The following \"translate\" function has the purpose of generating a translation of the german text and it is needed to evaluate the model according to the BLEU score"
      ],
      "metadata": {
        "id": "Rqn7ygYWA3SW"
      }
    },
    {
      "cell_type": "code",
      "source": [
        "def translate(sentence, de_field, en_field, model, device, max = 50):\n",
        "    model.eval()\n",
        "    tokens = [token.lower() for token in sentence]\n",
        "    tokens = [de_field.init_token] + tokens + [de_field.eos_token]\n",
        "    de_idx = [de_field.vocab.stoi[token] for token in tokens]\n",
        "    de_tensor = torch.LongTensor(de_idx).unsqueeze(1).to(device)\n",
        "    \n",
        "    with torch.no_grad():\n",
        "        encoder_outputs, hidden = model.encoder(de_tensor)\n",
        "      \n",
        "    en_idx = [en_field.vocab.stoi[en_field.init_token]]\n",
        "    attentions = torch.zeros(max, 1, len(de_idx)).to(device)\n",
        "    \n",
        "    for i in range(max):\n",
        "        en_tensor = torch.LongTensor([en_idx[-1]]).to(device)\n",
        "                \n",
        "        with torch.no_grad():\n",
        "            output, hidden, attention = model.decoder(en_tensor, hidden, encoder_outputs)\n",
        "\n",
        "        attentions[i] = attention\n",
        "        pred_token = output.argmax(1).item()\n",
        "        en_idx.append(pred_token)\n",
        "\n",
        "        if pred_token == en_field.vocab.stoi[en_field.eos_token]:\n",
        "            break\n",
        "    \n",
        "    en_tokens = [en_field.vocab.itos[i] for i in en_idx]\n",
        "    \n",
        "    return en_tokens[1:], attentions[:len(en_tokens)-1]"
      ],
      "metadata": {
        "id": "FPOumXzRxHti"
      },
      "execution_count": null,
      "outputs": []
    },
    {
      "cell_type": "markdown",
      "source": [
        "The \"bleu\" function allows the computation of the BLEU score, which is a a metric specifically designed to assess the quality of a translation. It checks the overlapping between the actual and predicted english sequences in terms of their n-grams and outputs a score between 0 and a 100 (with a 100 being a perfect translation)"
      ],
      "metadata": {
        "id": "zXP6pJ9OBTBM"
      }
    },
    {
      "cell_type": "code",
      "source": [
        "def bleu(data, de_field, en_field, model, device, max = 50):\n",
        "    ens = []\n",
        "    pred_ens = []\n",
        "\n",
        "    for x in data:\n",
        "        de = vars(x)['src']\n",
        "        en = vars(x)['trg']\n",
        "        pred_en, _ = translate(de, de_field, en_field, model, device, max)\n",
        "        pred_en = pred_en[:-1]\n",
        "        pred_ens.append(pred_en)\n",
        "        ens.append([en])\n",
        "\n",
        "    return bleu_score(pred_ens, ens)"
      ],
      "metadata": {
        "id": "3WjKosMUyBG2"
      },
      "execution_count": null,
      "outputs": []
    },
    {
      "cell_type": "markdown",
      "source": [
        "Here I defined a function to measure the time elapsed between each epoch of the training process"
      ],
      "metadata": {
        "id": "YmHqycR3BVye"
      }
    },
    {
      "cell_type": "code",
      "source": [
        "def count_time(start, end):\n",
        "    elapsed = end - start\n",
        "    mins = int(elapsed / 60)\n",
        "    secs = int(elapsed - (mins * 60))\n",
        "    return mins, secs"
      ],
      "metadata": {
        "id": "Y9vI0EeRyedi"
      },
      "execution_count": null,
      "outputs": []
    },
    {
      "cell_type": "markdown",
      "source": [
        "Finally, I defined the training iteration process of the architecture which evaluates the \"train_loss\" and \"validation_loss\" of each epoch and keeps track of the best parameters configuration according to the validation_loss. \n",
        "\n",
        "It then prints a summary of train/validation loss of each epoch and the correspondent perplexity metric"
      ],
      "metadata": {
        "id": "og3KuA4lUbse"
      }
    },
    {
      "cell_type": "code",
      "source": [
        "epochs , clip, best = 10, 1, float('inf')\n",
        "\n",
        "for epoch in range(epochs):\n",
        "    start = time.time()\n",
        "    train_loss = train(model, train_iterator, optimizer, loss_function, clip)\n",
        "    validation_loss = test(model, validation_iterator, loss_function)\n",
        "    end = time.time()\n",
        "    mins, secs = count_time(start, end)\n",
        "    \n",
        "    if validation_loss < best:\n",
        "        best = validation_loss\n",
        "        torch.save(model.state_dict(), 'GRU(Attention)-model.pt')\n",
        "    \n",
        "    print(f'Epoch: {epoch + 1}, Time: {mins}m {secs}s')\n",
        "    print(f'Train Loss: {train_loss:.3f}, Validation Loss: {validation_loss:.3f} ')\n",
        "    print(f'Train PPL: {math.exp(train_loss):7.3f}, Validation PPL: {math.exp(validation_loss):7.3f}\\n')"
      ],
      "metadata": {
        "colab": {
          "base_uri": "https://localhost:8080/"
        },
        "id": "bA5TIbWayWPQ",
        "outputId": "2cc3396c-985d-4327-9fa2-588d32c26ae9"
      },
      "execution_count": null,
      "outputs": [
        {
          "output_type": "stream",
          "name": "stdout",
          "text": [
            "Epoch: 1, Time: 0m 58s\n",
            "Train Loss: 5.017, Validation Loss: 4.791 \n",
            "Train PPL: 150.918, Validation PPL: 120.401\n",
            "\n",
            "Epoch: 2, Time: 0m 57s\n",
            "Train Loss: 4.099, Validation Loss: 4.272 \n",
            "Train PPL:  60.306, Validation PPL:  71.636\n",
            "\n",
            "Epoch: 3, Time: 0m 57s\n",
            "Train Loss: 3.390, Validation Loss: 3.717 \n",
            "Train PPL:  29.680, Validation PPL:  41.132\n",
            "\n",
            "Epoch: 4, Time: 0m 58s\n",
            "Train Loss: 2.856, Validation Loss: 3.351 \n",
            "Train PPL:  17.386, Validation PPL:  28.537\n",
            "\n",
            "Epoch: 5, Time: 0m 57s\n",
            "Train Loss: 2.497, Validation Loss: 3.227 \n",
            "Train PPL:  12.140, Validation PPL:  25.202\n",
            "\n",
            "Epoch: 6, Time: 0m 58s\n",
            "Train Loss: 2.180, Validation Loss: 3.249 \n",
            "Train PPL:   8.848, Validation PPL:  25.760\n",
            "\n",
            "Epoch: 7, Time: 0m 57s\n",
            "Train Loss: 1.940, Validation Loss: 3.209 \n",
            "Train PPL:   6.962, Validation PPL:  24.747\n",
            "\n",
            "Epoch: 8, Time: 0m 57s\n",
            "Train Loss: 1.740, Validation Loss: 3.223 \n",
            "Train PPL:   5.695, Validation PPL:  25.113\n",
            "\n",
            "Epoch: 9, Time: 0m 57s\n",
            "Train Loss: 1.598, Validation Loss: 3.330 \n",
            "Train PPL:   4.943, Validation PPL:  27.946\n",
            "\n",
            "Epoch: 10, Time: 0m 58s\n",
            "Train Loss: 1.464, Validation Loss: 3.278 \n",
            "Train PPL:   4.321, Validation PPL:  26.523\n",
            "\n"
          ]
        }
      ]
    },
    {
      "cell_type": "markdown",
      "source": [
        "In the following cells, I evaluate the performance of the trained architecture on an unseen sample test and compute its BLEU score"
      ],
      "metadata": {
        "id": "8rDLlWmfBZSV"
      }
    },
    {
      "cell_type": "code",
      "source": [
        "model.load_state_dict(torch.load('GRU(Attention)-model.pt'))\n",
        "test_loss = test(model, test_iterator, loss_function)\n",
        "print(f'Test Loss: {test_loss:.3f}, Test PPL: {math.exp(test_loss):7.3f}')"
      ],
      "metadata": {
        "id": "OKhfJH7FzCm6",
        "colab": {
          "base_uri": "https://localhost:8080/"
        },
        "outputId": "6e8bd69f-2ed9-4449-f604-2ae4d905f88d"
      },
      "execution_count": null,
      "outputs": [
        {
          "output_type": "stream",
          "name": "stdout",
          "text": [
            "Test Loss: 3.180, Test PPL:  24.037\n"
          ]
        }
      ]
    },
    {
      "cell_type": "code",
      "source": [
        "bleu_score = bleu(test_data, DE, EN, model, device)\n",
        "print(f'BLEU score: {bleu_score*100:.2f}')"
      ],
      "metadata": {
        "colab": {
          "base_uri": "https://localhost:8080/"
        },
        "id": "xe2L6R8izIlb",
        "outputId": "73e810a7-e7d3-4d84-c33f-d8e62dd511c9"
      },
      "execution_count": null,
      "outputs": [
        {
          "output_type": "stream",
          "name": "stdout",
          "text": [
            "BLEU score: 30.54\n"
          ]
        }
      ]
    }
  ]
}